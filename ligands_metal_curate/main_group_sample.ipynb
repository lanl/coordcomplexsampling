{
 "cells": [
  {
   "cell_type": "code",
   "execution_count": 8,
   "id": "8584c88a",
   "metadata": {},
   "outputs": [],
   "source": [
    "import mendeleev\n",
    "from architector import io_ptable\n",
    "import pandas as pd"
   ]
  },
  {
   "cell_type": "code",
   "execution_count": 3,
   "id": "75505f25",
   "metadata": {},
   "outputs": [],
   "source": [
    "main_group_metals = ['Ge', 'Se', 'Te', 'Sb', 'As']"
   ]
  },
  {
   "cell_type": "code",
   "execution_count": 5,
   "id": "6f82180a",
   "metadata": {},
   "outputs": [
    {
     "data": {
      "text/plain": [
       "[-2, 2, 4, 6]"
      ]
     },
     "execution_count": 5,
     "metadata": {},
     "output_type": "execute_result"
    }
   ],
   "source": [
    "mendeleev.element('Te').oxidation_states()"
   ]
  },
  {
   "cell_type": "code",
   "execution_count": null,
   "id": "1b51dd7f",
   "metadata": {},
   "outputs": [],
   "source": [
    "rows = []\n",
    "# Lower coordination numbers for lower oxidation states\n",
    "lower_cns = [2,3,4]\n",
    "all_cns = [2,3,4,5,6]\n",
    "for mg in main_group_metals:\n",
    "    for ox in mendeleev.element(mg).oxidation_states():\n",
    "        # Only take oxidation states gt or eq to 0.\n",
    "        if ox >= 0:\n",
    "            trow = {}\n",
    "            trow['metal'] = mg\n",
    "            trow['ox'] = ox\n",
    "            if ox > 2:\n",
    "                trow['coreCNs'] = all_cns\n",
    "            else:\n",
    "                trow['coreCNs'] = lower_cns\n",
    "            rows.append(trow)"
   ]
  },
  {
   "cell_type": "code",
   "execution_count": 10,
   "id": "60fcfa37",
   "metadata": {},
   "outputs": [],
   "source": [
    "df = pd.DataFrame(rows)"
   ]
  },
  {
   "cell_type": "code",
   "execution_count": 11,
   "id": "c8b1a9e8",
   "metadata": {},
   "outputs": [],
   "source": [
    "df.to_pickle('main_group_as_metals.pkl')"
   ]
  },
  {
   "cell_type": "code",
   "execution_count": 12,
   "id": "fd8b35ca",
   "metadata": {},
   "outputs": [
    {
     "data": {
      "text/html": [
       "<div>\n",
       "<style scoped>\n",
       "    .dataframe tbody tr th:only-of-type {\n",
       "        vertical-align: middle;\n",
       "    }\n",
       "\n",
       "    .dataframe tbody tr th {\n",
       "        vertical-align: top;\n",
       "    }\n",
       "\n",
       "    .dataframe thead th {\n",
       "        text-align: right;\n",
       "    }\n",
       "</style>\n",
       "<table border=\"1\" class=\"dataframe\">\n",
       "  <thead>\n",
       "    <tr style=\"text-align: right;\">\n",
       "      <th></th>\n",
       "      <th>metal</th>\n",
       "      <th>ox</th>\n",
       "      <th>coreCNs</th>\n",
       "    </tr>\n",
       "  </thead>\n",
       "  <tbody>\n",
       "    <tr>\n",
       "      <th>0</th>\n",
       "      <td>Ge</td>\n",
       "      <td>2</td>\n",
       "      <td>[2, 3, 4]</td>\n",
       "    </tr>\n",
       "    <tr>\n",
       "      <th>1</th>\n",
       "      <td>Ge</td>\n",
       "      <td>4</td>\n",
       "      <td>[2, 3, 4, 5, 6]</td>\n",
       "    </tr>\n",
       "    <tr>\n",
       "      <th>2</th>\n",
       "      <td>Se</td>\n",
       "      <td>2</td>\n",
       "      <td>[2, 3, 4]</td>\n",
       "    </tr>\n",
       "    <tr>\n",
       "      <th>3</th>\n",
       "      <td>Se</td>\n",
       "      <td>4</td>\n",
       "      <td>[2, 3, 4, 5, 6]</td>\n",
       "    </tr>\n",
       "    <tr>\n",
       "      <th>4</th>\n",
       "      <td>Se</td>\n",
       "      <td>6</td>\n",
       "      <td>[2, 3, 4, 5, 6]</td>\n",
       "    </tr>\n",
       "    <tr>\n",
       "      <th>5</th>\n",
       "      <td>Te</td>\n",
       "      <td>2</td>\n",
       "      <td>[2, 3, 4]</td>\n",
       "    </tr>\n",
       "    <tr>\n",
       "      <th>6</th>\n",
       "      <td>Te</td>\n",
       "      <td>4</td>\n",
       "      <td>[2, 3, 4, 5, 6]</td>\n",
       "    </tr>\n",
       "    <tr>\n",
       "      <th>7</th>\n",
       "      <td>Te</td>\n",
       "      <td>6</td>\n",
       "      <td>[2, 3, 4, 5, 6]</td>\n",
       "    </tr>\n",
       "    <tr>\n",
       "      <th>8</th>\n",
       "      <td>Sb</td>\n",
       "      <td>3</td>\n",
       "      <td>[2, 3, 4, 5, 6]</td>\n",
       "    </tr>\n",
       "    <tr>\n",
       "      <th>9</th>\n",
       "      <td>Sb</td>\n",
       "      <td>5</td>\n",
       "      <td>[2, 3, 4, 5, 6]</td>\n",
       "    </tr>\n",
       "    <tr>\n",
       "      <th>10</th>\n",
       "      <td>As</td>\n",
       "      <td>3</td>\n",
       "      <td>[2, 3, 4, 5, 6]</td>\n",
       "    </tr>\n",
       "    <tr>\n",
       "      <th>11</th>\n",
       "      <td>As</td>\n",
       "      <td>5</td>\n",
       "      <td>[2, 3, 4, 5, 6]</td>\n",
       "    </tr>\n",
       "  </tbody>\n",
       "</table>\n",
       "</div>"
      ],
      "text/plain": [
       "   metal  ox          coreCNs\n",
       "0     Ge   2        [2, 3, 4]\n",
       "1     Ge   4  [2, 3, 4, 5, 6]\n",
       "2     Se   2        [2, 3, 4]\n",
       "3     Se   4  [2, 3, 4, 5, 6]\n",
       "4     Se   6  [2, 3, 4, 5, 6]\n",
       "5     Te   2        [2, 3, 4]\n",
       "6     Te   4  [2, 3, 4, 5, 6]\n",
       "7     Te   6  [2, 3, 4, 5, 6]\n",
       "8     Sb   3  [2, 3, 4, 5, 6]\n",
       "9     Sb   5  [2, 3, 4, 5, 6]\n",
       "10    As   3  [2, 3, 4, 5, 6]\n",
       "11    As   5  [2, 3, 4, 5, 6]"
      ]
     },
     "execution_count": 12,
     "metadata": {},
     "output_type": "execute_result"
    }
   ],
   "source": [
    "df"
   ]
  },
  {
   "cell_type": "code",
   "execution_count": null,
   "id": "626466a4",
   "metadata": {},
   "outputs": [],
   "source": []
  }
 ],
 "metadata": {
  "kernelspec": {
   "display_name": "base",
   "language": "python",
   "name": "python3"
  },
  "language_info": {
   "codemirror_mode": {
    "name": "ipython",
    "version": 3
   },
   "file_extension": ".py",
   "mimetype": "text/x-python",
   "name": "python",
   "nbconvert_exporter": "python",
   "pygments_lexer": "ipython3",
   "version": "3.12.9"
  }
 },
 "nbformat": 4,
 "nbformat_minor": 5
}
