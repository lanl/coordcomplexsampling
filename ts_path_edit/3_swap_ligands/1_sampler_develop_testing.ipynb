{
 "cells": [
  {
   "cell_type": "markdown",
   "metadata": {},
   "source": [
    "## Targets from README.md\n",
    "5. Create routine for sampling reproducibly from metal/ligand swaps. (Sample from 1-n ligands to swap, sample from metal swap)\n",
    "6. Create routine for implementing a selected metal/ligand swap. Swap metal(s). Update complex spin/charge. Delete ligand atoms from selected ligands to swap - ideally, save metal-coordination locations. Add ligands + create bonds - in 3D. See where UFF takes us. Maybe do constrained XTB relaxation.\n",
    "7. Check indices of the newly generated reactions. They shouldn't be messed with. Check the 3D structures generated that not overlapping.\n",
    "\n",
    "Max number of atoms is 100. -> Done\n",
    "Perform distance Sanity Checks. -> Done"
   ]
  },
  {
   "cell_type": "code",
   "execution_count": 1,
   "metadata": {},
   "outputs": [],
   "source": [
    "import pandas as pd\n",
    "from architector import view_structures, convert_io_molecule\n",
    "from tqdm import tqdm\n",
    "import numpy as np\n",
    "np.random.seed(42)"
   ]
  },
  {
   "cell_type": "code",
   "execution_count": 2,
   "metadata": {},
   "outputs": [],
   "source": [
    "metal_swap_df = pd.read_csv('../2_inspect_rxns/rxn_m_swap_df.csv')\n",
    "ligand_swap_df = pd.read_pickle('../2_inspect_rxns/rxn_ligands.pkl')\n",
    "rxn_df = pd.read_pickle('sample_ready_rnxs.pkl')"
   ]
  },
  {
   "cell_type": "code",
   "execution_count": 3,
   "metadata": {},
   "outputs": [
    {
     "data": {
      "text/plain": [
       "Unnamed: 0     0\n",
       "metal         La\n",
       "ox             3\n",
       "uhf            0\n",
       "Name: 0, dtype: object"
      ]
     },
     "execution_count": 3,
     "metadata": {},
     "output_type": "execute_result"
    }
   ],
   "source": [
    "metal_swap_df.iloc[0]"
   ]
  },
  {
   "cell_type": "code",
   "execution_count": 4,
   "metadata": {},
   "outputs": [
    {
     "data": {
      "text/plain": [
       "uid                                                 [Te-]c1ccccc10\n",
       "smiles                                               [Te-]c1ccccc1\n",
       "coordList                                                      [0]\n",
       "coord_atom_symols                                               Te\n",
       "coord_atom_types                                                Te\n",
       "non_coord_atom_symbols                       C,C,C,C,C,C,H,H,H,H,H\n",
       "non_coord_atom_types       C.ar,C.ar,C.ar,C.ar,C.ar,C.ar,H,H,H,H,H\n",
       "charge                                                          -1\n",
       "denticity                                                        1\n",
       "metal_ox_bound                                                Cu,1\n",
       "frequency                                                       59\n",
       "selected_coord_type                                             Te\n",
       "selected_non_coord_type                                       None\n",
       "natoms                                                          12\n",
       "Name: 0, dtype: object"
      ]
     },
     "execution_count": 4,
     "metadata": {},
     "output_type": "execute_result"
    }
   ],
   "source": [
    "ligand_swap_df.iloc[0]"
   ]
  },
  {
   "cell_type": "code",
   "execution_count": 5,
   "metadata": {},
   "outputs": [
    {
     "data": {
      "text/plain": [
       "[{'smiles': '[C-]#[O+]',\n",
       "  'inds': array([5, 6]),\n",
       "  'coordlist': [0],\n",
       "  'denticity': 1,\n",
       "  'metals_bound': [2],\n",
       "  'charge': 0},\n",
       " {'smiles': '[C-]#[O+]',\n",
       "  'inds': array([7, 8]),\n",
       "  'coordlist': [0],\n",
       "  'denticity': 1,\n",
       "  'metals_bound': [2],\n",
       "  'charge': 0}]"
      ]
     },
     "execution_count": 5,
     "metadata": {},
     "output_type": "execute_result"
    }
   ],
   "source": [
    "rxn_df.iloc[0]['swappable_ligs']"
   ]
  },
  {
   "cell_type": "code",
   "execution_count": 6,
   "metadata": {},
   "outputs": [
    {
     "data": {
      "text/plain": [
       "Reaction_name                                                      MOR1\n",
       "Reactant(s)                                                     ED01+CO\n",
       "Product(s)                                                         PR01\n",
       "sdf_path                                 ../reaction_complexes/MOR1.sdf\n",
       "metals                                                             [Cr]\n",
       "metal_inds                                                          [2]\n",
       "possible_metal_oxs                                             [[2, 3]]\n",
       "init_struct           charge=0\\n     RDKit          3D\\n\\n  0  0  0 ...\n",
       "final_struct          charge=0\\n     RDKit          3D\\n\\n  0  0  0 ...\n",
       "swappable_ligs        [{'smiles': '[C-]#[O+]', 'inds': [5, 6], 'coor...\n",
       "pred_lig_charges                                     [0, 0, 0, 0, 0, 0]\n",
       "pred_lig_smis         [C#[O], [C-]#[O+], [C-]#[O+], [C-]#[O+], [C-]#...\n",
       "total_lig_charges                                                     0\n",
       "Name: 0, dtype: object"
      ]
     },
     "execution_count": 6,
     "metadata": {},
     "output_type": "execute_result"
    }
   ],
   "source": [
    "rxn_df.iloc[0]"
   ]
  },
  {
   "cell_type": "code",
   "execution_count": 7,
   "metadata": {},
   "outputs": [
    {
     "name": "stdout",
     "output_type": "stream",
     "text": [
      "1149169\n"
     ]
    }
   ],
   "source": [
    "# Enumerate possibilites\n",
    "total_count = 0\n",
    "possible_n_swaps = []\n",
    "possible_m_swaps = []\n",
    "possibe_lig_swaps = []\n",
    "for i,rxn in rxn_df.iterrows():\n",
    "    metal_oxs = rxn['possible_metal_oxs']\n",
    "    n_metal_swaps = 1\n",
    "    for oxs in metal_oxs:\n",
    "        n = 0\n",
    "        for ox in oxs:\n",
    "            n += len(metal_swap_df[metal_swap_df.ox == ox])\n",
    "        n_metal_swaps *= n\n",
    "    n_lig_swaps = 0\n",
    "    for swap in rxn['swappable_ligs']:\n",
    "        dent = swap['denticity']\n",
    "        charge = swap['charge']\n",
    "        n_lig_swaps += len(ligand_swap_df[(ligand_swap_df.charge == charge) & (ligand_swap_df.denticity == dent)])\n",
    "    if n_lig_swaps > 0:\n",
    "        nswaps = n_metal_swaps*n_lig_swaps\n",
    "    else:\n",
    "        nswaps = n_metal_swaps\n",
    "    possible_n_swaps.append(nswaps)\n",
    "    possible_m_swaps.append(n_metal_swaps)\n",
    "    possibe_lig_swaps.append(n_lig_swaps)\n",
    "    total_count += nswaps\n",
    "rxn_df['possible_n_swaps'] = possible_n_swaps\n",
    "rxn_df['possible_m_swaps'] = possible_m_swaps\n",
    "rxn_df['possible_lig_swaps'] = possibe_lig_swaps\n",
    "print(total_count)"
   ]
  },
  {
   "cell_type": "code",
   "execution_count": 8,
   "metadata": {},
   "outputs": [
    {
     "data": {
      "text/plain": [
       "Reaction_name                                                      MOR1\n",
       "Reactant(s)                                                     ED01+CO\n",
       "Product(s)                                                         PR01\n",
       "sdf_path                                 ../reaction_complexes/MOR1.sdf\n",
       "metals                                                             [Cr]\n",
       "metal_inds                                                          [2]\n",
       "possible_metal_oxs                                             [[2, 3]]\n",
       "init_struct           charge=0\\n     RDKit          3D\\n\\n  0  0  0 ...\n",
       "final_struct          charge=0\\n     RDKit          3D\\n\\n  0  0  0 ...\n",
       "swappable_ligs        [{'smiles': '[C-]#[O+]', 'inds': [5, 6], 'coor...\n",
       "pred_lig_charges                                     [0, 0, 0, 0, 0, 0]\n",
       "pred_lig_smis         [C#[O], [C-]#[O+], [C-]#[O+], [C-]#[O+], [C-]#...\n",
       "total_lig_charges                                                     0\n",
       "possible_n_swaps                                                   8162\n",
       "possible_m_swaps                                                     53\n",
       "possible_lig_swaps                                                  154\n",
       "Name: 0, dtype: object"
      ]
     },
     "execution_count": 8,
     "metadata": {},
     "output_type": "execute_result"
    }
   ],
   "source": [
    "rxn_df.iloc[0]"
   ]
  },
  {
   "cell_type": "code",
   "execution_count": 9,
   "metadata": {},
   "outputs": [
    {
     "name": "stdout",
     "output_type": "stream",
     "text": [
      "(31, 16)\n"
     ]
    },
    {
     "data": {
      "text/plain": [
       "np.int64(1436)"
      ]
     },
     "execution_count": 9,
     "metadata": {},
     "output_type": "execute_result"
    }
   ],
   "source": [
    "# Generate, but hold out no ligand swaps\n",
    "print(rxn_df[rxn_df.possible_lig_swaps == 0].shape)\n",
    "rxn_df[rxn_df.possible_lig_swaps == 0].possible_n_swaps.sum()"
   ]
  },
  {
   "cell_type": "code",
   "execution_count": 10,
   "metadata": {},
   "outputs": [
    {
     "data": {
      "text/plain": [
       "(48, 16)"
      ]
     },
     "execution_count": 10,
     "metadata": {},
     "output_type": "execute_result"
    }
   ],
   "source": [
    "rxn_df[rxn_df.possible_n_swaps < 200000/125].shape"
   ]
  },
  {
   "cell_type": "code",
   "execution_count": 11,
   "metadata": {},
   "outputs": [],
   "source": [
    "enumerate_df = rxn_df[rxn_df.possible_n_swaps < 200000/125]\n",
    "sample_df = rxn_df[rxn_df.possible_n_swaps >= 200000/125]"
   ]
  },
  {
   "cell_type": "code",
   "execution_count": 12,
   "metadata": {},
   "outputs": [
    {
     "data": {
      "text/plain": [
       "np.int64(16936)"
      ]
     },
     "execution_count": 12,
     "metadata": {},
     "output_type": "execute_result"
    }
   ],
   "source": [
    "# Total possibilites for enumerated dataframe\n",
    "enumerate_df.possible_n_swaps.sum()"
   ]
  },
  {
   "cell_type": "code",
   "execution_count": 13,
   "metadata": {},
   "outputs": [
    {
     "data": {
      "text/plain": [
       "Reaction_name                                                     MOR22\n",
       "Reactant(s)                                                     ED22+I2\n",
       "Product(s)                                                         PR22\n",
       "sdf_path                                ../reaction_complexes/MOR22.sdf\n",
       "metals                                                         [Ir, Ir]\n",
       "metal_inds                                                       [2, 3]\n",
       "possible_metal_oxs                                           [[3], [3]]\n",
       "init_struct           charge=0\\n     RDKit          3D\\n\\n  0  0  0 ...\n",
       "final_struct          charge=0\\n     RDKit          3D\\n\\n  0  0  0 ...\n",
       "swappable_ligs        [{'smiles': '[S-]C(C)(C)C', 'inds': [4, 8, 10,...\n",
       "pred_lig_charges                                [0, -1, -1, 0, 0, 0, 0]\n",
       "pred_lig_smis         [II, [S-]C(C)(C)C, [S-]C(C)(C)C, [C-]#[O+], [C...\n",
       "total_lig_charges                                                    -2\n",
       "possible_n_swaps                                                 166912\n",
       "possible_m_swaps                                                   1024\n",
       "possible_lig_swaps                                                  163\n",
       "Name: 21, dtype: object"
      ]
     },
     "execution_count": 13,
     "metadata": {},
     "output_type": "execute_result"
    }
   ],
   "source": [
    "rxn_df.iloc[21]"
   ]
  },
  {
   "cell_type": "code",
   "execution_count": 14,
   "metadata": {},
   "outputs": [],
   "source": [
    "def enumerate_all_rxns(rxn, max_natoms=100):\n",
    "    ## Test on 0 (works), 10 (done), 21 (done), 40 (done), 102\n",
    "    # max_natoms = 100\n",
    "    # n = 102\n",
    "    # rxn = rxn_df.iloc[n]\n",
    "    print('Possible',rxn['possible_n_swaps'])\n",
    "    swap_dicts = []\n",
    "    done_uuids = []\n",
    "    too_large = []\n",
    "    # init_mol = convert_io_molecule(rxn['init_struct'])\n",
    "    # final_mol = convert_io_molecule(rxn['final_struct'])\n",
    "    metal_oxs = np.concat(rxn['possible_metal_oxs']).reshape(-1)\n",
    "    natoms_init = len(convert_io_molecule(rxn['init_struct']).ase_atoms)\n",
    "    with tqdm(total=rxn['possible_n_swaps']) as pbar:\n",
    "        if len(rxn['metal_inds']) == 1:\n",
    "            mind1 = rxn['metal_inds'][0]\n",
    "            i = 0\n",
    "            for ox in rxn['possible_metal_oxs'][i]:\n",
    "                tmswaps = metal_swap_df[metal_swap_df.ox == ox]\n",
    "                for _, mrow in tmswaps.iterrows():\n",
    "                    total_charge = mrow['ox'] + np.sum(rxn['pred_lig_charges'])\n",
    "                    metal = mrow['metal']\n",
    "                    total_uhf = mrow['uhf']\n",
    "                    if len(rxn['swappable_ligs']) > 0:\n",
    "                        for j,swap in enumerate(rxn['swappable_ligs']):\n",
    "                            dent = swap['denticity']\n",
    "                            charge = swap['charge']\n",
    "                            swaprows = ligand_swap_df[(ligand_swap_df.charge == charge) & (ligand_swap_df.denticity == dent)]\n",
    "                            for k,row in swaprows.iterrows():\n",
    "                                # Check atoms\n",
    "                                temp_natoms = natoms_init - len(swap['inds']) + row['natoms']\n",
    "                                uuid = '_'.join(\n",
    "                                    [rxn['Reaction_name'],\n",
    "                                    metal+str(ox),\n",
    "                                    'Charge'+str(total_charge),\n",
    "                                    'UHF'+str(total_uhf),\n",
    "                                    'swaplig',\n",
    "                                    str(j),\n",
    "                                    'newlig',\n",
    "                                    row['uid']])\n",
    "                                # Don't do done, check total atoms.\n",
    "                                uuid = \"\".join(c for c in uuid if c.isalpha() or c.isdigit() or c==' ' or c=='_').rstrip()\n",
    "                                if (uuid in done_uuids) or (temp_natoms > max_natoms):\n",
    "                                    too_large.append((row['smiles'],row['natoms']))\n",
    "                                    pbar.update(1)\n",
    "                                    pass\n",
    "                                else:\n",
    "                                    if (len(swap['metals_bound']) < dent) and (len(swap['metals_bound']) == 1):\n",
    "                                        swap['metals_bound'] = [swap['metals_bound'][0] for x in range(dent)]\n",
    "                                    done_uuids.append(uuid)\n",
    "                                    outdict = {\n",
    "                                        'rxn_uid':uuid,\n",
    "                                        'rxn_name':rxn['Reaction_name'],\n",
    "                                        'reactants':rxn['Reactant(s)'],\n",
    "                                        'products':rxn['Product(s)'],\n",
    "                                        'init_sdf':rxn['init_struct'],\n",
    "                                        'final_sdf':rxn['final_struct'],\n",
    "                                        'metal_inds':[mind1],\n",
    "                                        'metal_syms':[metal],\n",
    "                                        'metal_oxs':[ox],\n",
    "                                        'total_charge':total_charge,\n",
    "                                        'total_uhf':total_uhf,\n",
    "                                        'swap_remove_inds':swap['inds'],\n",
    "                                        'swap_functional_groups':[row['smiles']],\n",
    "                                        'swap_functionalization_inds':[swap['metals_bound']],\n",
    "                                        'swap_functional_group_mol_inds':[row['coordList']],\n",
    "                                        'swap_bond_orders':[[1 for x in row['coordList']]],\n",
    "                                        'swap_remove_hydrogens_when_adding':[[False for x in row['coordList']]],\n",
    "                                        'swap_xtb_opt':False\n",
    "                                    }\n",
    "                                    swap_dicts.append(outdict)\n",
    "                                    pbar.update(1)\n",
    "                    else: # No swappable ligands.\n",
    "                        uuid = '_'.join(\n",
    "                                    [rxn['Reaction_name'],\n",
    "                                    metal+str(ox),\n",
    "                                    'Charge'+str(total_charge),\n",
    "                                    'UHF'+str(total_uhf),\n",
    "                                    'swaplig',\n",
    "                                    'None',\n",
    "                                    'newlig',\n",
    "                                    'None'])\n",
    "                                # Don't do done, check total atoms.\n",
    "                        uuid = \"\".join(c for c in uuid if c.isalpha() or c.isdigit() or c==' ' or c=='_').rstrip()\n",
    "                        if (uuid in done_uuids):\n",
    "                            pbar.update(1)\n",
    "                            pass\n",
    "                        else:\n",
    "                            done_uuids.append(uuid)\n",
    "                            outdict = {\n",
    "                                'rxn_uid':uuid,\n",
    "                                'rxn_name':rxn['Reaction_name'],\n",
    "                                'reactants':rxn['Reactant(s)'],\n",
    "                                'products':rxn['Product(s)'],\n",
    "                                'init_sdf':rxn['init_struct'],\n",
    "                                'final_sdf':rxn['final_struct'],\n",
    "                                'metal_inds':[mind1],\n",
    "                                'metal_syms':[metal],\n",
    "                                'metal_oxs':[ox],\n",
    "                                'total_charge':total_charge,\n",
    "                                'total_uhf':total_uhf,\n",
    "                                'swap_remove_inds':None,\n",
    "                                'swap_functional_groups':None,\n",
    "                                'swap_functionalization_inds':None,\n",
    "                                'swap_functional_group_mol_inds':None,\n",
    "                                'swap_bond_orders':None,\n",
    "                                'swap_remove_hydrogens_when_adding':None,\n",
    "                                'swap_xtb_opt':None\n",
    "                            }\n",
    "                            swap_dicts.append(outdict)\n",
    "                            pbar.update(1)\n",
    "        else:\n",
    "            mind1 = rxn['metal_inds'][0]\n",
    "            mind2 = rxn['metal_inds'][1]\n",
    "            i = 0\n",
    "            for ox1 in rxn['possible_metal_oxs'][0]:\n",
    "                for ox2 in rxn['possible_metal_oxs'][1]:\n",
    "                    tmswaps1 = metal_swap_df[metal_swap_df.ox == ox1]\n",
    "                    tmswaps2 =  metal_swap_df[metal_swap_df.ox == ox2]\n",
    "                    for _, mrow1 in tmswaps1.iterrows():\n",
    "                        for _, mrow2 in tmswaps2.iterrows():\n",
    "                            total_charge = mrow1['ox'] + np.sum(rxn['pred_lig_charges']) + mrow2['ox']\n",
    "                            metal1 = mrow1['metal']\n",
    "                            metal2 = mrow2['metal']\n",
    "                            total_uhf = mrow1['uhf'] + mrow2['uhf']\n",
    "                            if len(rxn['swappable_ligs']) > 0:\n",
    "                                for j,swap in enumerate(rxn['swappable_ligs']):\n",
    "                                    dent = swap['denticity']\n",
    "                                    charge = swap['charge']\n",
    "                                    swaprows = ligand_swap_df[(ligand_swap_df.charge == charge) & (ligand_swap_df.denticity == dent)]\n",
    "                                    for k,row in swaprows.iterrows():\n",
    "                                        # Check atoms\n",
    "                                        temp_natoms = natoms_init - len(swap['inds']) + row['natoms']\n",
    "                                        uuid = '_'.join(\n",
    "                                            [rxn['Reaction_name'],\n",
    "                                            metal1+str(ox1)+metal2+str(ox2),\n",
    "                                            'Charge'+str(total_charge),\n",
    "                                            'UHF'+str(total_uhf),\n",
    "                                            'swaplig',\n",
    "                                            str(j),\n",
    "                                            'newlig',\n",
    "                                            row['uid']])\n",
    "                                        # Don't do done, check total atoms.\n",
    "                                        uuid = \"\".join(c for c in uuid if c.isalpha() or c.isdigit() or c==' ' or c=='_').rstrip()\n",
    "                                        if (uuid in done_uuids) or (temp_natoms > max_natoms):\n",
    "                                            too_large.append((row['smiles'],row['natoms']))\n",
    "                                            pbar.update(1)\n",
    "                                            pass\n",
    "                                        else:\n",
    "                                            if (len(swap['metals_bound']) < dent) and (len(swap['metals_bound']) == 1):\n",
    "                                                swap['metals_bound'] = [swap['metals_bound'][0] for x in range(dent)]\n",
    "                                            elif (len(row['coordList']) < len(swap['metals_bound'])): # Bound to metals added\n",
    "                                                row['coordList'] = [row['coordList'][0] for x in range(len(swap['metals_bound']))]\n",
    "                                            done_uuids.append(uuid)\n",
    "                                            outdict = {\n",
    "                                                'rxn_uid':uuid,\n",
    "                                                'rxn_name':rxn['Reaction_name'],\n",
    "                                                'reactants':rxn['Reactant(s)'],\n",
    "                                                'products':rxn['Product(s)'],\n",
    "                                                'init_sdf':rxn['init_struct'],\n",
    "                                                'final_sdf':rxn['final_struct'],\n",
    "                                                'metal_inds':[mind1,mind2],\n",
    "                                                'metal_syms':[metal1,metal2],\n",
    "                                                'metal_oxs':[ox1,ox2],\n",
    "                                                'total_charge':total_charge,\n",
    "                                                'total_uhf':total_uhf,\n",
    "                                                'swap_remove_inds':swap['inds'],\n",
    "                                                'swap_functional_groups':[row['smiles']],\n",
    "                                                'swap_functionalization_inds':[swap['metals_bound']],\n",
    "                                                'swap_functional_group_mol_inds':[row['coordList']],\n",
    "                                                'swap_bond_orders':[[1 for x in row['coordList']]],\n",
    "                                                'swap_remove_hydrogens_when_adding':[[False for x in row['coordList']]],\n",
    "                                                'swap_xtb_opt':False\n",
    "                                            }\n",
    "                                            swap_dicts.append(outdict)\n",
    "                                            pbar.update(1)\n",
    "                            else: # No swappable ligands.\n",
    "                                uuid = '_'.join(\n",
    "                                            [rxn['Reaction_name'],\n",
    "                                            metal1+str(ox1)+metal2+str(ox2),\n",
    "                                            'Charge'+str(total_charge),\n",
    "                                            'UHF'+str(total_uhf),\n",
    "                                            'swaplig',\n",
    "                                            'None',\n",
    "                                            'newlig',\n",
    "                                            'None'])\n",
    "                                        # Don't do done, check total atoms.\n",
    "                                uuid = \"\".join(c for c in uuid if c.isalpha() or c.isdigit() or c==' ' or c=='_').rstrip()\n",
    "                                if (uuid in done_uuids):\n",
    "                                    pbar.update(1)\n",
    "                                    pass\n",
    "                                else:\n",
    "                                    done_uuids.append(uuid)\n",
    "                                    outdict = {\n",
    "                                        'rxn_uid':uuid,\n",
    "                                        'rxn_name':rxn['Reaction_name'],\n",
    "                                        'reactants':rxn['Reactant(s)'],\n",
    "                                        'products':rxn['Product(s)'],\n",
    "                                        'init_sdf':rxn['init_struct'],\n",
    "                                        'final_sdf':rxn['final_struct'],\n",
    "                                        'metal_inds':[mind1,mind2],\n",
    "                                        'metal_syms':[metal1,metal2],\n",
    "                                        'metal_oxs':[ox1,ox2],\n",
    "                                        'total_charge':total_charge,\n",
    "                                        'total_uhf':total_uhf,\n",
    "                                        'swap_remove_inds':None,\n",
    "                                        'swap_functional_groups':None,\n",
    "                                        'swap_functionalization_inds':None,\n",
    "                                        'swap_functional_group_mol_inds':None,\n",
    "                                        'swap_bond_orders':None,\n",
    "                                        'swap_remove_hydrogens_when_adding':None,\n",
    "                                        'swap_xtb_opt':None\n",
    "                                    }\n",
    "                                    pbar.update(1)\n",
    "                                    swap_dicts.append(outdict)\n",
    "    print('Number populated',len(swap_dicts))\n",
    "    return pd.DataFrame(swap_dicts)"
   ]
  },
  {
   "cell_type": "code",
   "execution_count": 15,
   "metadata": {},
   "outputs": [],
   "source": [
    "mol = convert_io_molecule('CCCC')\n"
   ]
  },
  {
   "cell_type": "code",
   "execution_count": 16,
   "metadata": {},
   "outputs": [
    {
     "name": "stdout",
     "output_type": "stream",
     "text": [
      "\u001b[0;31mSignature:\u001b[0m\n",
      "\u001b[0mmol\u001b[0m\u001b[0;34m.\u001b[0m\u001b[0mdist_sanity_checks\u001b[0m\u001b[0;34m(\u001b[0m\u001b[0;34m\u001b[0m\n",
      "\u001b[0;34m\u001b[0m    \u001b[0msmallest_dist_cutoff\u001b[0m\u001b[0;34m=\u001b[0m\u001b[0;36m0.55\u001b[0m\u001b[0;34m,\u001b[0m\u001b[0;34m\u001b[0m\n",
      "\u001b[0;34m\u001b[0m    \u001b[0mmin_dist_cutoff\u001b[0m\u001b[0;34m=\u001b[0m\u001b[0;36m3\u001b[0m\u001b[0;34m,\u001b[0m\u001b[0;34m\u001b[0m\n",
      "\u001b[0;34m\u001b[0m    \u001b[0mparams\u001b[0m\u001b[0;34m=\u001b[0m\u001b[0;34m{\u001b[0m\u001b[0;34m}\u001b[0m\u001b[0;34m,\u001b[0m\u001b[0;34m\u001b[0m\n",
      "\u001b[0;34m\u001b[0m    \u001b[0mpair_cutoffs\u001b[0m\u001b[0;34m=\u001b[0m\u001b[0;32mNone\u001b[0m\u001b[0;34m,\u001b[0m\u001b[0;34m\u001b[0m\n",
      "\u001b[0;34m\u001b[0m    \u001b[0massembly\u001b[0m\u001b[0;34m=\u001b[0m\u001b[0;32mFalse\u001b[0m\u001b[0;34m,\u001b[0m\u001b[0;34m\u001b[0m\n",
      "\u001b[0;34m\u001b[0m    \u001b[0mcovrad_metal\u001b[0m\u001b[0;34m=\u001b[0m\u001b[0;32mNone\u001b[0m\u001b[0;34m,\u001b[0m\u001b[0;34m\u001b[0m\n",
      "\u001b[0;34m\u001b[0m    \u001b[0mdebug\u001b[0m\u001b[0;34m=\u001b[0m\u001b[0;32mFalse\u001b[0m\u001b[0;34m,\u001b[0m\u001b[0;34m\u001b[0m\n",
      "\u001b[0;34m\u001b[0m\u001b[0;34m)\u001b[0m\u001b[0;34m\u001b[0m\u001b[0;34m\u001b[0m\u001b[0m\n",
      "\u001b[0;31mDocstring:\u001b[0m\n",
      "dist_sanity_checks\n",
      "Perform basic distance-based sanity checks on structure\n",
      "\n",
      "Parameters\n",
      "-------\n",
      "atoms : ase.Atoms\n",
      "    atoms to check for sanity.\n",
      "params : dict, optional\n",
      "    parameters for dictionary, default {}.\n",
      "pair_cutoffs : dict, optional\n",
      "    pair distance cutoffs definition e.g. {('O','H'):0.8}, default None\n",
      "smallest_dist_cutoff : float\n",
      "    distance cutoff-make sure sum of cov radii larger than dist*smallest_dist_cutoff\n",
      "min_dist_cutoff : int/float\n",
      "    make sure all atoms are at least min_dist_cutoff from ANY other atom\n",
      "assembly : bool\n",
      "    whether this is an assembly step or final relaxation\n",
      "covrad_metal : float\n",
      "    the covalent radii of the metal if requested\n",
      "debug : bool\n",
      "    print if debug requested.\n",
      "\u001b[0;31mFile:\u001b[0m      ~/software/Architector/architector/io_molecule.py\n",
      "\u001b[0;31mType:\u001b[0m      method"
     ]
    }
   ],
   "source": [
    "mol.dist_sanity_checks?"
   ]
  },
  {
   "cell_type": "code",
   "execution_count": 17,
   "metadata": {},
   "outputs": [
    {
     "name": "stdout",
     "output_type": "stream",
     "text": [
      "\u001b[0;31mSignature:\u001b[0m \u001b[0mmol\u001b[0m\u001b[0;34m.\u001b[0m\u001b[0mgraph_sanity_checks\u001b[0m\u001b[0;34m(\u001b[0m\u001b[0mfactor\u001b[0m\u001b[0;34m=\u001b[0m\u001b[0;36m1.45\u001b[0m\u001b[0;34m,\u001b[0m \u001b[0mparams\u001b[0m\u001b[0;34m=\u001b[0m\u001b[0;34m{\u001b[0m\u001b[0;34m}\u001b[0m\u001b[0;34m,\u001b[0m \u001b[0massembly\u001b[0m\u001b[0;34m=\u001b[0m\u001b[0;32mFalse\u001b[0m\u001b[0;34m)\u001b[0m\u001b[0;34m\u001b[0m\u001b[0;34m\u001b[0m\u001b[0m\n",
      "\u001b[0;31mDocstring:\u001b[0m\n",
      "graph_sanity_checks\n",
      "Check if any part of the molecule is blown up relative to the imposed molecular graph\n",
      "\n",
      "Parameters\n",
      "----------\n",
      "factor : float, optional\n",
      "    tolerance for long bonds - factor*(sum of covalent radii), by default 1.4\n",
      "params : dict, optional\n",
      "    parameters from inputDict, default {}\n",
      "assembly : bool, optional\n",
      "    if this is an assembly check or final check, default False -> final cutoffs.\n",
      "\n",
      "Returns\n",
      "-------\n",
      "sane : bool\n",
      "    If the graph distances are longer than the factor -> indicating relatively garbage\n",
      "    geometry.\n",
      "\u001b[0;31mFile:\u001b[0m      ~/software/Architector/architector/io_molecule.py\n",
      "\u001b[0;31mType:\u001b[0m      method"
     ]
    }
   ],
   "source": [
    "mol.graph_sanity_checks?"
   ]
  },
  {
   "cell_type": "code",
   "execution_count": 18,
   "metadata": {},
   "outputs": [
    {
     "data": {
      "text/plain": [
       "True"
      ]
     },
     "execution_count": 18,
     "metadata": {},
     "output_type": "execute_result"
    }
   ],
   "source": [
    "mol.dist_sanity_checks(smallest_dist_cutoff=0.7) # Check that atoms are not overlapping\n",
    "mol.graph_sanity_checks()\n",
    "mol.dists_sane"
   ]
  },
  {
   "cell_type": "code",
   "execution_count": 19,
   "metadata": {},
   "outputs": [],
   "source": [
    "def perform_swap(swapdict, writeout=False, call=0):\n",
    "    init_mol = convert_io_molecule(swapdict['init_sdf'])\n",
    "    init_mol.charge = 0\n",
    "    init_mol.uhf = 0\n",
    "    final_mol = convert_io_molecule(swapdict['final_sdf'])\n",
    "    final_mol.charge = 0\n",
    "    final_mol.uhf = 0\n",
    "    # Swap metal(s)\n",
    "    for i,metind in enumerate(swapdict['metal_inds']):\n",
    "        init_mol.ase_atoms[metind].symbol = swapdict['metal_syms'][i]\n",
    "        init_mol.atom_types[metind] = swapdict['metal_syms'][i]\n",
    "        final_mol.ase_atoms[metind].symbol = swapdict['metal_syms'][i]\n",
    "        final_mol.atom_types[metind] = swapdict['metal_syms'][i]\n",
    "    # Functionalize 3D\n",
    "    if swapdict['swap_remove_inds'] is not None:\n",
    "        init_mol.functionalize_3D(\n",
    "            functional_groups=swapdict['swap_functional_groups'],\n",
    "            functionalization_inds=swapdict['swap_functionalization_inds'],\n",
    "            functional_group_mol_inds=swapdict['swap_functional_group_mol_inds'],\n",
    "            remove_inds=swapdict['swap_remove_inds'],\n",
    "            bond_orders=swapdict['swap_bond_orders'],\n",
    "            remove_hydrogens_when_adding=swapdict['swap_remove_hydrogens_when_adding'],\n",
    "            xtb_opt=swapdict['swap_xtb_opt']\n",
    "        )\n",
    "        final_mol.functionalize_3D(\n",
    "            functional_groups=swapdict['swap_functional_groups'],\n",
    "            functionalization_inds=swapdict['swap_functionalization_inds'],\n",
    "            functional_group_mol_inds=swapdict['swap_functional_group_mol_inds'],\n",
    "            remove_inds=swapdict['swap_remove_inds'],\n",
    "            bond_orders=swapdict['swap_bond_orders'],\n",
    "            remove_hydrogens_when_adding=swapdict['swap_remove_hydrogens_when_adding'],\n",
    "            xtb_opt=swapdict['swap_xtb_opt']\n",
    "        )\n",
    "    init_mol.dist_sanity_checks(smallest_dist_cutoff=0.7) # Check that atoms are not overlapping\n",
    "    init_mol.graph_sanity_checks()\n",
    "    if init_mol.dists_sane:\n",
    "        init_sdf = init_mol.write_sdf('init',writestring=True)\n",
    "        final_sdf = final_mol.write_sdf('final',writestring=True)\n",
    "        outstr = init_sdf + final_sdf\n",
    "        outname = swapdict['rxn_uid'] + '.sdf'\n",
    "        if writeout:\n",
    "            with open(outname,'w') as file1:\n",
    "                file1.write(outstr)\n",
    "            return 'Done'\n",
    "        else:\n",
    "            print(outname)\n",
    "            return outstr\n",
    "    elif call < 11:\n",
    "        out = perform_swap(swapdict, writeout=writeout, call=call+1)\n",
    "        return out\n",
    "    else:\n",
    "        view_structures(init_mol)\n",
    "        raise ValueError('Overlapping Atoms Produced 10X Do not try again: '+swapdict['rxn_uid'])"
   ]
  },
  {
   "cell_type": "code",
   "execution_count": 20,
   "metadata": {},
   "outputs": [
    {
     "name": "stdout",
     "output_type": "stream",
     "text": [
      "Possible 8162\n"
     ]
    },
    {
     "name": "stderr",
     "output_type": "stream",
     "text": [
      "100%|██████████| 8162/8162 [00:00<00:00, 15277.69it/s]\n"
     ]
    },
    {
     "name": "stdout",
     "output_type": "stream",
     "text": [
      "Number populated 8162\n",
      "Possible 8162\n"
     ]
    },
    {
     "name": "stderr",
     "output_type": "stream",
     "text": [
      "100%|██████████| 8162/8162 [00:00<00:00, 14515.28it/s]\n"
     ]
    },
    {
     "name": "stdout",
     "output_type": "stream",
     "text": [
      "Number populated 8162\n",
      "Possible 1617\n"
     ]
    },
    {
     "name": "stderr",
     "output_type": "stream",
     "text": [
      "100%|██████████| 1617/1617 [00:00<00:00, 16551.82it/s]\n"
     ]
    },
    {
     "name": "stdout",
     "output_type": "stream",
     "text": [
      "Number populated 1617\n",
      "Possible 53\n"
     ]
    },
    {
     "name": "stderr",
     "output_type": "stream",
     "text": [
      "100%|██████████| 53/53 [00:00<00:00, 21940.20it/s]\n"
     ]
    },
    {
     "name": "stdout",
     "output_type": "stream",
     "text": [
      "Number populated 53\n",
      "Possible 16170\n"
     ]
    },
    {
     "name": "stderr",
     "output_type": "stream",
     "text": [
      "100%|██████████| 16170/16170 [00:01<00:00, 10563.10it/s]\n"
     ]
    },
    {
     "name": "stdout",
     "output_type": "stream",
     "text": [
      "Number populated 16170\n",
      "Possible 8162\n"
     ]
    },
    {
     "name": "stderr",
     "output_type": "stream",
     "text": [
      "100%|██████████| 8162/8162 [00:00<00:00, 14506.48it/s]\n"
     ]
    },
    {
     "name": "stdout",
     "output_type": "stream",
     "text": [
      "Number populated 8162\n",
      "Possible 3927\n"
     ]
    },
    {
     "name": "stderr",
     "output_type": "stream",
     "text": [
      "100%|██████████| 3927/3927 [00:00<00:00, 20093.83it/s]\n"
     ]
    },
    {
     "name": "stdout",
     "output_type": "stream",
     "text": [
      "Number populated 3757\n",
      "Possible 11760\n"
     ]
    },
    {
     "name": "stderr",
     "output_type": "stream",
     "text": [
      "100%|██████████| 11760/11760 [00:00<00:00, 13178.89it/s]\n"
     ]
    },
    {
     "name": "stdout",
     "output_type": "stream",
     "text": [
      "Number populated 10780\n",
      "Possible 5216\n"
     ]
    },
    {
     "name": "stderr",
     "output_type": "stream",
     "text": [
      "100%|██████████| 5216/5216 [00:00<00:00, 19279.40it/s]\n"
     ]
    },
    {
     "name": "stdout",
     "output_type": "stream",
     "text": [
      "Number populated 4832\n",
      "Possible 2464\n"
     ]
    },
    {
     "name": "stderr",
     "output_type": "stream",
     "text": [
      "100%|██████████| 2464/2464 [00:00<00:00, 22090.53it/s]\n"
     ]
    },
    {
     "name": "stdout",
     "output_type": "stream",
     "text": [
      "Number populated 2464\n",
      "Possible 7527\n"
     ]
    },
    {
     "name": "stderr",
     "output_type": "stream",
     "text": [
      "100%|██████████| 7527/7527 [00:00<00:00, 14372.35it/s]\n"
     ]
    },
    {
     "name": "stdout",
     "output_type": "stream",
     "text": [
      "Number populated 7527\n",
      "Possible 8162\n"
     ]
    },
    {
     "name": "stderr",
     "output_type": "stream",
     "text": [
      "100%|██████████| 8162/8162 [00:00<00:00, 14994.42it/s]\n"
     ]
    },
    {
     "name": "stdout",
     "output_type": "stream",
     "text": [
      "Number populated 8162\n",
      "Possible 672\n"
     ]
    },
    {
     "name": "stderr",
     "output_type": "stream",
     "text": [
      "100%|██████████| 672/672 [00:00<00:00, 20465.37it/s]\n"
     ]
    },
    {
     "name": "stdout",
     "output_type": "stream",
     "text": [
      "Number populated 672\n",
      "Possible 504\n"
     ]
    },
    {
     "name": "stderr",
     "output_type": "stream",
     "text": [
      "100%|██████████| 504/504 [00:00<00:00, 20480.44it/s]\n"
     ]
    },
    {
     "name": "stdout",
     "output_type": "stream",
     "text": [
      "Number populated 504\n",
      "Possible 21\n"
     ]
    },
    {
     "name": "stderr",
     "output_type": "stream",
     "text": [
      "100%|██████████| 21/21 [00:00<00:00, 21561.91it/s]\n"
     ]
    },
    {
     "name": "stdout",
     "output_type": "stream",
     "text": [
      "Number populated 21\n",
      "Possible 3111\n"
     ]
    },
    {
     "name": "stderr",
     "output_type": "stream",
     "text": [
      "100%|██████████| 3111/3111 [00:00<00:00, 20128.25it/s]\n"
     ]
    },
    {
     "name": "stdout",
     "output_type": "stream",
     "text": [
      "Number populated 2669\n",
      "Possible 7987\n"
     ]
    },
    {
     "name": "stderr",
     "output_type": "stream",
     "text": [
      "100%|██████████| 7987/7987 [00:00<00:00, 14332.47it/s]\n"
     ]
    },
    {
     "name": "stdout",
     "output_type": "stream",
     "text": [
      "Number populated 7742\n",
      "Possible 11760\n"
     ]
    },
    {
     "name": "stderr",
     "output_type": "stream",
     "text": [
      "100%|██████████| 11760/11760 [00:00<00:00, 12958.76it/s]\n"
     ]
    },
    {
     "name": "stdout",
     "output_type": "stream",
     "text": [
      "Number populated 11760\n",
      "Possible 11760\n"
     ]
    },
    {
     "name": "stderr",
     "output_type": "stream",
     "text": [
      "100%|██████████| 11760/11760 [00:00<00:00, 12264.83it/s]\n"
     ]
    },
    {
     "name": "stdout",
     "output_type": "stream",
     "text": [
      "Number populated 11760\n",
      "Possible 11760\n"
     ]
    },
    {
     "name": "stderr",
     "output_type": "stream",
     "text": [
      "100%|██████████| 11760/11760 [00:00<00:00, 13105.21it/s]\n"
     ]
    },
    {
     "name": "stdout",
     "output_type": "stream",
     "text": [
      "Number populated 11760\n",
      "Possible 3104\n"
     ]
    },
    {
     "name": "stderr",
     "output_type": "stream",
     "text": [
      "100%|██████████| 3104/3104 [00:00<00:00, 20012.11it/s]\n"
     ]
    },
    {
     "name": "stdout",
     "output_type": "stream",
     "text": [
      "Number populated 3104\n",
      "Possible 166912\n"
     ]
    },
    {
     "name": "stderr",
     "output_type": "stream",
     "text": [
      "100%|██████████| 166912/166912 [01:46<00:00, 1567.17it/s]\n"
     ]
    },
    {
     "name": "stdout",
     "output_type": "stream",
     "text": [
      "Number populated 166912\n",
      "Possible 11760\n"
     ]
    },
    {
     "name": "stderr",
     "output_type": "stream",
     "text": [
      "100%|██████████| 11760/11760 [00:00<00:00, 12586.13it/s]\n"
     ]
    },
    {
     "name": "stdout",
     "output_type": "stream",
     "text": [
      "Number populated 11760\n",
      "Possible 11760\n"
     ]
    },
    {
     "name": "stderr",
     "output_type": "stream",
     "text": [
      "100%|██████████| 11760/11760 [00:00<00:00, 13091.55it/s]\n"
     ]
    },
    {
     "name": "stdout",
     "output_type": "stream",
     "text": [
      "Number populated 11760\n",
      "Possible 8526\n"
     ]
    },
    {
     "name": "stderr",
     "output_type": "stream",
     "text": [
      "100%|██████████| 8526/8526 [00:00<00:00, 22350.26it/s]\n"
     ]
    },
    {
     "name": "stdout",
     "output_type": "stream",
     "text": [
      "Number populated 3528\n",
      "Possible 1836\n"
     ]
    },
    {
     "name": "stderr",
     "output_type": "stream",
     "text": [
      "100%|██████████| 1836/1836 [00:00<00:00, 29561.28it/s]\n"
     ]
    },
    {
     "name": "stdout",
     "output_type": "stream",
     "text": [
      "Number populated 187\n",
      "Possible 4214\n"
     ]
    },
    {
     "name": "stderr",
     "output_type": "stream",
     "text": [
      "100%|██████████| 4214/4214 [00:00<00:00, 17376.75it/s]\n"
     ]
    },
    {
     "name": "stdout",
     "output_type": "stream",
     "text": [
      "Number populated 3626\n",
      "Possible 4214\n"
     ]
    },
    {
     "name": "stderr",
     "output_type": "stream",
     "text": [
      "100%|██████████| 4214/4214 [00:00<00:00, 9819.87it/s] \n"
     ]
    },
    {
     "name": "stdout",
     "output_type": "stream",
     "text": [
      "Number populated 3822\n",
      "Possible 4214\n"
     ]
    },
    {
     "name": "stderr",
     "output_type": "stream",
     "text": [
      "100%|██████████| 4214/4214 [00:00<00:00, 20122.43it/s]\n"
     ]
    },
    {
     "name": "stdout",
     "output_type": "stream",
     "text": [
      "Number populated 3724\n",
      "Possible 3268\n"
     ]
    },
    {
     "name": "stderr",
     "output_type": "stream",
     "text": [
      "100%|██████████| 3268/3268 [00:00<00:00, 19334.45it/s]\n"
     ]
    },
    {
     "name": "stdout",
     "output_type": "stream",
     "text": [
      "Number populated 3268\n",
      "Possible 3268\n"
     ]
    },
    {
     "name": "stderr",
     "output_type": "stream",
     "text": [
      "100%|██████████| 3268/3268 [00:00<00:00, 20998.64it/s]\n"
     ]
    },
    {
     "name": "stdout",
     "output_type": "stream",
     "text": [
      "Number populated 2926\n",
      "Possible 3268\n"
     ]
    },
    {
     "name": "stderr",
     "output_type": "stream",
     "text": [
      "100%|██████████| 3268/3268 [00:00<00:00, 21749.39it/s]\n"
     ]
    },
    {
     "name": "stdout",
     "output_type": "stream",
     "text": [
      "Number populated 2774\n",
      "Possible 7546\n"
     ]
    },
    {
     "name": "stderr",
     "output_type": "stream",
     "text": [
      "100%|██████████| 7546/7546 [00:00<00:00, 15748.03it/s]\n"
     ]
    },
    {
     "name": "stdout",
     "output_type": "stream",
     "text": [
      "Number populated 7546\n",
      "Possible 7546\n"
     ]
    },
    {
     "name": "stderr",
     "output_type": "stream",
     "text": [
      "100%|██████████| 7546/7546 [00:00<00:00, 14835.79it/s]\n"
     ]
    },
    {
     "name": "stdout",
     "output_type": "stream",
     "text": [
      "Number populated 7546\n",
      "Possible 7546\n"
     ]
    },
    {
     "name": "stderr",
     "output_type": "stream",
     "text": [
      "100%|██████████| 7546/7546 [00:00<00:00, 15835.01it/s]\n"
     ]
    },
    {
     "name": "stdout",
     "output_type": "stream",
     "text": [
      "Number populated 7546\n",
      "Possible 21\n"
     ]
    },
    {
     "name": "stderr",
     "output_type": "stream",
     "text": [
      "100%|██████████| 21/21 [00:00<00:00, 17441.66it/s]\n"
     ]
    },
    {
     "name": "stdout",
     "output_type": "stream",
     "text": [
      "Number populated 21\n",
      "Possible 21\n"
     ]
    },
    {
     "name": "stderr",
     "output_type": "stream",
     "text": [
      "100%|██████████| 21/21 [00:00<00:00, 17722.41it/s]\n"
     ]
    },
    {
     "name": "stdout",
     "output_type": "stream",
     "text": [
      "Number populated 21\n",
      "Possible 1309\n"
     ]
    },
    {
     "name": "stderr",
     "output_type": "stream",
     "text": [
      "100%|██████████| 1309/1309 [00:00<00:00, 22833.90it/s]\n"
     ]
    },
    {
     "name": "stdout",
     "output_type": "stream",
     "text": [
      "Number populated 1309\n",
      "Possible 1309\n"
     ]
    },
    {
     "name": "stderr",
     "output_type": "stream",
     "text": [
      "100%|██████████| 1309/1309 [00:00<00:00, 23799.66it/s]\n"
     ]
    },
    {
     "name": "stdout",
     "output_type": "stream",
     "text": [
      "Number populated 1309\n",
      "Possible 78848\n"
     ]
    },
    {
     "name": "stderr",
     "output_type": "stream",
     "text": [
      "100%|██████████| 78848/78848 [00:24<00:00, 3167.06it/s] \n"
     ]
    },
    {
     "name": "stdout",
     "output_type": "stream",
     "text": [
      "Number populated 78848\n",
      "Possible 385280\n"
     ]
    },
    {
     "name": "stderr",
     "output_type": "stream",
     "text": [
      "100%|██████████| 385280/385280 [09:34<00:00, 671.11it/s] \n"
     ]
    },
    {
     "name": "stdout",
     "output_type": "stream",
     "text": [
      "Number populated 385280\n",
      "Possible 12201\n"
     ]
    },
    {
     "name": "stderr",
     "output_type": "stream",
     "text": [
      "100%|██████████| 12201/12201 [00:00<00:00, 13346.48it/s]\n"
     ]
    },
    {
     "name": "stdout",
     "output_type": "stream",
     "text": [
      "Number populated 10927\n",
      "Possible 6020\n"
     ]
    },
    {
     "name": "stderr",
     "output_type": "stream",
     "text": [
      "100%|██████████| 6020/6020 [00:00<00:00, 16860.15it/s]\n"
     ]
    },
    {
     "name": "stdout",
     "output_type": "stream",
     "text": [
      "Number populated 6020\n",
      "Possible 49\n"
     ]
    },
    {
     "name": "stderr",
     "output_type": "stream",
     "text": [
      "100%|██████████| 49/49 [00:00<00:00, 21549.85it/s]\n"
     ]
    },
    {
     "name": "stdout",
     "output_type": "stream",
     "text": [
      "Number populated 49\n",
      "Possible 70\n"
     ]
    },
    {
     "name": "stderr",
     "output_type": "stream",
     "text": [
      "100%|██████████| 70/70 [00:00<00:00, 17473.15it/s]\n"
     ]
    },
    {
     "name": "stdout",
     "output_type": "stream",
     "text": [
      "Number populated 70\n",
      "Possible 53\n"
     ]
    },
    {
     "name": "stderr",
     "output_type": "stream",
     "text": [
      "100%|██████████| 53/53 [00:00<00:00, 23071.94it/s]\n"
     ]
    },
    {
     "name": "stdout",
     "output_type": "stream",
     "text": [
      "Number populated 53\n",
      "Possible 1113\n"
     ]
    },
    {
     "name": "stderr",
     "output_type": "stream",
     "text": [
      "100%|██████████| 1113/1113 [00:00<00:00, 17905.95it/s]\n"
     ]
    },
    {
     "name": "stdout",
     "output_type": "stream",
     "text": [
      "Number populated 1113\n",
      "Possible 53\n"
     ]
    },
    {
     "name": "stderr",
     "output_type": "stream",
     "text": [
      "100%|██████████| 53/53 [00:00<00:00, 24302.84it/s]\n"
     ]
    },
    {
     "name": "stdout",
     "output_type": "stream",
     "text": [
      "Number populated 53\n",
      "Possible 684\n"
     ]
    },
    {
     "name": "stderr",
     "output_type": "stream",
     "text": [
      "100%|██████████| 684/684 [00:00<00:00, 9677.82it/s]\n"
     ]
    },
    {
     "name": "stdout",
     "output_type": "stream",
     "text": [
      "Number populated 684\n",
      "Possible 57\n"
     ]
    },
    {
     "name": "stderr",
     "output_type": "stream",
     "text": [
      "100%|██████████| 57/57 [00:00<00:00, 21947.61it/s]\n"
     ]
    },
    {
     "name": "stdout",
     "output_type": "stream",
     "text": [
      "Number populated 57\n",
      "Possible 57\n"
     ]
    },
    {
     "name": "stderr",
     "output_type": "stream",
     "text": [
      "100%|██████████| 57/57 [00:00<00:00, 16724.40it/s]\n"
     ]
    },
    {
     "name": "stdout",
     "output_type": "stream",
     "text": [
      "Number populated 57\n",
      "Possible 57\n"
     ]
    },
    {
     "name": "stderr",
     "output_type": "stream",
     "text": [
      "100%|██████████| 57/57 [00:00<00:00, 18993.83it/s]\n"
     ]
    },
    {
     "name": "stdout",
     "output_type": "stream",
     "text": [
      "Number populated 57\n",
      "Possible 57\n"
     ]
    },
    {
     "name": "stderr",
     "output_type": "stream",
     "text": [
      "100%|██████████| 57/57 [00:00<00:00, 18866.42it/s]\n"
     ]
    },
    {
     "name": "stdout",
     "output_type": "stream",
     "text": [
      "Number populated 57\n",
      "Possible 53\n"
     ]
    },
    {
     "name": "stderr",
     "output_type": "stream",
     "text": [
      "100%|██████████| 53/53 [00:00<00:00, 19565.05it/s]\n"
     ]
    },
    {
     "name": "stdout",
     "output_type": "stream",
     "text": [
      "Number populated 53\n",
      "Possible 5194\n"
     ]
    },
    {
     "name": "stderr",
     "output_type": "stream",
     "text": [
      "100%|██████████| 5194/5194 [00:00<00:00, 16770.64it/s]\n"
     ]
    },
    {
     "name": "stdout",
     "output_type": "stream",
     "text": [
      "Number populated 5194\n",
      "Possible 13680\n"
     ]
    },
    {
     "name": "stderr",
     "output_type": "stream",
     "text": [
      "100%|██████████| 13680/13680 [00:01<00:00, 11889.06it/s]\n"
     ]
    },
    {
     "name": "stdout",
     "output_type": "stream",
     "text": [
      "Number populated 13395\n",
      "Possible 13680\n"
     ]
    },
    {
     "name": "stderr",
     "output_type": "stream",
     "text": [
      "100%|██████████| 13680/13680 [00:01<00:00, 12509.02it/s]\n"
     ]
    },
    {
     "name": "stdout",
     "output_type": "stream",
     "text": [
      "Number populated 12597\n",
      "Possible 6278\n"
     ]
    },
    {
     "name": "stderr",
     "output_type": "stream",
     "text": [
      "100%|██████████| 6278/6278 [00:00<00:00, 15699.98it/s]\n"
     ]
    },
    {
     "name": "stdout",
     "output_type": "stream",
     "text": [
      "Number populated 6278\n",
      "Possible 57\n"
     ]
    },
    {
     "name": "stderr",
     "output_type": "stream",
     "text": [
      "100%|██████████| 57/57 [00:00<00:00, 21771.73it/s]\n"
     ]
    },
    {
     "name": "stdout",
     "output_type": "stream",
     "text": [
      "Number populated 57\n",
      "Possible 3234\n"
     ]
    },
    {
     "name": "stderr",
     "output_type": "stream",
     "text": [
      "100%|██████████| 3234/3234 [00:00<00:00, 20301.31it/s]\n"
     ]
    },
    {
     "name": "stdout",
     "output_type": "stream",
     "text": [
      "Number populated 3234\n",
      "Possible 1309\n"
     ]
    },
    {
     "name": "stderr",
     "output_type": "stream",
     "text": [
      "100%|██████████| 1309/1309 [00:00<00:00, 23166.50it/s]\n"
     ]
    },
    {
     "name": "stdout",
     "output_type": "stream",
     "text": [
      "Number populated 1309\n",
      "Possible 1309\n"
     ]
    },
    {
     "name": "stderr",
     "output_type": "stream",
     "text": [
      "100%|██████████| 1309/1309 [00:00<00:00, 23137.01it/s]\n"
     ]
    },
    {
     "name": "stdout",
     "output_type": "stream",
     "text": [
      "Number populated 1309\n",
      "Possible 651\n"
     ]
    },
    {
     "name": "stderr",
     "output_type": "stream",
     "text": [
      "100%|██████████| 651/651 [00:00<00:00, 19282.05it/s]\n"
     ]
    },
    {
     "name": "stdout",
     "output_type": "stream",
     "text": [
      "Number populated 651\n",
      "Possible 651\n"
     ]
    },
    {
     "name": "stderr",
     "output_type": "stream",
     "text": [
      "100%|██████████| 651/651 [00:00<00:00, 19303.86it/s]\n"
     ]
    },
    {
     "name": "stdout",
     "output_type": "stream",
     "text": [
      "Number populated 651\n",
      "Possible 6270\n"
     ]
    },
    {
     "name": "stderr",
     "output_type": "stream",
     "text": [
      "100%|██████████| 6270/6270 [00:00<00:00, 24638.58it/s]\n"
     ]
    },
    {
     "name": "stdout",
     "output_type": "stream",
     "text": [
      "Number populated 2109\n",
      "Possible 49\n"
     ]
    },
    {
     "name": "stderr",
     "output_type": "stream",
     "text": [
      "100%|██████████| 49/49 [00:00<00:00, 23136.43it/s]\n"
     ]
    },
    {
     "name": "stdout",
     "output_type": "stream",
     "text": [
      "Number populated 49\n",
      "Possible 6020\n"
     ]
    },
    {
     "name": "stderr",
     "output_type": "stream",
     "text": [
      "100%|██████████| 6020/6020 [00:00<00:00, 16937.62it/s]\n"
     ]
    },
    {
     "name": "stdout",
     "output_type": "stream",
     "text": [
      "Number populated 6020\n",
      "Possible 70\n"
     ]
    },
    {
     "name": "stderr",
     "output_type": "stream",
     "text": [
      "100%|██████████| 70/70 [00:00<00:00, 21479.35it/s]\n"
     ]
    },
    {
     "name": "stdout",
     "output_type": "stream",
     "text": [
      "Number populated 70\n",
      "Possible 6020\n"
     ]
    },
    {
     "name": "stderr",
     "output_type": "stream",
     "text": [
      "100%|██████████| 6020/6020 [00:00<00:00, 16345.07it/s]\n"
     ]
    },
    {
     "name": "stdout",
     "output_type": "stream",
     "text": [
      "Number populated 6020\n",
      "Possible 3612\n"
     ]
    },
    {
     "name": "stderr",
     "output_type": "stream",
     "text": [
      "100%|██████████| 3612/3612 [00:00<00:00, 19831.87it/s]\n"
     ]
    },
    {
     "name": "stdout",
     "output_type": "stream",
     "text": [
      "Number populated 3612\n",
      "Possible 4214\n"
     ]
    },
    {
     "name": "stderr",
     "output_type": "stream",
     "text": [
      "100%|██████████| 4214/4214 [00:00<00:00, 18766.92it/s]\n"
     ]
    },
    {
     "name": "stdout",
     "output_type": "stream",
     "text": [
      "Number populated 4116\n",
      "Possible 6020\n"
     ]
    },
    {
     "name": "stderr",
     "output_type": "stream",
     "text": [
      "100%|██████████| 6020/6020 [00:00<00:00, 17015.98it/s]\n"
     ]
    },
    {
     "name": "stdout",
     "output_type": "stream",
     "text": [
      "Number populated 6020\n",
      "Possible 4214\n"
     ]
    },
    {
     "name": "stderr",
     "output_type": "stream",
     "text": [
      "100%|██████████| 4214/4214 [00:00<00:00, 19183.69it/s]\n"
     ]
    },
    {
     "name": "stdout",
     "output_type": "stream",
     "text": [
      "Number populated 4214\n",
      "Possible 4214\n"
     ]
    },
    {
     "name": "stderr",
     "output_type": "stream",
     "text": [
      "100%|██████████| 4214/4214 [00:00<00:00, 19390.87it/s]\n"
     ]
    },
    {
     "name": "stdout",
     "output_type": "stream",
     "text": [
      "Number populated 4214\n",
      "Possible 21\n"
     ]
    },
    {
     "name": "stderr",
     "output_type": "stream",
     "text": [
      "100%|██████████| 21/21 [00:00<00:00, 20041.04it/s]\n"
     ]
    },
    {
     "name": "stdout",
     "output_type": "stream",
     "text": [
      "Number populated 21\n",
      "Possible 73\n"
     ]
    },
    {
     "name": "stderr",
     "output_type": "stream",
     "text": [
      "100%|██████████| 73/73 [00:00<00:00, 21719.81it/s]\n"
     ]
    },
    {
     "name": "stdout",
     "output_type": "stream",
     "text": [
      "Number populated 73\n",
      "Possible 1533\n"
     ]
    },
    {
     "name": "stderr",
     "output_type": "stream",
     "text": [
      "100%|██████████| 1533/1533 [00:00<00:00, 18519.21it/s]\n"
     ]
    },
    {
     "name": "stdout",
     "output_type": "stream",
     "text": [
      "Number populated 1533\n",
      "Possible 1533\n"
     ]
    },
    {
     "name": "stderr",
     "output_type": "stream",
     "text": [
      "100%|██████████| 1533/1533 [00:00<00:00, 13986.06it/s]\n"
     ]
    },
    {
     "name": "stdout",
     "output_type": "stream",
     "text": [
      "Number populated 1387\n",
      "Possible 2771\n"
     ]
    },
    {
     "name": "stderr",
     "output_type": "stream",
     "text": [
      "100%|██████████| 2771/2771 [00:00<00:00, 22801.88it/s]\n"
     ]
    },
    {
     "name": "stdout",
     "output_type": "stream",
     "text": [
      "Number populated 2193\n",
      "Possible 17\n"
     ]
    },
    {
     "name": "stderr",
     "output_type": "stream",
     "text": [
      "100%|██████████| 17/17 [00:00<00:00, 17816.88it/s]\n"
     ]
    },
    {
     "name": "stdout",
     "output_type": "stream",
     "text": [
      "Number populated 17\n",
      "Possible 258\n"
     ]
    },
    {
     "name": "stderr",
     "output_type": "stream",
     "text": [
      "100%|██████████| 258/258 [00:00<00:00, 26953.53it/s]\n"
     ]
    },
    {
     "name": "stdout",
     "output_type": "stream",
     "text": [
      "Number populated 84\n",
      "Possible 70\n"
     ]
    },
    {
     "name": "stderr",
     "output_type": "stream",
     "text": [
      "100%|██████████| 70/70 [00:00<00:00, 19455.39it/s]\n"
     ]
    },
    {
     "name": "stdout",
     "output_type": "stream",
     "text": [
      "Number populated 70\n",
      "Possible 70\n"
     ]
    },
    {
     "name": "stderr",
     "output_type": "stream",
     "text": [
      "100%|██████████| 70/70 [00:00<00:00, 19476.04it/s]\n"
     ]
    },
    {
     "name": "stdout",
     "output_type": "stream",
     "text": [
      "Number populated 70\n",
      "Possible 70\n"
     ]
    },
    {
     "name": "stderr",
     "output_type": "stream",
     "text": [
      "100%|██████████| 70/70 [00:00<00:00, 21374.58it/s]\n"
     ]
    },
    {
     "name": "stdout",
     "output_type": "stream",
     "text": [
      "Number populated 70\n",
      "Possible 70\n"
     ]
    },
    {
     "name": "stderr",
     "output_type": "stream",
     "text": [
      "100%|██████████| 70/70 [00:00<00:00, 22088.57it/s]\n"
     ]
    },
    {
     "name": "stdout",
     "output_type": "stream",
     "text": [
      "Number populated 70\n",
      "Possible 5504\n"
     ]
    },
    {
     "name": "stderr",
     "output_type": "stream",
     "text": [
      "100%|██████████| 5504/5504 [00:00<00:00, 17057.99it/s]\n"
     ]
    },
    {
     "name": "stdout",
     "output_type": "stream",
     "text": [
      "Number populated 5504\n",
      "Possible 1462\n"
     ]
    },
    {
     "name": "stderr",
     "output_type": "stream",
     "text": [
      "100%|██████████| 1462/1462 [00:00<00:00, 24576.76it/s]\n"
     ]
    },
    {
     "name": "stdout",
     "output_type": "stream",
     "text": [
      "Number populated 1156\n",
      "Possible 39\n"
     ]
    },
    {
     "name": "stderr",
     "output_type": "stream",
     "text": [
      "100%|██████████| 39/39 [00:00<00:00, 20843.25it/s]\n"
     ]
    },
    {
     "name": "stdout",
     "output_type": "stream",
     "text": [
      "Number populated 39\n",
      "Possible 10\n"
     ]
    },
    {
     "name": "stderr",
     "output_type": "stream",
     "text": [
      "100%|██████████| 10/10 [00:00<00:00, 16871.70it/s]\n"
     ]
    },
    {
     "name": "stdout",
     "output_type": "stream",
     "text": [
      "Number populated 10\n",
      "Possible 32\n"
     ]
    },
    {
     "name": "stderr",
     "output_type": "stream",
     "text": [
      "100%|██████████| 32/32 [00:00<00:00, 21711.05it/s]\n"
     ]
    },
    {
     "name": "stdout",
     "output_type": "stream",
     "text": [
      "Number populated 32\n",
      "Possible 20629\n"
     ]
    },
    {
     "name": "stderr",
     "output_type": "stream",
     "text": [
      "100%|██████████| 20629/20629 [00:02<00:00, 9699.54it/s] \n"
     ]
    },
    {
     "name": "stdout",
     "output_type": "stream",
     "text": [
      "Number populated 19257\n",
      "Possible 32\n"
     ]
    },
    {
     "name": "stderr",
     "output_type": "stream",
     "text": [
      "100%|██████████| 32/32 [00:00<00:00, 19778.62it/s]\n"
     ]
    },
    {
     "name": "stdout",
     "output_type": "stream",
     "text": [
      "Number populated 32\n",
      "Possible 32\n"
     ]
    },
    {
     "name": "stderr",
     "output_type": "stream",
     "text": [
      "100%|██████████| 32/32 [00:00<00:00, 23305.74it/s]\n"
     ]
    },
    {
     "name": "stdout",
     "output_type": "stream",
     "text": [
      "Number populated 32\n",
      "Possible 32\n"
     ]
    },
    {
     "name": "stderr",
     "output_type": "stream",
     "text": [
      "100%|██████████| 32/32 [00:00<00:00, 20886.67it/s]\n"
     ]
    },
    {
     "name": "stdout",
     "output_type": "stream",
     "text": [
      "Number populated 32\n",
      "Possible 32\n"
     ]
    },
    {
     "name": "stderr",
     "output_type": "stream",
     "text": [
      "100%|██████████| 32/32 [00:00<00:00, 22362.17it/s]\n"
     ]
    },
    {
     "name": "stdout",
     "output_type": "stream",
     "text": [
      "Number populated 32\n",
      "Possible 6020\n"
     ]
    },
    {
     "name": "stderr",
     "output_type": "stream",
     "text": [
      "100%|██████████| 6020/6020 [00:00<00:00, 16974.15it/s]\n"
     ]
    },
    {
     "name": "stdout",
     "output_type": "stream",
     "text": [
      "Number populated 6020\n",
      "Possible 6020\n"
     ]
    },
    {
     "name": "stderr",
     "output_type": "stream",
     "text": [
      "100%|██████████| 6020/6020 [00:00<00:00, 6384.02it/s]\n"
     ]
    },
    {
     "name": "stdout",
     "output_type": "stream",
     "text": [
      "Number populated 6020\n",
      "Possible 10780\n"
     ]
    },
    {
     "name": "stderr",
     "output_type": "stream",
     "text": [
      "100%|██████████| 10780/10780 [00:00<00:00, 12648.28it/s]\n"
     ]
    },
    {
     "name": "stdout",
     "output_type": "stream",
     "text": [
      "Number populated 10780\n",
      "Possible 4081\n"
     ]
    },
    {
     "name": "stderr",
     "output_type": "stream",
     "text": [
      "100%|██████████| 4081/4081 [00:00<00:00, 16915.93it/s]\n"
     ]
    },
    {
     "name": "stdout",
     "output_type": "stream",
     "text": [
      "Number populated 4081\n",
      "Possible 4081\n"
     ]
    },
    {
     "name": "stderr",
     "output_type": "stream",
     "text": [
      "100%|██████████| 4081/4081 [00:00<00:00, 18919.78it/s]\n"
     ]
    },
    {
     "name": "stdout",
     "output_type": "stream",
     "text": [
      "Number populated 4081\n",
      "Possible 4081\n"
     ]
    },
    {
     "name": "stderr",
     "output_type": "stream",
     "text": [
      "100%|██████████| 4081/4081 [00:00<00:00, 19248.00it/s]\n"
     ]
    },
    {
     "name": "stdout",
     "output_type": "stream",
     "text": [
      "Number populated 4081\n",
      "Possible 4081\n"
     ]
    },
    {
     "name": "stderr",
     "output_type": "stream",
     "text": [
      "100%|██████████| 4081/4081 [00:00<00:00, 19345.61it/s]\n"
     ]
    },
    {
     "name": "stdout",
     "output_type": "stream",
     "text": [
      "Number populated 4081\n",
      "Possible 5160\n"
     ]
    },
    {
     "name": "stderr",
     "output_type": "stream",
     "text": [
      "100%|██████████| 5160/5160 [00:00<00:00, 17760.28it/s]\n"
     ]
    },
    {
     "name": "stdout",
     "output_type": "stream",
     "text": [
      "Number populated 5160\n",
      "Possible 33\n"
     ]
    },
    {
     "name": "stderr",
     "output_type": "stream",
     "text": [
      "100%|██████████| 33/33 [00:00<00:00, 13905.17it/s]\n"
     ]
    },
    {
     "name": "stdout",
     "output_type": "stream",
     "text": [
      "Number populated 33\n",
      "Possible 3654\n"
     ]
    },
    {
     "name": "stderr",
     "output_type": "stream",
     "text": [
      "100%|██████████| 3654/3654 [00:00<00:00, 19428.22it/s]\n"
     ]
    },
    {
     "name": "stdout",
     "output_type": "stream",
     "text": [
      "Number populated 3654\n",
      "Possible 7987\n"
     ]
    },
    {
     "name": "stderr",
     "output_type": "stream",
     "text": [
      "100%|██████████| 7987/7987 [00:00<00:00, 15474.09it/s]\n"
     ]
    },
    {
     "name": "stdout",
     "output_type": "stream",
     "text": [
      "Number populated 7987\n",
      "Possible 7987\n"
     ]
    },
    {
     "name": "stderr",
     "output_type": "stream",
     "text": [
      "100%|██████████| 7987/7987 [00:00<00:00, 14285.87it/s]\n"
     ]
    },
    {
     "name": "stdout",
     "output_type": "stream",
     "text": [
      "Number populated 7987\n",
      "Possible 2464\n"
     ]
    },
    {
     "name": "stderr",
     "output_type": "stream",
     "text": [
      "100%|██████████| 2464/2464 [00:00<00:00, 21146.90it/s]\n"
     ]
    },
    {
     "name": "stdout",
     "output_type": "stream",
     "text": [
      "Number populated 2464\n",
      "Possible 38\n"
     ]
    },
    {
     "name": "stderr",
     "output_type": "stream",
     "text": [
      "100%|██████████| 38/38 [00:00<00:00, 20136.90it/s]\n"
     ]
    },
    {
     "name": "stdout",
     "output_type": "stream",
     "text": [
      "Number populated 38\n",
      "Possible 3003\n"
     ]
    },
    {
     "name": "stderr",
     "output_type": "stream",
     "text": [
      "100%|██████████| 3003/3003 [00:00<00:00, 19123.84it/s]\n"
     ]
    },
    {
     "name": "stdout",
     "output_type": "stream",
     "text": [
      "Number populated 2769\n",
      "Possible 3003\n"
     ]
    },
    {
     "name": "stderr",
     "output_type": "stream",
     "text": [
      "100%|██████████| 3003/3003 [00:00<00:00, 20113.34it/s]\n"
     ]
    },
    {
     "name": "stdout",
     "output_type": "stream",
     "text": [
      "Number populated 2808\n",
      "Possible 258\n"
     ]
    },
    {
     "name": "stderr",
     "output_type": "stream",
     "text": [
      "100%|██████████| 258/258 [00:00<00:00, 22625.93it/s]\n"
     ]
    },
    {
     "name": "stdout",
     "output_type": "stream",
     "text": [
      "Number populated 258\n",
      "Possible 1617\n"
     ]
    },
    {
     "name": "stderr",
     "output_type": "stream",
     "text": [
      "100%|██████████| 1617/1617 [00:00<00:00, 22425.87it/s]\n"
     ]
    },
    {
     "name": "stdout",
     "output_type": "stream",
     "text": [
      "Number populated 1617\n",
      "Possible 5852\n"
     ]
    },
    {
     "name": "stderr",
     "output_type": "stream",
     "text": [
      "100%|██████████| 5852/5852 [00:00<00:00, 20256.13it/s]\n"
     ]
    },
    {
     "name": "stdout",
     "output_type": "stream",
     "text": [
      "Number populated 3952\n",
      "Possible 5852\n"
     ]
    },
    {
     "name": "stderr",
     "output_type": "stream",
     "text": [
      "100%|██████████| 5852/5852 [00:00<00:00, 21417.64it/s]\n"
     ]
    },
    {
     "name": "stdout",
     "output_type": "stream",
     "text": [
      "Number populated 3116\n",
      "Possible 22820\n"
     ]
    },
    {
     "name": "stderr",
     "output_type": "stream",
     "text": [
      "100%|██████████| 22820/22820 [00:02<00:00, 8333.76it/s] \n"
     ]
    },
    {
     "name": "stdout",
     "output_type": "stream",
     "text": [
      "Number populated 22820\n",
      "Possible 16800\n"
     ]
    },
    {
     "name": "stderr",
     "output_type": "stream",
     "text": [
      "100%|██████████| 16800/16800 [00:01<00:00, 9811.73it/s] \n"
     ]
    },
    {
     "name": "stdout",
     "output_type": "stream",
     "text": [
      "Number populated 16800\n",
      "Possible 6020\n"
     ]
    },
    {
     "name": "stderr",
     "output_type": "stream",
     "text": [
      "100%|██████████| 6020/6020 [00:00<00:00, 16712.51it/s]\n"
     ]
    },
    {
     "name": "stdout",
     "output_type": "stream",
     "text": [
      "Number populated 6020\n",
      "Possible 8428\n"
     ]
    },
    {
     "name": "stderr",
     "output_type": "stream",
     "text": [
      "100%|██████████| 8428/8428 [00:00<00:00, 14526.93it/s]\n"
     ]
    },
    {
     "name": "stdout",
     "output_type": "stream",
     "text": [
      "Number populated 8428\n",
      "Possible 912\n"
     ]
    },
    {
     "name": "stderr",
     "output_type": "stream",
     "text": [
      "100%|██████████| 912/912 [00:00<00:00, 12216.22it/s]\n"
     ]
    },
    {
     "name": "stdout",
     "output_type": "stream",
     "text": [
      "Number populated 912\n",
      "Possible 3268\n"
     ]
    },
    {
     "name": "stderr",
     "output_type": "stream",
     "text": [
      "100%|██████████| 3268/3268 [00:00<00:00, 19767.62it/s]\n"
     ]
    },
    {
     "name": "stdout",
     "output_type": "stream",
     "text": [
      "Number populated 3268\n",
      "Possible 2926\n"
     ]
    },
    {
     "name": "stderr",
     "output_type": "stream",
     "text": [
      "100%|██████████| 2926/2926 [00:00<00:00, 20423.25it/s]\n"
     ]
    },
    {
     "name": "stdout",
     "output_type": "stream",
     "text": [
      "Number populated 2926\n",
      "Possible 9120\n"
     ]
    },
    {
     "name": "stderr",
     "output_type": "stream",
     "text": [
      "100%|██████████| 9120/9120 [00:00<00:00, 14330.64it/s]\n"
     ]
    },
    {
     "name": "stdout",
     "output_type": "stream",
     "text": [
      "Number populated 9120\n",
      "Possible 3268\n"
     ]
    },
    {
     "name": "stderr",
     "output_type": "stream",
     "text": [
      "100%|██████████| 3268/3268 [00:00<00:00, 19167.71it/s]\n"
     ]
    },
    {
     "name": "stdout",
     "output_type": "stream",
     "text": [
      "Number populated 3268\n",
      "Possible 3268\n"
     ]
    },
    {
     "name": "stderr",
     "output_type": "stream",
     "text": [
      "100%|██████████| 3268/3268 [00:00<00:00, 19011.60it/s]"
     ]
    },
    {
     "name": "stdout",
     "output_type": "stream",
     "text": [
      "Number populated 3268\n"
     ]
    },
    {
     "name": "stderr",
     "output_type": "stream",
     "text": [
      "\n"
     ]
    }
   ],
   "source": [
    "# Generate all swappable_dfs\n",
    "swap_dfs = []\n",
    "for i,row in rxn_df.iterrows():\n",
    "    swapdf = enumerate_all_rxns(row)\n",
    "    swap_dfs.append(swapdf)"
   ]
  },
  {
   "cell_type": "code",
   "execution_count": 21,
   "metadata": {},
   "outputs": [],
   "source": [
    "# Add more metadata\n",
    "meta_dfs = []\n",
    "for i, df in enumerate(swap_dfs):\n",
    "    rxn = rxn_df.iloc[i]\n",
    "    n = len(df)\n",
    "    df['rxn_df_index'] = [i] * n\n",
    "    df['possible_n_swaps'] = [rxn['possible_n_swaps']] * n\n",
    "    df['possible_m_swaps'] = [rxn['possible_m_swaps']] * n\n",
    "    df['possible_lig_swaps'] = [rxn['possible_lig_swaps']] * n\n",
    "    df['total_lig_charges'] = [rxn['total_lig_charges']] * n\n",
    "    meta_dfs.append(df)\n",
    "combined_df = pd.concat(meta_dfs)"
   ]
  },
  {
   "cell_type": "code",
   "execution_count": 22,
   "metadata": {},
   "outputs": [],
   "source": [
    "# Save enumerated reactions.\n",
    "combined_df.to_pickle('enumerated_rxns.pkl')"
   ]
  },
  {
   "cell_type": "code",
   "execution_count": 23,
   "metadata": {},
   "outputs": [
    {
     "name": "stdout",
     "output_type": "stream",
     "text": [
      "Possible 7527\n"
     ]
    },
    {
     "name": "stderr",
     "output_type": "stream",
     "text": [
      "100%|██████████| 7527/7527 [00:00<00:00, 14290.08it/s]"
     ]
    },
    {
     "name": "stdout",
     "output_type": "stream",
     "text": [
      "Number populated 7527\n"
     ]
    },
    {
     "name": "stderr",
     "output_type": "stream",
     "text": [
      "\n"
     ]
    }
   ],
   "source": [
    "# Development -> Testing\n",
    "swapdf = enumerate_all_rxns(rxn_df.iloc[10])"
   ]
  },
  {
   "cell_type": "code",
   "execution_count": 24,
   "metadata": {},
   "outputs": [
    {
     "data": {
      "text/plain": [
       "{'rxn_uid': 'MOR11_Pd0_Charge2_UHF0_swaplig_0_newlig_c1cnc2cc1ccc1cccnc21212',\n",
       " 'rxn_name': 'MOR11',\n",
       " 'reactants': 'ED11+C2H6',\n",
       " 'products': 'PR11',\n",
       " 'init_sdf': 'charge=0\\n     RDKit          3D\\n\\n  0  0  0  0  0  0  0  0  0  0999 V3000\\nM  V30 BEGIN CTAB\\nM  V30 COUNTS 34 35 0 0 1\\nM  V30 BEGIN ATOM\\nM  V30 1 C -0.947173 -0.209042 0.280017 0\\nM  V30 2 C 0.584528 -0.209036 0.280017 0\\nM  V30 3 H -1.343705 -1.230228 0.280017 0\\nM  V30 4 H -1.343731 0.301555 -0.604348 0\\nM  V30 5 H -1.343732 0.301554 1.164382 0\\nM  V30 6 H 0.981086 -0.566025 1.236767 0\\nM  V30 7 H 0.981088 -0.859121 -0.507510 0\\nM  V30 8 H 0.981061 0.798032 0.110795 0\\nM  V30 9 C -3.581762 -0.853845 7.137737 0\\nM  V30 10 C -4.313837 -1.484199 8.137328 0\\nM  V30 11 C -3.664760 -1.854865 9.313996 0\\nM  V30 12 C -2.308524 -1.581813 9.447842 0\\nM  V30 13 H -4.024025 -0.538020 6.195705 0\\nM  V30 14 H -5.371029 -1.677251 7.988997 0\\nM  V30 15 H -4.204457 -2.348937 10.116013 0\\nM  V30 16 H -1.785823 -1.862248 10.355073 0\\nM  V30 17 N -2.271446 -0.588262 7.263135 0\\nM  V30 18 C -1.627970 -0.944567 8.404868 0\\nM  V30 19 C -0.195103 -0.614537 8.453785 0\\nM  V30 20 N 0.315843 0.007099 7.349761 0\\nM  V30 21 C 1.622475 0.333438 7.337960 0\\nM  V30 22 C 1.965716 -0.567560 9.531016 0\\nM  V30 23 C 2.475876 0.066509 8.398695 0\\nM  V30 24 H 1.972761 0.824255 6.437327 0\\nM  V30 25 H 3.519692 0.353691 8.330552 0\\nM  V30 26 C 0.619227 -0.907672 9.551632 0\\nM  V30 27 H 0.197762 -1.401029 10.419657 0\\nM  V30 28 H 2.602589 -0.792530 10.380462 0\\nM  V30 29 Pd -1.020636 0.370710 5.815011 0 VAL=4\\nM  V30 30 C 0.370598 1.252582 4.611915 0\\nM  V30 31 H 1.155201 0.502008 4.449139 0\\nM  V30 32 H 0.760391 2.112426 5.172383 0\\nM  V30 33 H -0.015519 1.589731 3.650181 0\\nM  V30 34 I -2.801477 0.760378 3.986795 0\\nM  V30 END ATOM\\nM  V30 BEGIN BOND\\nM  V30 1 1 2 1\\nM  V30 2 1 3 1\\nM  V30 3 1 4 1\\nM  V30 4 1 5 1\\nM  V30 5 1 6 2\\nM  V30 6 1 7 2\\nM  V30 7 1 8 2\\nM  V30 8 1 10 9\\nM  V30 9 2 11 10\\nM  V30 10 1 12 11\\nM  V30 11 1 13 9\\nM  V30 12 1 14 10\\nM  V30 13 1 15 11\\nM  V30 14 1 16 12\\nM  V30 15 2 17 9\\nM  V30 16 2 18 12\\nM  V30 17 1 18 17\\nM  V30 18 1 19 18\\nM  V30 19 2 20 19\\nM  V30 20 1 21 20\\nM  V30 21 2 23 21\\nM  V30 22 1 23 22\\nM  V30 23 1 24 21\\nM  V30 24 1 25 23\\nM  V30 25 1 26 19\\nM  V30 26 2 26 22\\nM  V30 27 1 27 26\\nM  V30 28 1 28 22\\nM  V30 29 9 17 29\\nM  V30 30 9 20 29\\nM  V30 31 1 30 29\\nM  V30 32 1 31 30\\nM  V30 33 1 32 30\\nM  V30 34 1 33 30\\nM  V30 35 1 34 29\\nM  V30 END BOND\\nM  V30 END CTAB\\nM  END\\n>  <i_m_Molecular_charge>  (1) \\n0\\n\\n>  <i_m_Spin_multiplicity>  (1) \\n1\\n\\n$$$$\\n',\n",
       " 'final_sdf': 'charge=0\\n     RDKit          3D\\n\\n  0  0  0  0  0  0  0  0  0  0999 V3000\\nM  V30 BEGIN CTAB\\nM  V30 COUNTS 34 36 0 0 1\\nM  V30 BEGIN ATOM\\nM  V30 1 C -1.820360 -0.064819 2.129151 0\\nM  V30 2 C 0.946643 -0.054276 2.137007 0\\nM  V30 3 H -2.159755 -1.062158 1.844377 0\\nM  V30 4 H -1.392556 0.457046 1.272225 0\\nM  V30 5 H -2.633247 0.535073 2.551733 0\\nM  V30 6 H 1.911138 -0.352672 2.559110 0\\nM  V30 7 H 0.697621 -0.717800 1.309054 0\\nM  V30 8 H 0.971817 0.988208 1.812217 0\\nM  V30 9 C -3.142866 -0.840163 5.120941 0\\nM  V30 10 C -3.977899 -1.217104 6.165613 0\\nM  V30 11 C -3.409540 -1.471892 7.411931 0\\nM  V30 12 C -2.034757 -1.341170 7.564418 0\\nM  V30 13 H -3.527676 -0.648369 4.125307 0\\nM  V30 14 H -5.044856 -1.315794 5.997531 0\\nM  V30 15 H -4.025974 -1.776953 8.251729 0\\nM  V30 16 H -1.574315 -1.551689 8.522441 0\\nM  V30 17 N -1.818666 -0.708057 5.267087 0\\nM  V30 18 C -1.251589 -0.956229 6.470939 0\\nM  V30 19 C 0.216514 -0.824524 6.540713 0\\nM  V30 20 N 0.850600 -0.536032 5.379147 0\\nM  V30 21 C 2.183279 -0.415422 5.370499 0\\nM  V30 22 C 2.322910 -0.875285 7.712586 0\\nM  V30 23 C 2.961346 -0.579438 6.510233 0\\nM  V30 24 H 2.629370 -0.187593 4.408423 0\\nM  V30 25 H 4.039517 -0.477878 6.449484 0\\nM  V30 26 C 0.938910 -0.995891 7.726672 0\\nM  V30 27 H 0.425059 -1.221801 8.653559 0\\nM  V30 28 H 2.893076 -1.010613 8.626341 0\\nM  V30 29 Pd -0.439700 -0.324758 3.619653 0 VAL=6\\nM  V30 30 C -0.479195 1.737479 3.844470 0\\nM  V30 31 H 0.552336 2.069703 3.989404 0\\nM  V30 32 H -1.082072 1.955873 4.730602 0\\nM  V30 33 H -0.910177 2.209207 2.960568 0\\nM  V30 34 I -0.310472 -3.093068 3.348730 0\\nM  V30 END ATOM\\nM  V30 BEGIN BOND\\nM  V30 1 1 3 1\\nM  V30 2 1 4 1\\nM  V30 3 1 5 1\\nM  V30 4 1 6 2\\nM  V30 5 1 7 2\\nM  V30 6 1 8 2\\nM  V30 7 2 10 9\\nM  V30 8 1 11 10\\nM  V30 9 2 12 11\\nM  V30 10 1 13 9\\nM  V30 11 1 14 10\\nM  V30 12 1 15 11\\nM  V30 13 1 16 12\\nM  V30 14 1 17 9\\nM  V30 15 1 18 17\\nM  V30 16 1 18 12\\nM  V30 17 2 19 18\\nM  V30 18 1 20 19\\nM  V30 19 1 21 20\\nM  V30 20 2 23 21\\nM  V30 21 1 23 22\\nM  V30 22 1 24 21\\nM  V30 23 1 25 23\\nM  V30 24 2 26 22\\nM  V30 25 1 26 19\\nM  V30 26 1 27 26\\nM  V30 27 1 28 22\\nM  V30 28 1 29 20\\nM  V30 29 1 29 17\\nM  V30 30 1 29 1\\nM  V30 31 1 29 2\\nM  V30 32 1 30 29\\nM  V30 33 1 31 30\\nM  V30 34 1 32 30\\nM  V30 35 1 33 30\\nM  V30 36 1 34 29\\nM  V30 END BOND\\nM  V30 END CTAB\\nM  END\\n>  <i_m_Molecular_charge>  (2) \\n0\\n\\n>  <i_m_Spin_multiplicity>  (2) \\n1\\n\\n$$$$\\n',\n",
       " 'metal_inds': [28],\n",
       " 'metal_syms': ['Pd'],\n",
       " 'metal_oxs': [np.int64(0)],\n",
       " 'total_charge': -2,\n",
       " 'total_uhf': 0,\n",
       " 'swap_remove_inds': array([ 8,  9, 10, 11, 12, 13, 14, 15, 16, 17, 18, 19, 20, 21, 22, 23, 24,\n",
       "        25, 26, 27]),\n",
       " 'swap_functional_groups': ['c1cnc2c(c1)ccc1cccnc21'],\n",
       " 'swap_functionalization_inds': [[28, 28]],\n",
       " 'swap_functional_group_mol_inds': [[2, 12]],\n",
       " 'swap_bond_orders': [[1, 1]],\n",
       " 'swap_remove_hydrogens_when_adding': [[False, False]],\n",
       " 'swap_xtb_opt': False}"
      ]
     },
     "execution_count": 24,
     "metadata": {},
     "output_type": "execute_result"
    }
   ],
   "source": [
    "# Look at rxn\n",
    "swapdf.iloc[0].to_dict()"
   ]
  },
  {
   "cell_type": "code",
   "execution_count": 25,
   "metadata": {},
   "outputs": [
    {
     "name": "stdout",
     "output_type": "stream",
     "text": [
      "Possible 8162\n"
     ]
    },
    {
     "name": "stderr",
     "output_type": "stream",
     "text": [
      "100%|██████████| 8162/8162 [00:00<00:00, 15009.77it/s]"
     ]
    },
    {
     "name": "stdout",
     "output_type": "stream",
     "text": [
      "Number populated 8162\n",
      "rxn_uid : MOR1_Eu2_Charge2_UHF7_swaplig_1_newlig_c1ccccc1Sbc1ccccc1c1ccccc16\n",
      "rxn_name : MOR1\n",
      "reactants : ED01+CO\n",
      "products : PR01\n",
      "metal_inds : [2]\n",
      "metal_syms : ['Eu']\n",
      "metal_oxs : [2]\n",
      "total_charge : 2\n",
      "total_uhf : 7\n",
      "swap_remove_inds : [7 8]\n",
      "swap_functional_groups : ['c1ccc(cc1)[Sb](c1ccccc1)c1ccccc1']\n",
      "swap_functionalization_inds : [[2]]\n",
      "swap_functional_group_mol_inds : [[6]]\n",
      "swap_bond_orders : [[1]]\n",
      "swap_remove_hydrogens_when_adding : [[False]]\n",
      "swap_xtb_opt : False\n"
     ]
    },
    {
     "name": "stderr",
     "output_type": "stream",
     "text": [
      "\n"
     ]
    },
    {
     "data": {
      "application/3dmoljs_load.v0": "<div id=\"3dmolviewer_17419309587850602\"  style=\"position: relative; width: 200px; height: 200px;\">\n        <p id=\"3dmolwarning_17419309587850602\" style=\"background-color:#ffcccc;color:black\">3Dmol.js failed to load for some reason.  Please check your browser console for error messages.<br></p>\n        </div>\n<script>\n\nvar loadScriptAsync = function(uri){\n  return new Promise((resolve, reject) => {\n    //this is to ignore the existence of requirejs amd\n    var savedexports, savedmodule;\n    if (typeof exports !== 'undefined') savedexports = exports;\n    else exports = {}\n    if (typeof module !== 'undefined') savedmodule = module;\n    else module = {}\n\n    var tag = document.createElement('script');\n    tag.src = uri;\n    tag.async = true;\n    tag.onload = () => {\n        exports = savedexports;\n        module = savedmodule;\n        resolve();\n    };\n  var firstScriptTag = document.getElementsByTagName('script')[0];\n  firstScriptTag.parentNode.insertBefore(tag, firstScriptTag);\n});\n};\n\nif(typeof $3Dmolpromise === 'undefined') {\n$3Dmolpromise = null;\n  $3Dmolpromise = loadScriptAsync('https://cdnjs.cloudflare.com/ajax/libs/3Dmol/2.4.0/3Dmol-min.js');\n}\n\nvar viewer_17419309587850602 = null;\nvar warn = document.getElementById(\"3dmolwarning_17419309587850602\");\nif(warn) {\n    warn.parentNode.removeChild(warn);\n}\n$3Dmolpromise.then(function() {\nviewer_17419309587850602 = $3Dmol.createViewer(document.getElementById(\"3dmolviewer_17419309587850602\"),{backgroundColor:\"white\"});\nviewer_17419309587850602.zoomTo();\n\tviewer_17419309587850602.addModel(\"@<TRIPOS>MOLECULE\\ntmp.mol2\\n    13    11     2     0     0\\nSMALL\\nNoCharges\\n****\\nGenerated from Architector\\n\\n@<TRIPOS>ATOM\\n     1 O1        0.9892    0.0000    0.2000   O.3       1 RES1   0.0000\\n     2 C1       -0.1454    0.0000    0.2000   C.2       1 RES1   0.0000\\n     3 Cr1      -3.0398   -0.0001    0.2001   Cr.oh     2 RES2   0.0000\\n     4 O2       -3.1276   -2.4089    2.0869   O.3       2 RES2   0.0000\\n     5 C2       -3.0540   -1.5039    1.3782   C.2       2 RES2   0.0000\\n     6 C3       -4.8749   -0.0000    0.2001   C.2       2 RES2   0.0000\\n     7 O3       -6.0330    0.0001    0.2002   O.3       2 RES2   0.0000\\n     8 C4       -3.0541    1.5035   -0.9783   C.2       2 RES2   0.0000\\n     9 O4       -3.1275    2.4083   -1.6873   O.3       2 RES2   0.0000\\n    10 C5       -3.0542   -1.1781   -1.3037   C.2       2 RES2   0.0000\\n    11 O5       -3.1281   -1.8868   -2.2088   O.3       2 RES2   0.0000\\n    12 C6       -3.0545    1.1783    1.7037   C.2       2 RES2   0.0000\\n    13 O6       -3.1284    1.8873    2.6085   O.3       2 RES2   0.0000\\n@<TRIPOS>BOND\\n     1     1     2    3\\n     2     3     5    9\\n     3     3     6    9\\n     4     3     8    9\\n     5     3    10    9\\n     6     3    12    9\\n     7     4     5    3\\n     8     6     7    3\\n     9     8     9    3\\n    10    10    11    3\\n    11    12    13    3\\n@<TRIPOS>SUBSTRUCTURE\\n     1 RES1        2 GROUP             0 ****  ****    0  \\n     2 RES2       11 GROUP             0 ****  ****    0  \\n\",\"mol2\",{\"keepH\": true});\n\tviewer_17419309587850602.addStyle({\"sphere\": {\"colorscheme\": \"Jmol\", \"scale\": 0.3}});\n\tviewer_17419309587850602.setStyle({\"elem\": \"Cr\"},{\"sphere\": {\"colorscheme\": \"Jmol\", \"scale\": 0.75}});\n\tviewer_17419309587850602.addStyle({\"stick\": {\"colorscheme\": \"Jmol\", \"radius\": 0.25}});\n\tviewer_17419309587850602.addLabel(\"0\",{\"position\": {\"x\": \"0.9892\", \"y\": \"0.0\", \"z\": \"0.2\"}, \"backgroundColor\": \"'black'\", \"backgroundOpacity\": \"0.4\", \"fontOpacity\": \"1\", \"fontSize\": \"12\", \"fontColor\": \"white\", \"inFront\": \"true\"});\n\tviewer_17419309587850602.addLabel(\"1\",{\"position\": {\"x\": \"-0.1454\", \"y\": \"0.0\", \"z\": \"0.2\"}, \"backgroundColor\": \"'black'\", \"backgroundOpacity\": \"0.4\", \"fontOpacity\": \"1\", \"fontSize\": \"12\", \"fontColor\": \"white\", \"inFront\": \"true\"});\n\tviewer_17419309587850602.addLabel(\"2\",{\"position\": {\"x\": \"-3.0398\", \"y\": \"-0.0001\", \"z\": \"0.2001\"}, \"backgroundColor\": \"'black'\", \"backgroundOpacity\": \"0.4\", \"fontOpacity\": \"1\", \"fontSize\": \"12\", \"fontColor\": \"white\", \"inFront\": \"true\"});\n\tviewer_17419309587850602.addLabel(\"3\",{\"position\": {\"x\": \"-3.1276\", \"y\": \"-2.4089\", \"z\": \"2.0869\"}, \"backgroundColor\": \"'black'\", \"backgroundOpacity\": \"0.4\", \"fontOpacity\": \"1\", \"fontSize\": \"12\", \"fontColor\": \"white\", \"inFront\": \"true\"});\n\tviewer_17419309587850602.addLabel(\"4\",{\"position\": {\"x\": \"-3.054\", \"y\": \"-1.5039\", \"z\": \"1.3782\"}, \"backgroundColor\": \"'black'\", \"backgroundOpacity\": \"0.4\", \"fontOpacity\": \"1\", \"fontSize\": \"12\", \"fontColor\": \"white\", \"inFront\": \"true\"});\n\tviewer_17419309587850602.addLabel(\"5\",{\"position\": {\"x\": \"-4.8749\", \"y\": \"-0.0\", \"z\": \"0.2001\"}, \"backgroundColor\": \"'black'\", \"backgroundOpacity\": \"0.4\", \"fontOpacity\": \"1\", \"fontSize\": \"12\", \"fontColor\": \"white\", \"inFront\": \"true\"});\n\tviewer_17419309587850602.addLabel(\"6\",{\"position\": {\"x\": \"-6.033\", \"y\": \"0.0001\", \"z\": \"0.2002\"}, \"backgroundColor\": \"'black'\", \"backgroundOpacity\": \"0.4\", \"fontOpacity\": \"1\", \"fontSize\": \"12\", \"fontColor\": \"white\", \"inFront\": \"true\"});\n\tviewer_17419309587850602.addLabel(\"7\",{\"position\": {\"x\": \"-3.0541\", \"y\": \"1.5035\", \"z\": \"-0.9783\"}, \"backgroundColor\": \"'black'\", \"backgroundOpacity\": \"0.4\", \"fontOpacity\": \"1\", \"fontSize\": \"12\", \"fontColor\": \"white\", \"inFront\": \"true\"});\n\tviewer_17419309587850602.addLabel(\"8\",{\"position\": {\"x\": \"-3.1275\", \"y\": \"2.4083\", \"z\": \"-1.6873\"}, \"backgroundColor\": \"'black'\", \"backgroundOpacity\": \"0.4\", \"fontOpacity\": \"1\", \"fontSize\": \"12\", \"fontColor\": \"white\", \"inFront\": \"true\"});\n\tviewer_17419309587850602.addLabel(\"9\",{\"position\": {\"x\": \"-3.0542\", \"y\": \"-1.1781\", \"z\": \"-1.3037\"}, \"backgroundColor\": \"'black'\", \"backgroundOpacity\": \"0.4\", \"fontOpacity\": \"1\", \"fontSize\": \"12\", \"fontColor\": \"white\", \"inFront\": \"true\"});\n\tviewer_17419309587850602.addLabel(\"10\",{\"position\": {\"x\": \"-3.1281\", \"y\": \"-1.8868\", \"z\": \"-2.2088\"}, \"backgroundColor\": \"'black'\", \"backgroundOpacity\": \"0.4\", \"fontOpacity\": \"1\", \"fontSize\": \"12\", \"fontColor\": \"white\", \"inFront\": \"true\"});\n\tviewer_17419309587850602.addLabel(\"11\",{\"position\": {\"x\": \"-3.0545\", \"y\": \"1.1783\", \"z\": \"1.7037\"}, \"backgroundColor\": \"'black'\", \"backgroundOpacity\": \"0.4\", \"fontOpacity\": \"1\", \"fontSize\": \"12\", \"fontColor\": \"white\", \"inFront\": \"true\"});\n\tviewer_17419309587850602.addLabel(\"12\",{\"position\": {\"x\": \"-3.1284\", \"y\": \"1.8873\", \"z\": \"2.6085\"}, \"backgroundColor\": \"'black'\", \"backgroundOpacity\": \"0.4\", \"fontOpacity\": \"1\", \"fontSize\": \"12\", \"fontColor\": \"white\", \"inFront\": \"true\"});\n\tviewer_17419309587850602.zoomTo();\nviewer_17419309587850602.render();\n});\n</script>",
      "text/html": [
       "<div id=\"3dmolviewer_17419309587850602\"  style=\"position: relative; width: 200px; height: 200px;\">\n",
       "        <p id=\"3dmolwarning_17419309587850602\" style=\"background-color:#ffcccc;color:black\">3Dmol.js failed to load for some reason.  Please check your browser console for error messages.<br></p>\n",
       "        </div>\n",
       "<script>\n",
       "\n",
       "var loadScriptAsync = function(uri){\n",
       "  return new Promise((resolve, reject) => {\n",
       "    //this is to ignore the existence of requirejs amd\n",
       "    var savedexports, savedmodule;\n",
       "    if (typeof exports !== 'undefined') savedexports = exports;\n",
       "    else exports = {}\n",
       "    if (typeof module !== 'undefined') savedmodule = module;\n",
       "    else module = {}\n",
       "\n",
       "    var tag = document.createElement('script');\n",
       "    tag.src = uri;\n",
       "    tag.async = true;\n",
       "    tag.onload = () => {\n",
       "        exports = savedexports;\n",
       "        module = savedmodule;\n",
       "        resolve();\n",
       "    };\n",
       "  var firstScriptTag = document.getElementsByTagName('script')[0];\n",
       "  firstScriptTag.parentNode.insertBefore(tag, firstScriptTag);\n",
       "});\n",
       "};\n",
       "\n",
       "if(typeof $3Dmolpromise === 'undefined') {\n",
       "$3Dmolpromise = null;\n",
       "  $3Dmolpromise = loadScriptAsync('https://cdnjs.cloudflare.com/ajax/libs/3Dmol/2.4.0/3Dmol-min.js');\n",
       "}\n",
       "\n",
       "var viewer_17419309587850602 = null;\n",
       "var warn = document.getElementById(\"3dmolwarning_17419309587850602\");\n",
       "if(warn) {\n",
       "    warn.parentNode.removeChild(warn);\n",
       "}\n",
       "$3Dmolpromise.then(function() {\n",
       "viewer_17419309587850602 = $3Dmol.createViewer(document.getElementById(\"3dmolviewer_17419309587850602\"),{backgroundColor:\"white\"});\n",
       "viewer_17419309587850602.zoomTo();\n",
       "\tviewer_17419309587850602.addModel(\"@<TRIPOS>MOLECULE\\ntmp.mol2\\n    13    11     2     0     0\\nSMALL\\nNoCharges\\n****\\nGenerated from Architector\\n\\n@<TRIPOS>ATOM\\n     1 O1        0.9892    0.0000    0.2000   O.3       1 RES1   0.0000\\n     2 C1       -0.1454    0.0000    0.2000   C.2       1 RES1   0.0000\\n     3 Cr1      -3.0398   -0.0001    0.2001   Cr.oh     2 RES2   0.0000\\n     4 O2       -3.1276   -2.4089    2.0869   O.3       2 RES2   0.0000\\n     5 C2       -3.0540   -1.5039    1.3782   C.2       2 RES2   0.0000\\n     6 C3       -4.8749   -0.0000    0.2001   C.2       2 RES2   0.0000\\n     7 O3       -6.0330    0.0001    0.2002   O.3       2 RES2   0.0000\\n     8 C4       -3.0541    1.5035   -0.9783   C.2       2 RES2   0.0000\\n     9 O4       -3.1275    2.4083   -1.6873   O.3       2 RES2   0.0000\\n    10 C5       -3.0542   -1.1781   -1.3037   C.2       2 RES2   0.0000\\n    11 O5       -3.1281   -1.8868   -2.2088   O.3       2 RES2   0.0000\\n    12 C6       -3.0545    1.1783    1.7037   C.2       2 RES2   0.0000\\n    13 O6       -3.1284    1.8873    2.6085   O.3       2 RES2   0.0000\\n@<TRIPOS>BOND\\n     1     1     2    3\\n     2     3     5    9\\n     3     3     6    9\\n     4     3     8    9\\n     5     3    10    9\\n     6     3    12    9\\n     7     4     5    3\\n     8     6     7    3\\n     9     8     9    3\\n    10    10    11    3\\n    11    12    13    3\\n@<TRIPOS>SUBSTRUCTURE\\n     1 RES1        2 GROUP             0 ****  ****    0  \\n     2 RES2       11 GROUP             0 ****  ****    0  \\n\",\"mol2\",{\"keepH\": true});\n",
       "\tviewer_17419309587850602.addStyle({\"sphere\": {\"colorscheme\": \"Jmol\", \"scale\": 0.3}});\n",
       "\tviewer_17419309587850602.setStyle({\"elem\": \"Cr\"},{\"sphere\": {\"colorscheme\": \"Jmol\", \"scale\": 0.75}});\n",
       "\tviewer_17419309587850602.addStyle({\"stick\": {\"colorscheme\": \"Jmol\", \"radius\": 0.25}});\n",
       "\tviewer_17419309587850602.addLabel(\"0\",{\"position\": {\"x\": \"0.9892\", \"y\": \"0.0\", \"z\": \"0.2\"}, \"backgroundColor\": \"'black'\", \"backgroundOpacity\": \"0.4\", \"fontOpacity\": \"1\", \"fontSize\": \"12\", \"fontColor\": \"white\", \"inFront\": \"true\"});\n",
       "\tviewer_17419309587850602.addLabel(\"1\",{\"position\": {\"x\": \"-0.1454\", \"y\": \"0.0\", \"z\": \"0.2\"}, \"backgroundColor\": \"'black'\", \"backgroundOpacity\": \"0.4\", \"fontOpacity\": \"1\", \"fontSize\": \"12\", \"fontColor\": \"white\", \"inFront\": \"true\"});\n",
       "\tviewer_17419309587850602.addLabel(\"2\",{\"position\": {\"x\": \"-3.0398\", \"y\": \"-0.0001\", \"z\": \"0.2001\"}, \"backgroundColor\": \"'black'\", \"backgroundOpacity\": \"0.4\", \"fontOpacity\": \"1\", \"fontSize\": \"12\", \"fontColor\": \"white\", \"inFront\": \"true\"});\n",
       "\tviewer_17419309587850602.addLabel(\"3\",{\"position\": {\"x\": \"-3.1276\", \"y\": \"-2.4089\", \"z\": \"2.0869\"}, \"backgroundColor\": \"'black'\", \"backgroundOpacity\": \"0.4\", \"fontOpacity\": \"1\", \"fontSize\": \"12\", \"fontColor\": \"white\", \"inFront\": \"true\"});\n",
       "\tviewer_17419309587850602.addLabel(\"4\",{\"position\": {\"x\": \"-3.054\", \"y\": \"-1.5039\", \"z\": \"1.3782\"}, \"backgroundColor\": \"'black'\", \"backgroundOpacity\": \"0.4\", \"fontOpacity\": \"1\", \"fontSize\": \"12\", \"fontColor\": \"white\", \"inFront\": \"true\"});\n",
       "\tviewer_17419309587850602.addLabel(\"5\",{\"position\": {\"x\": \"-4.8749\", \"y\": \"-0.0\", \"z\": \"0.2001\"}, \"backgroundColor\": \"'black'\", \"backgroundOpacity\": \"0.4\", \"fontOpacity\": \"1\", \"fontSize\": \"12\", \"fontColor\": \"white\", \"inFront\": \"true\"});\n",
       "\tviewer_17419309587850602.addLabel(\"6\",{\"position\": {\"x\": \"-6.033\", \"y\": \"0.0001\", \"z\": \"0.2002\"}, \"backgroundColor\": \"'black'\", \"backgroundOpacity\": \"0.4\", \"fontOpacity\": \"1\", \"fontSize\": \"12\", \"fontColor\": \"white\", \"inFront\": \"true\"});\n",
       "\tviewer_17419309587850602.addLabel(\"7\",{\"position\": {\"x\": \"-3.0541\", \"y\": \"1.5035\", \"z\": \"-0.9783\"}, \"backgroundColor\": \"'black'\", \"backgroundOpacity\": \"0.4\", \"fontOpacity\": \"1\", \"fontSize\": \"12\", \"fontColor\": \"white\", \"inFront\": \"true\"});\n",
       "\tviewer_17419309587850602.addLabel(\"8\",{\"position\": {\"x\": \"-3.1275\", \"y\": \"2.4083\", \"z\": \"-1.6873\"}, \"backgroundColor\": \"'black'\", \"backgroundOpacity\": \"0.4\", \"fontOpacity\": \"1\", \"fontSize\": \"12\", \"fontColor\": \"white\", \"inFront\": \"true\"});\n",
       "\tviewer_17419309587850602.addLabel(\"9\",{\"position\": {\"x\": \"-3.0542\", \"y\": \"-1.1781\", \"z\": \"-1.3037\"}, \"backgroundColor\": \"'black'\", \"backgroundOpacity\": \"0.4\", \"fontOpacity\": \"1\", \"fontSize\": \"12\", \"fontColor\": \"white\", \"inFront\": \"true\"});\n",
       "\tviewer_17419309587850602.addLabel(\"10\",{\"position\": {\"x\": \"-3.1281\", \"y\": \"-1.8868\", \"z\": \"-2.2088\"}, \"backgroundColor\": \"'black'\", \"backgroundOpacity\": \"0.4\", \"fontOpacity\": \"1\", \"fontSize\": \"12\", \"fontColor\": \"white\", \"inFront\": \"true\"});\n",
       "\tviewer_17419309587850602.addLabel(\"11\",{\"position\": {\"x\": \"-3.0545\", \"y\": \"1.1783\", \"z\": \"1.7037\"}, \"backgroundColor\": \"'black'\", \"backgroundOpacity\": \"0.4\", \"fontOpacity\": \"1\", \"fontSize\": \"12\", \"fontColor\": \"white\", \"inFront\": \"true\"});\n",
       "\tviewer_17419309587850602.addLabel(\"12\",{\"position\": {\"x\": \"-3.1284\", \"y\": \"1.8873\", \"z\": \"2.6085\"}, \"backgroundColor\": \"'black'\", \"backgroundOpacity\": \"0.4\", \"fontOpacity\": \"1\", \"fontSize\": \"12\", \"fontColor\": \"white\", \"inFront\": \"true\"});\n",
       "\tviewer_17419309587850602.zoomTo();\n",
       "viewer_17419309587850602.render();\n",
       "});\n",
       "</script>"
      ]
     },
     "metadata": {},
     "output_type": "display_data"
    },
    {
     "name": "stdout",
     "output_type": "stream",
     "text": [
      "MOR1_Eu2_Charge2_UHF7_swaplig_1_newlig_c1ccccc1Sbc1ccccc1c1ccccc16.sdf\n"
     ]
    },
    {
     "data": {
      "application/3dmoljs_load.v0": "<div id=\"3dmolviewer_1741930959574311\"  style=\"position: relative; width: 800px; height: 200px;\">\n        <p id=\"3dmolwarning_1741930959574311\" style=\"background-color:#ffcccc;color:black\">3Dmol.js failed to load for some reason.  Please check your browser console for error messages.<br></p>\n        </div>\n<script>\n\nvar loadScriptAsync = function(uri){\n  return new Promise((resolve, reject) => {\n    //this is to ignore the existence of requirejs amd\n    var savedexports, savedmodule;\n    if (typeof exports !== 'undefined') savedexports = exports;\n    else exports = {}\n    if (typeof module !== 'undefined') savedmodule = module;\n    else module = {}\n\n    var tag = document.createElement('script');\n    tag.src = uri;\n    tag.async = true;\n    tag.onload = () => {\n        exports = savedexports;\n        module = savedmodule;\n        resolve();\n    };\n  var firstScriptTag = document.getElementsByTagName('script')[0];\n  firstScriptTag.parentNode.insertBefore(tag, firstScriptTag);\n});\n};\n\nif(typeof $3Dmolpromise === 'undefined') {\n$3Dmolpromise = null;\n  $3Dmolpromise = loadScriptAsync('https://cdnjs.cloudflare.com/ajax/libs/3Dmol/2.4.0/3Dmol-min.js');\n}\n\nvar viewer_1741930959574311 = null;\nvar warn = document.getElementById(\"3dmolwarning_1741930959574311\");\nif(warn) {\n    warn.parentNode.removeChild(warn);\n}\n$3Dmolpromise.then(function() {\nvar viewergrid_1741930959574311 = null;\nviewergrid_1741930959574311 = $3Dmol.createViewerGrid(document.getElementById(\"3dmolviewer_1741930959574311\"),{rows: 1, cols: 4, control_all: false},{backgroundColor:\"white\"});\nviewer_1741930959574311 = viewergrid_1741930959574311[0][0];\nviewergrid_1741930959574311[0][0].zoomTo();viewergrid_1741930959574311[0][1].zoomTo();viewergrid_1741930959574311[0][2].zoomTo();viewergrid_1741930959574311[0][3].zoomTo();\tviewergrid_1741930959574311[0][0].addModel(\"@<TRIPOS>MOLECULE\\ntmp.mol2\\n    45    46     2     0     0\\nSMALL\\nNoCharges\\n****\\nGenerated from Architector\\n\\n@<TRIPOS>ATOM\\n     1 O1        0.0000    3.7913   -1.3635   O.3       1 RES1   0.0000\\n     2 C1        0.0000    2.7236   -0.9795   C.1       1 RES1   0.0000\\n     3 Eu1       0.0000    0.0000    0.0000   Eu        2 RES2   0.0000\\n     4 O2       -0.0003   -1.1183   -2.8495   O.3       2 RES2   0.0000\\n     5 C2        0.0000   -0.6599   -1.7928   C.1       2 RES2   0.0000\\n     6 C3        0.0001   -1.7268    0.6212   C.1       2 RES2   0.0000\\n     7 O3        0.0002   -2.8165    1.0132   O.3       2 RES2   0.0000\\n     8 C4       -1.9103   -0.0135    0.0050   C.1       2 RES2   0.0000\\n     9 O4       -3.0598   -0.0829    0.0303   O.3       2 RES2   0.0000\\n    10 C5        1.9104   -0.0137    0.0053   C.1       2 RES2   0.0000\\n    11 O5        3.0598   -0.0832    0.0304   O.3       2 RES2   0.0000\\n    12 C6       -0.7326    4.6089    6.1790   C.ar      2 RES2   0.0000\\n    13 C7        0.3272    4.6190    5.2699   C.ar      2 RES2   0.0000\\n    14 C8        0.5052    3.5454    4.3959   C.ar      2 RES2   0.0000\\n    15 C9       -0.3731    2.4557    4.4296   C.ar      2 RES2   0.0000\\n    16 C10      -1.4338    2.4419    5.3426   C.ar      2 RES2   0.0000\\n    17 C11      -1.6126    3.5200    6.2164   C.ar      2 RES2   0.0000\\n    18 Sb1      -0.0524    0.8916    3.0069   Sb        2 RES2   0.0000\\n    19 C12       1.7859    0.1032    3.8559   C.ar      2 RES2   0.0000\\n    20 C13       2.5078   -0.9051    3.2025   C.ar      2 RES2   0.0000\\n    21 C14       3.6727   -1.4293    3.7736   C.ar      2 RES2   0.0000\\n    22 C15       4.1184   -0.9593    5.0110   C.ar      2 RES2   0.0000\\n    23 C16       3.3972    0.0327    5.6785   C.ar      2 RES2   0.0000\\n    24 C17       2.2363    0.5613    5.1049   C.ar      2 RES2   0.0000\\n    25 C18      -1.6707   -0.4119    3.5453   C.ar      2 RES2   0.0000\\n    26 C19      -1.3793   -1.5874    4.2506   C.ar      2 RES2   0.0000\\n    27 C20      -2.4054   -2.4657    4.6109   C.ar      2 RES2   0.0000\\n    28 C21      -3.7281   -2.1705    4.2700   C.ar      2 RES2   0.0000\\n    29 C22      -4.0237   -0.9959    3.5694   C.ar      2 RES2   0.0000\\n    30 C23      -2.9963   -0.1158    3.2079   C.ar      2 RES2   0.0000\\n    31 H1       -0.8749    5.4440    6.8506   H         2 RES2   0.0000\\n    32 H2        1.0074    5.4606    5.2344   H         2 RES2   0.0000\\n    33 H3        1.3223    3.5608    3.6848   H         2 RES2   0.0000\\n    34 H4       -2.1232    1.6107    5.3734   H         2 RES2   0.0000\\n    35 H5       -2.4359    3.5156    6.9183   H         2 RES2   0.0000\\n    36 H6        2.1701   -1.2962    2.2602   H         2 RES2   0.0000\\n    37 H7        4.2268   -2.2052    3.2604   H         2 RES2   0.0000\\n    38 H8        5.0162   -1.3689    5.4561   H         2 RES2   0.0000\\n    39 H9        3.7339    0.3883    6.6438   H         2 RES2   0.0000\\n    40 H10       1.6893    1.3168    5.6467   H         2 RES2   0.0000\\n    41 H11      -0.3574   -1.8239    4.5157   H         2 RES2   0.0000\\n    42 H12      -2.1750   -3.3746    5.1525   H         2 RES2   0.0000\\n    43 H13      -4.5225   -2.8518    4.5473   H         2 RES2   0.0000\\n    44 H14      -5.0483   -0.7695    3.3055   H         2 RES2   0.0000\\n    45 H15      -3.2283    0.7912    2.6668   H         2 RES2   0.0000\\n@<TRIPOS>BOND\\n     1     1     2    3\\n     2     3     5    9\\n     3     3     6    9\\n     4     3     8    9\\n     5     3    10    9\\n     6     3    18    1\\n     7     4     5    3\\n     8     6     7    3\\n     9     8     9    3\\n    10    10    11    3\\n    11    12    13   ar\\n    12    12    17   ar\\n    13    12    31    1\\n    14    13    14   ar\\n    15    13    32    1\\n    16    14    15   ar\\n    17    14    33    1\\n    18    15    16   ar\\n    19    15    18    1\\n    20    16    17   ar\\n    21    16    34    1\\n    22    17    35    1\\n    23    18    19    1\\n    24    18    25    1\\n    25    19    20   ar\\n    26    19    24   ar\\n    27    20    21   ar\\n    28    20    36    1\\n    29    21    22   ar\\n    30    21    37    1\\n    31    22    23   ar\\n    32    22    38    1\\n    33    23    24   ar\\n    34    23    39    1\\n    35    24    40    1\\n    36    25    26   ar\\n    37    25    30   ar\\n    38    26    27   ar\\n    39    26    41    1\\n    40    27    28   ar\\n    41    27    42    1\\n    42    28    29   ar\\n    43    28    43    1\\n    44    29    30   ar\\n    45    29    44    1\\n    46    30    45    1\\n@<TRIPOS>SUBSTRUCTURE\\n     1 RES1        2 GROUP             0 ****  ****    0  \\n     2 RES2       43 GROUP             0 ****  ****    0  \\n\",\"mol2\",{\"keepH\": true});\n\tviewergrid_1741930959574311[0][0].addStyle({\"sphere\": {\"colorscheme\": \"Jmol\", \"scale\": 0.3}});\n\tviewergrid_1741930959574311[0][0].setStyle({\"elem\": \"Eu\"},{\"sphere\": {\"colorscheme\": \"Jmol\", \"scale\": 0.75}});\n\tviewergrid_1741930959574311[0][0].addStyle({\"stick\": {\"colorscheme\": \"Jmol\", \"radius\": 0.25}});\n\tviewergrid_1741930959574311[0][0].addLabel(\"0\",{\"position\": {\"x\": \"0.0\", \"y\": \"3.7913\", \"z\": \"-1.3635\"}, \"backgroundColor\": \"'black'\", \"backgroundOpacity\": \"0.4\", \"fontOpacity\": \"1\", \"fontSize\": \"12\", \"fontColor\": \"white\", \"inFront\": \"true\"});\n\tviewergrid_1741930959574311[0][0].addLabel(\"1\",{\"position\": {\"x\": \"0.0\", \"y\": \"2.7236\", \"z\": \"-0.9795\"}, \"backgroundColor\": \"'black'\", \"backgroundOpacity\": \"0.4\", \"fontOpacity\": \"1\", \"fontSize\": \"12\", \"fontColor\": \"white\", \"inFront\": \"true\"});\n\tviewergrid_1741930959574311[0][0].addLabel(\"2\",{\"position\": {\"x\": \"0.0\", \"y\": \"0.0\", \"z\": \"0.0\"}, \"backgroundColor\": \"'black'\", \"backgroundOpacity\": \"0.4\", \"fontOpacity\": \"1\", \"fontSize\": \"12\", \"fontColor\": \"white\", \"inFront\": \"true\"});\n\tviewergrid_1741930959574311[0][0].addLabel(\"3\",{\"position\": {\"x\": \"-0.0003\", \"y\": \"-1.1183\", \"z\": \"-2.8495\"}, \"backgroundColor\": \"'black'\", \"backgroundOpacity\": \"0.4\", \"fontOpacity\": \"1\", \"fontSize\": \"12\", \"fontColor\": \"white\", \"inFront\": \"true\"});\n\tviewergrid_1741930959574311[0][0].addLabel(\"4\",{\"position\": {\"x\": \"0.0\", \"y\": \"-0.6599\", \"z\": \"-1.7928\"}, \"backgroundColor\": \"'black'\", \"backgroundOpacity\": \"0.4\", \"fontOpacity\": \"1\", \"fontSize\": \"12\", \"fontColor\": \"white\", \"inFront\": \"true\"});\n\tviewergrid_1741930959574311[0][0].addLabel(\"5\",{\"position\": {\"x\": \"0.0001\", \"y\": \"-1.7268\", \"z\": \"0.6212\"}, \"backgroundColor\": \"'black'\", \"backgroundOpacity\": \"0.4\", \"fontOpacity\": \"1\", \"fontSize\": \"12\", \"fontColor\": \"white\", \"inFront\": \"true\"});\n\tviewergrid_1741930959574311[0][0].addLabel(\"6\",{\"position\": {\"x\": \"0.0002\", \"y\": \"-2.8165\", \"z\": \"1.0132\"}, \"backgroundColor\": \"'black'\", \"backgroundOpacity\": \"0.4\", \"fontOpacity\": \"1\", \"fontSize\": \"12\", \"fontColor\": \"white\", \"inFront\": \"true\"});\n\tviewergrid_1741930959574311[0][0].addLabel(\"7\",{\"position\": {\"x\": \"-1.9103\", \"y\": \"-0.0135\", \"z\": \"0.005\"}, \"backgroundColor\": \"'black'\", \"backgroundOpacity\": \"0.4\", \"fontOpacity\": \"1\", \"fontSize\": \"12\", \"fontColor\": \"white\", \"inFront\": \"true\"});\n\tviewergrid_1741930959574311[0][0].addLabel(\"8\",{\"position\": {\"x\": \"-3.0598\", \"y\": \"-0.0829\", \"z\": \"0.0303\"}, \"backgroundColor\": \"'black'\", \"backgroundOpacity\": \"0.4\", \"fontOpacity\": \"1\", \"fontSize\": \"12\", \"fontColor\": \"white\", \"inFront\": \"true\"});\n\tviewergrid_1741930959574311[0][0].addLabel(\"9\",{\"position\": {\"x\": \"1.9104\", \"y\": \"-0.0137\", \"z\": \"0.0053\"}, \"backgroundColor\": \"'black'\", \"backgroundOpacity\": \"0.4\", \"fontOpacity\": \"1\", \"fontSize\": \"12\", \"fontColor\": \"white\", \"inFront\": \"true\"});\n\tviewergrid_1741930959574311[0][0].addLabel(\"10\",{\"position\": {\"x\": \"3.0598\", \"y\": \"-0.0832\", \"z\": \"0.0304\"}, \"backgroundColor\": \"'black'\", \"backgroundOpacity\": \"0.4\", \"fontOpacity\": \"1\", \"fontSize\": \"12\", \"fontColor\": \"white\", \"inFront\": \"true\"});\n\tviewergrid_1741930959574311[0][0].addLabel(\"11\",{\"position\": {\"x\": \"-0.7326\", \"y\": \"4.6089\", \"z\": \"6.179\"}, \"backgroundColor\": \"'black'\", \"backgroundOpacity\": \"0.4\", \"fontOpacity\": \"1\", \"fontSize\": \"12\", \"fontColor\": \"white\", \"inFront\": \"true\"});\n\tviewergrid_1741930959574311[0][0].addLabel(\"12\",{\"position\": {\"x\": \"0.3272\", \"y\": \"4.619\", \"z\": \"5.2699\"}, \"backgroundColor\": \"'black'\", \"backgroundOpacity\": \"0.4\", \"fontOpacity\": \"1\", \"fontSize\": \"12\", \"fontColor\": \"white\", \"inFront\": \"true\"});\n\tviewergrid_1741930959574311[0][0].addLabel(\"13\",{\"position\": {\"x\": \"0.5052\", \"y\": \"3.5454\", \"z\": \"4.3959\"}, \"backgroundColor\": \"'black'\", \"backgroundOpacity\": \"0.4\", \"fontOpacity\": \"1\", \"fontSize\": \"12\", \"fontColor\": \"white\", \"inFront\": \"true\"});\n\tviewergrid_1741930959574311[0][0].addLabel(\"14\",{\"position\": {\"x\": \"-0.3731\", \"y\": \"2.4557\", \"z\": \"4.4296\"}, \"backgroundColor\": \"'black'\", \"backgroundOpacity\": \"0.4\", \"fontOpacity\": \"1\", \"fontSize\": \"12\", \"fontColor\": \"white\", \"inFront\": \"true\"});\n\tviewergrid_1741930959574311[0][0].addLabel(\"15\",{\"position\": {\"x\": \"-1.4338\", \"y\": \"2.4419\", \"z\": \"5.3426\"}, \"backgroundColor\": \"'black'\", \"backgroundOpacity\": \"0.4\", \"fontOpacity\": \"1\", \"fontSize\": \"12\", \"fontColor\": \"white\", \"inFront\": \"true\"});\n\tviewergrid_1741930959574311[0][0].addLabel(\"16\",{\"position\": {\"x\": \"-1.6126\", \"y\": \"3.52\", \"z\": \"6.2164\"}, \"backgroundColor\": \"'black'\", \"backgroundOpacity\": \"0.4\", \"fontOpacity\": \"1\", \"fontSize\": \"12\", \"fontColor\": \"white\", \"inFront\": \"true\"});\n\tviewergrid_1741930959574311[0][0].addLabel(\"17\",{\"position\": {\"x\": \"-0.0524\", \"y\": \"0.8916\", \"z\": \"3.0069\"}, \"backgroundColor\": \"'black'\", \"backgroundOpacity\": \"0.4\", \"fontOpacity\": \"1\", \"fontSize\": \"12\", \"fontColor\": \"white\", \"inFront\": \"true\"});\n\tviewergrid_1741930959574311[0][0].addLabel(\"18\",{\"position\": {\"x\": \"1.7859\", \"y\": \"0.1032\", \"z\": \"3.8559\"}, \"backgroundColor\": \"'black'\", \"backgroundOpacity\": \"0.4\", \"fontOpacity\": \"1\", \"fontSize\": \"12\", \"fontColor\": \"white\", \"inFront\": \"true\"});\n\tviewergrid_1741930959574311[0][0].addLabel(\"19\",{\"position\": {\"x\": \"2.5078\", \"y\": \"-0.9051\", \"z\": \"3.2025\"}, \"backgroundColor\": \"'black'\", \"backgroundOpacity\": \"0.4\", \"fontOpacity\": \"1\", \"fontSize\": \"12\", \"fontColor\": \"white\", \"inFront\": \"true\"});\n\tviewergrid_1741930959574311[0][0].addLabel(\"20\",{\"position\": {\"x\": \"3.6727\", \"y\": \"-1.4293\", \"z\": \"3.7736\"}, \"backgroundColor\": \"'black'\", \"backgroundOpacity\": \"0.4\", \"fontOpacity\": \"1\", \"fontSize\": \"12\", \"fontColor\": \"white\", \"inFront\": \"true\"});\n\tviewergrid_1741930959574311[0][0].addLabel(\"21\",{\"position\": {\"x\": \"4.1184\", \"y\": \"-0.9593\", \"z\": \"5.011\"}, \"backgroundColor\": \"'black'\", \"backgroundOpacity\": \"0.4\", \"fontOpacity\": \"1\", \"fontSize\": \"12\", \"fontColor\": \"white\", \"inFront\": \"true\"});\n\tviewergrid_1741930959574311[0][0].addLabel(\"22\",{\"position\": {\"x\": \"3.3972\", \"y\": \"0.0327\", \"z\": \"5.6785\"}, \"backgroundColor\": \"'black'\", \"backgroundOpacity\": \"0.4\", \"fontOpacity\": \"1\", \"fontSize\": \"12\", \"fontColor\": \"white\", \"inFront\": \"true\"});\n\tviewergrid_1741930959574311[0][0].addLabel(\"23\",{\"position\": {\"x\": \"2.2363\", \"y\": \"0.5613\", \"z\": \"5.1049\"}, \"backgroundColor\": \"'black'\", \"backgroundOpacity\": \"0.4\", \"fontOpacity\": \"1\", \"fontSize\": \"12\", \"fontColor\": \"white\", \"inFront\": \"true\"});\n\tviewergrid_1741930959574311[0][0].addLabel(\"24\",{\"position\": {\"x\": \"-1.6707\", \"y\": \"-0.4119\", \"z\": \"3.5453\"}, \"backgroundColor\": \"'black'\", \"backgroundOpacity\": \"0.4\", \"fontOpacity\": \"1\", \"fontSize\": \"12\", \"fontColor\": \"white\", \"inFront\": \"true\"});\n\tviewergrid_1741930959574311[0][0].addLabel(\"25\",{\"position\": {\"x\": \"-1.3793\", \"y\": \"-1.5874\", \"z\": \"4.2506\"}, \"backgroundColor\": \"'black'\", \"backgroundOpacity\": \"0.4\", \"fontOpacity\": \"1\", \"fontSize\": \"12\", \"fontColor\": \"white\", \"inFront\": \"true\"});\n\tviewergrid_1741930959574311[0][0].addLabel(\"26\",{\"position\": {\"x\": \"-2.4054\", \"y\": \"-2.4657\", \"z\": \"4.6109\"}, \"backgroundColor\": \"'black'\", \"backgroundOpacity\": \"0.4\", \"fontOpacity\": \"1\", \"fontSize\": \"12\", \"fontColor\": \"white\", \"inFront\": \"true\"});\n\tviewergrid_1741930959574311[0][0].addLabel(\"27\",{\"position\": {\"x\": \"-3.7281\", \"y\": \"-2.1705\", \"z\": \"4.27\"}, \"backgroundColor\": \"'black'\", \"backgroundOpacity\": \"0.4\", \"fontOpacity\": \"1\", \"fontSize\": \"12\", \"fontColor\": \"white\", \"inFront\": \"true\"});\n\tviewergrid_1741930959574311[0][0].addLabel(\"28\",{\"position\": {\"x\": \"-4.0237\", \"y\": \"-0.9959\", \"z\": \"3.5694\"}, \"backgroundColor\": \"'black'\", \"backgroundOpacity\": \"0.4\", \"fontOpacity\": \"1\", \"fontSize\": \"12\", \"fontColor\": \"white\", \"inFront\": \"true\"});\n\tviewergrid_1741930959574311[0][0].addLabel(\"29\",{\"position\": {\"x\": \"-2.9963\", \"y\": \"-0.1158\", \"z\": \"3.2079\"}, \"backgroundColor\": \"'black'\", \"backgroundOpacity\": \"0.4\", \"fontOpacity\": \"1\", \"fontSize\": \"12\", \"fontColor\": \"white\", \"inFront\": \"true\"});\n\tviewergrid_1741930959574311[0][0].addLabel(\"30\",{\"position\": {\"x\": \"-0.8749\", \"y\": \"5.444\", \"z\": \"6.8506\"}, \"backgroundColor\": \"'black'\", \"backgroundOpacity\": \"0.4\", \"fontOpacity\": \"1\", \"fontSize\": \"12\", \"fontColor\": \"white\", \"inFront\": \"true\"});\n\tviewergrid_1741930959574311[0][0].addLabel(\"31\",{\"position\": {\"x\": \"1.0074\", \"y\": \"5.4606\", \"z\": \"5.2344\"}, \"backgroundColor\": \"'black'\", \"backgroundOpacity\": \"0.4\", \"fontOpacity\": \"1\", \"fontSize\": \"12\", \"fontColor\": \"white\", \"inFront\": \"true\"});\n\tviewergrid_1741930959574311[0][0].addLabel(\"32\",{\"position\": {\"x\": \"1.3223\", \"y\": \"3.5608\", \"z\": \"3.6848\"}, \"backgroundColor\": \"'black'\", \"backgroundOpacity\": \"0.4\", \"fontOpacity\": \"1\", \"fontSize\": \"12\", \"fontColor\": \"white\", \"inFront\": \"true\"});\n\tviewergrid_1741930959574311[0][0].addLabel(\"33\",{\"position\": {\"x\": \"-2.1232\", \"y\": \"1.6107\", \"z\": \"5.3734\"}, \"backgroundColor\": \"'black'\", \"backgroundOpacity\": \"0.4\", \"fontOpacity\": \"1\", \"fontSize\": \"12\", \"fontColor\": \"white\", \"inFront\": \"true\"});\n\tviewergrid_1741930959574311[0][0].addLabel(\"34\",{\"position\": {\"x\": \"-2.4359\", \"y\": \"3.5156\", \"z\": \"6.9183\"}, \"backgroundColor\": \"'black'\", \"backgroundOpacity\": \"0.4\", \"fontOpacity\": \"1\", \"fontSize\": \"12\", \"fontColor\": \"white\", \"inFront\": \"true\"});\n\tviewergrid_1741930959574311[0][0].addLabel(\"35\",{\"position\": {\"x\": \"2.1701\", \"y\": \"-1.2962\", \"z\": \"2.2602\"}, \"backgroundColor\": \"'black'\", \"backgroundOpacity\": \"0.4\", \"fontOpacity\": \"1\", \"fontSize\": \"12\", \"fontColor\": \"white\", \"inFront\": \"true\"});\n\tviewergrid_1741930959574311[0][0].addLabel(\"36\",{\"position\": {\"x\": \"4.2268\", \"y\": \"-2.2052\", \"z\": \"3.2604\"}, \"backgroundColor\": \"'black'\", \"backgroundOpacity\": \"0.4\", \"fontOpacity\": \"1\", \"fontSize\": \"12\", \"fontColor\": \"white\", \"inFront\": \"true\"});\n\tviewergrid_1741930959574311[0][0].addLabel(\"37\",{\"position\": {\"x\": \"5.0162\", \"y\": \"-1.3689\", \"z\": \"5.4561\"}, \"backgroundColor\": \"'black'\", \"backgroundOpacity\": \"0.4\", \"fontOpacity\": \"1\", \"fontSize\": \"12\", \"fontColor\": \"white\", \"inFront\": \"true\"});\n\tviewergrid_1741930959574311[0][0].addLabel(\"38\",{\"position\": {\"x\": \"3.7339\", \"y\": \"0.3883\", \"z\": \"6.6438\"}, \"backgroundColor\": \"'black'\", \"backgroundOpacity\": \"0.4\", \"fontOpacity\": \"1\", \"fontSize\": \"12\", \"fontColor\": \"white\", \"inFront\": \"true\"});\n\tviewergrid_1741930959574311[0][0].addLabel(\"39\",{\"position\": {\"x\": \"1.6893\", \"y\": \"1.3168\", \"z\": \"5.6467\"}, \"backgroundColor\": \"'black'\", \"backgroundOpacity\": \"0.4\", \"fontOpacity\": \"1\", \"fontSize\": \"12\", \"fontColor\": \"white\", \"inFront\": \"true\"});\n\tviewergrid_1741930959574311[0][0].addLabel(\"40\",{\"position\": {\"x\": \"-0.3574\", \"y\": \"-1.8239\", \"z\": \"4.5157\"}, \"backgroundColor\": \"'black'\", \"backgroundOpacity\": \"0.4\", \"fontOpacity\": \"1\", \"fontSize\": \"12\", \"fontColor\": \"white\", \"inFront\": \"true\"});\n\tviewergrid_1741930959574311[0][0].addLabel(\"41\",{\"position\": {\"x\": \"-2.175\", \"y\": \"-3.3746\", \"z\": \"5.1525\"}, \"backgroundColor\": \"'black'\", \"backgroundOpacity\": \"0.4\", \"fontOpacity\": \"1\", \"fontSize\": \"12\", \"fontColor\": \"white\", \"inFront\": \"true\"});\n\tviewergrid_1741930959574311[0][0].addLabel(\"42\",{\"position\": {\"x\": \"-4.5225\", \"y\": \"-2.8518\", \"z\": \"4.5473\"}, \"backgroundColor\": \"'black'\", \"backgroundOpacity\": \"0.4\", \"fontOpacity\": \"1\", \"fontSize\": \"12\", \"fontColor\": \"white\", \"inFront\": \"true\"});\n\tviewergrid_1741930959574311[0][0].addLabel(\"43\",{\"position\": {\"x\": \"-5.0483\", \"y\": \"-0.7695\", \"z\": \"3.3055\"}, \"backgroundColor\": \"'black'\", \"backgroundOpacity\": \"0.4\", \"fontOpacity\": \"1\", \"fontSize\": \"12\", \"fontColor\": \"white\", \"inFront\": \"true\"});\n\tviewergrid_1741930959574311[0][0].addLabel(\"44\",{\"position\": {\"x\": \"-3.2283\", \"y\": \"0.7912\", \"z\": \"2.6668\"}, \"backgroundColor\": \"'black'\", \"backgroundOpacity\": \"0.4\", \"fontOpacity\": \"1\", \"fontSize\": \"12\", \"fontColor\": \"white\", \"inFront\": \"true\"});\n\tviewergrid_1741930959574311[0][0].zoomTo();\n\tviewergrid_1741930959574311[0][1].addModel(\"@<TRIPOS>MOLECULE\\ntmp.mol2\\n    45    47     1     0     0\\nSMALL\\nNoCharges\\n****\\nGenerated from Architector\\n\\n@<TRIPOS>ATOM\\n     1 O1        0.0038    3.0608    0.0002   O.3       1 RES1   0.0000\\n     2 C1        0.0024    1.9110    0.0002   C.1       1 RES1   0.0000\\n     3 Eu1       0.0000    0.0000    0.0000   Eu        1 RES1   0.0000\\n     4 O2        0.0002    0.0002   -3.0608   O.3       1 RES1   0.0000\\n     5 C2        0.0001    0.0002   -1.9110   C.1       1 RES1   0.0000\\n     6 C3       -0.0025   -1.9111   -0.0002   C.1       1 RES1   0.0000\\n     7 O3       -0.0040   -3.0609   -0.0003   O.3       1 RES1   0.0000\\n     8 C4       -1.9110    0.0024   -0.0001   C.1       1 RES1   0.0000\\n     9 O4       -3.0608    0.0038   -0.0002   O.3       1 RES1   0.0000\\n    10 C5        1.9110   -0.0025    0.0001   C.1       1 RES1   0.0000\\n    11 O5        3.0607   -0.0039    0.0003   O.3       1 RES1   0.0000\\n    12 C6        4.6450    0.0208    4.8095   C.ar      1 RES1   0.0000\\n    13 C7        4.1737   -1.0463    4.0396   C.ar      1 RES1   0.0000\\n    14 C8        2.8489   -1.0540    3.6001   C.ar      1 RES1   0.0000\\n    15 C9        1.9923    0.0025    3.9307   C.ar      1 RES1   0.0000\\n    16 C10       2.4577    1.0685    4.7054   C.ar      1 RES1   0.0000\\n    17 C11       3.7874    1.0760    5.1445   C.ar      1 RES1   0.0000\\n    18 Sb1       0.0493   -0.0158    3.0709   Sb        1 RES1   0.0000\\n    19 C12      -0.7988   -1.9083    3.6470   C.ar      1 RES1   0.0000\\n    20 C13      -1.6349   -2.6053    2.7656   C.ar      1 RES1   0.0000\\n    21 C14      -2.2095   -3.8203    3.1472   C.ar      1 RES1   0.0000\\n    22 C15      -1.9579   -4.3418    4.4175   C.ar      1 RES1   0.0000\\n    23 C16      -1.1341   -3.6429    5.3107   C.ar      1 RES1   0.0000\\n    24 C17      -0.5596   -2.4263    4.9253   C.ar      1 RES1   0.0000\\n    25 C18      -0.9224    1.8502    3.4726   C.ar      1 RES1   0.0000\\n    26 C19      -2.1815    1.8266    4.0843   C.ar      1 RES1   0.0000\\n    27 C20      -2.8728    3.0191    4.3178   C.ar      1 RES1   0.0000\\n    28 C21      -2.3025    4.2402    3.9430   C.ar      1 RES1   0.0000\\n    29 C22      -1.0414    4.2659    3.3393   C.ar      1 RES1   0.0000\\n    30 C23      -0.3506    3.0716    3.1026   C.ar      1 RES1   0.0000\\n    31 H1        5.6765    0.0336    5.1359   H         1 RES1   0.0000\\n    32 H2        4.8364   -1.8581    3.7685   H         1 RES1   0.0000\\n    33 H3        2.4939   -1.8682    2.9807   H         1 RES1   0.0000\\n    34 H4        1.8050    1.8978    4.9403   H         1 RES1   0.0000\\n    35 H5        4.1588    1.9065    5.7298   H         1 RES1   0.0000\\n    36 H6       -1.8574   -2.2039    1.7916   H         1 RES1   0.0000\\n    37 H7       -2.8557   -4.3520    2.4600   H         1 RES1   0.0000\\n    38 H8       -2.4059   -5.2817    4.7142   H         1 RES1   0.0000\\n    39 H9       -0.9471   -4.0451    6.2953   H         1 RES1   0.0000\\n    40 H10       0.0700   -1.8868    5.6196   H         1 RES1   0.0000\\n    41 H11      -2.6325    0.8829    4.3643   H         1 RES1   0.0000\\n    42 H12      -3.8507    2.9971    4.7809   H         1 RES1   0.0000\\n    43 H13      -2.8407    5.1633    4.1184   H         1 RES1   0.0000\\n    44 H14      -0.6026    5.2120    3.0473   H         1 RES1   0.0000\\n    45 H15       0.6214    3.0948    2.6300   H         1 RES1   0.0000\\n@<TRIPOS>BOND\\n     1     1     2    3\\n     2     2     3    1\\n     3     3     5    9\\n     4     3     6    9\\n     5     3     8    9\\n     6     3    10    9\\n     7     3    18    1\\n     8     4     5    3\\n     9     6     7    3\\n    10     8     9    3\\n    11    10    11    3\\n    12    12    13   ar\\n    13    12    17   ar\\n    14    12    31    1\\n    15    13    14   ar\\n    16    13    32    1\\n    17    14    15   ar\\n    18    14    33    1\\n    19    15    16   ar\\n    20    15    18    1\\n    21    16    17   ar\\n    22    16    34    1\\n    23    17    35    1\\n    24    18    19    1\\n    25    18    25    1\\n    26    19    20   ar\\n    27    19    24   ar\\n    28    20    21   ar\\n    29    20    36    1\\n    30    21    22   ar\\n    31    21    37    1\\n    32    22    23   ar\\n    33    22    38    1\\n    34    23    24   ar\\n    35    23    39    1\\n    36    24    40    1\\n    37    25    26   ar\\n    38    25    30   ar\\n    39    26    27   ar\\n    40    26    41    1\\n    41    27    28   ar\\n    42    27    42    1\\n    43    28    29   ar\\n    44    28    43    1\\n    45    29    30   ar\\n    46    29    44    1\\n    47    30    45    1\\n@<TRIPOS>SUBSTRUCTURE\\n     1 RES1       45 GROUP             0 ****  ****    0  \\n\",\"mol2\",{\"keepH\": true});\n\tviewergrid_1741930959574311[0][1].addStyle({\"sphere\": {\"colorscheme\": \"Jmol\", \"scale\": 0.3}});\n\tviewergrid_1741930959574311[0][1].setStyle({\"elem\": \"Eu\"},{\"sphere\": {\"colorscheme\": \"Jmol\", \"scale\": 0.75}});\n\tviewergrid_1741930959574311[0][1].addStyle({\"stick\": {\"colorscheme\": \"Jmol\", \"radius\": 0.25}});\n\tviewergrid_1741930959574311[0][1].addLabel(\"0\",{\"position\": {\"x\": \"0.0038\", \"y\": \"3.0608\", \"z\": \"0.0002\"}, \"backgroundColor\": \"'black'\", \"backgroundOpacity\": \"0.4\", \"fontOpacity\": \"1\", \"fontSize\": \"12\", \"fontColor\": \"white\", \"inFront\": \"true\"});\n\tviewergrid_1741930959574311[0][1].addLabel(\"1\",{\"position\": {\"x\": \"0.0024\", \"y\": \"1.911\", \"z\": \"0.0002\"}, \"backgroundColor\": \"'black'\", \"backgroundOpacity\": \"0.4\", \"fontOpacity\": \"1\", \"fontSize\": \"12\", \"fontColor\": \"white\", \"inFront\": \"true\"});\n\tviewergrid_1741930959574311[0][1].addLabel(\"2\",{\"position\": {\"x\": \"0.0\", \"y\": \"0.0\", \"z\": \"0.0\"}, \"backgroundColor\": \"'black'\", \"backgroundOpacity\": \"0.4\", \"fontOpacity\": \"1\", \"fontSize\": \"12\", \"fontColor\": \"white\", \"inFront\": \"true\"});\n\tviewergrid_1741930959574311[0][1].addLabel(\"3\",{\"position\": {\"x\": \"0.0002\", \"y\": \"0.0002\", \"z\": \"-3.0608\"}, \"backgroundColor\": \"'black'\", \"backgroundOpacity\": \"0.4\", \"fontOpacity\": \"1\", \"fontSize\": \"12\", \"fontColor\": \"white\", \"inFront\": \"true\"});\n\tviewergrid_1741930959574311[0][1].addLabel(\"4\",{\"position\": {\"x\": \"0.0001\", \"y\": \"0.0002\", \"z\": \"-1.911\"}, \"backgroundColor\": \"'black'\", \"backgroundOpacity\": \"0.4\", \"fontOpacity\": \"1\", \"fontSize\": \"12\", \"fontColor\": \"white\", \"inFront\": \"true\"});\n\tviewergrid_1741930959574311[0][1].addLabel(\"5\",{\"position\": {\"x\": \"-0.0025\", \"y\": \"-1.9111\", \"z\": \"-0.0002\"}, \"backgroundColor\": \"'black'\", \"backgroundOpacity\": \"0.4\", \"fontOpacity\": \"1\", \"fontSize\": \"12\", \"fontColor\": \"white\", \"inFront\": \"true\"});\n\tviewergrid_1741930959574311[0][1].addLabel(\"6\",{\"position\": {\"x\": \"-0.004\", \"y\": \"-3.0609\", \"z\": \"-0.0003\"}, \"backgroundColor\": \"'black'\", \"backgroundOpacity\": \"0.4\", \"fontOpacity\": \"1\", \"fontSize\": \"12\", \"fontColor\": \"white\", \"inFront\": \"true\"});\n\tviewergrid_1741930959574311[0][1].addLabel(\"7\",{\"position\": {\"x\": \"-1.911\", \"y\": \"0.0024\", \"z\": \"-0.0001\"}, \"backgroundColor\": \"'black'\", \"backgroundOpacity\": \"0.4\", \"fontOpacity\": \"1\", \"fontSize\": \"12\", \"fontColor\": \"white\", \"inFront\": \"true\"});\n\tviewergrid_1741930959574311[0][1].addLabel(\"8\",{\"position\": {\"x\": \"-3.0608\", \"y\": \"0.0038\", \"z\": \"-0.0002\"}, \"backgroundColor\": \"'black'\", \"backgroundOpacity\": \"0.4\", \"fontOpacity\": \"1\", \"fontSize\": \"12\", \"fontColor\": \"white\", \"inFront\": \"true\"});\n\tviewergrid_1741930959574311[0][1].addLabel(\"9\",{\"position\": {\"x\": \"1.911\", \"y\": \"-0.0025\", \"z\": \"0.0001\"}, \"backgroundColor\": \"'black'\", \"backgroundOpacity\": \"0.4\", \"fontOpacity\": \"1\", \"fontSize\": \"12\", \"fontColor\": \"white\", \"inFront\": \"true\"});\n\tviewergrid_1741930959574311[0][1].addLabel(\"10\",{\"position\": {\"x\": \"3.0607\", \"y\": \"-0.0039\", \"z\": \"0.0003\"}, \"backgroundColor\": \"'black'\", \"backgroundOpacity\": \"0.4\", \"fontOpacity\": \"1\", \"fontSize\": \"12\", \"fontColor\": \"white\", \"inFront\": \"true\"});\n\tviewergrid_1741930959574311[0][1].addLabel(\"11\",{\"position\": {\"x\": \"4.645\", \"y\": \"0.0208\", \"z\": \"4.8095\"}, \"backgroundColor\": \"'black'\", \"backgroundOpacity\": \"0.4\", \"fontOpacity\": \"1\", \"fontSize\": \"12\", \"fontColor\": \"white\", \"inFront\": \"true\"});\n\tviewergrid_1741930959574311[0][1].addLabel(\"12\",{\"position\": {\"x\": \"4.1737\", \"y\": \"-1.0463\", \"z\": \"4.0396\"}, \"backgroundColor\": \"'black'\", \"backgroundOpacity\": \"0.4\", \"fontOpacity\": \"1\", \"fontSize\": \"12\", \"fontColor\": \"white\", \"inFront\": \"true\"});\n\tviewergrid_1741930959574311[0][1].addLabel(\"13\",{\"position\": {\"x\": \"2.8489\", \"y\": \"-1.054\", \"z\": \"3.6001\"}, \"backgroundColor\": \"'black'\", \"backgroundOpacity\": \"0.4\", \"fontOpacity\": \"1\", \"fontSize\": \"12\", \"fontColor\": \"white\", \"inFront\": \"true\"});\n\tviewergrid_1741930959574311[0][1].addLabel(\"14\",{\"position\": {\"x\": \"1.9923\", \"y\": \"0.0025\", \"z\": \"3.9307\"}, \"backgroundColor\": \"'black'\", \"backgroundOpacity\": \"0.4\", \"fontOpacity\": \"1\", \"fontSize\": \"12\", \"fontColor\": \"white\", \"inFront\": \"true\"});\n\tviewergrid_1741930959574311[0][1].addLabel(\"15\",{\"position\": {\"x\": \"2.4577\", \"y\": \"1.0685\", \"z\": \"4.7054\"}, \"backgroundColor\": \"'black'\", \"backgroundOpacity\": \"0.4\", \"fontOpacity\": \"1\", \"fontSize\": \"12\", \"fontColor\": \"white\", \"inFront\": \"true\"});\n\tviewergrid_1741930959574311[0][1].addLabel(\"16\",{\"position\": {\"x\": \"3.7874\", \"y\": \"1.076\", \"z\": \"5.1445\"}, \"backgroundColor\": \"'black'\", \"backgroundOpacity\": \"0.4\", \"fontOpacity\": \"1\", \"fontSize\": \"12\", \"fontColor\": \"white\", \"inFront\": \"true\"});\n\tviewergrid_1741930959574311[0][1].addLabel(\"17\",{\"position\": {\"x\": \"0.0493\", \"y\": \"-0.0158\", \"z\": \"3.0709\"}, \"backgroundColor\": \"'black'\", \"backgroundOpacity\": \"0.4\", \"fontOpacity\": \"1\", \"fontSize\": \"12\", \"fontColor\": \"white\", \"inFront\": \"true\"});\n\tviewergrid_1741930959574311[0][1].addLabel(\"18\",{\"position\": {\"x\": \"-0.7988\", \"y\": \"-1.9083\", \"z\": \"3.647\"}, \"backgroundColor\": \"'black'\", \"backgroundOpacity\": \"0.4\", \"fontOpacity\": \"1\", \"fontSize\": \"12\", \"fontColor\": \"white\", \"inFront\": \"true\"});\n\tviewergrid_1741930959574311[0][1].addLabel(\"19\",{\"position\": {\"x\": \"-1.6349\", \"y\": \"-2.6053\", \"z\": \"2.7656\"}, \"backgroundColor\": \"'black'\", \"backgroundOpacity\": \"0.4\", \"fontOpacity\": \"1\", \"fontSize\": \"12\", \"fontColor\": \"white\", \"inFront\": \"true\"});\n\tviewergrid_1741930959574311[0][1].addLabel(\"20\",{\"position\": {\"x\": \"-2.2095\", \"y\": \"-3.8203\", \"z\": \"3.1472\"}, \"backgroundColor\": \"'black'\", \"backgroundOpacity\": \"0.4\", \"fontOpacity\": \"1\", \"fontSize\": \"12\", \"fontColor\": \"white\", \"inFront\": \"true\"});\n\tviewergrid_1741930959574311[0][1].addLabel(\"21\",{\"position\": {\"x\": \"-1.9579\", \"y\": \"-4.3418\", \"z\": \"4.4175\"}, \"backgroundColor\": \"'black'\", \"backgroundOpacity\": \"0.4\", \"fontOpacity\": \"1\", \"fontSize\": \"12\", \"fontColor\": \"white\", \"inFront\": \"true\"});\n\tviewergrid_1741930959574311[0][1].addLabel(\"22\",{\"position\": {\"x\": \"-1.1341\", \"y\": \"-3.6429\", \"z\": \"5.3107\"}, \"backgroundColor\": \"'black'\", \"backgroundOpacity\": \"0.4\", \"fontOpacity\": \"1\", \"fontSize\": \"12\", \"fontColor\": \"white\", \"inFront\": \"true\"});\n\tviewergrid_1741930959574311[0][1].addLabel(\"23\",{\"position\": {\"x\": \"-0.5596\", \"y\": \"-2.4263\", \"z\": \"4.9253\"}, \"backgroundColor\": \"'black'\", \"backgroundOpacity\": \"0.4\", \"fontOpacity\": \"1\", \"fontSize\": \"12\", \"fontColor\": \"white\", \"inFront\": \"true\"});\n\tviewergrid_1741930959574311[0][1].addLabel(\"24\",{\"position\": {\"x\": \"-0.9224\", \"y\": \"1.8502\", \"z\": \"3.4726\"}, \"backgroundColor\": \"'black'\", \"backgroundOpacity\": \"0.4\", \"fontOpacity\": \"1\", \"fontSize\": \"12\", \"fontColor\": \"white\", \"inFront\": \"true\"});\n\tviewergrid_1741930959574311[0][1].addLabel(\"25\",{\"position\": {\"x\": \"-2.1815\", \"y\": \"1.8266\", \"z\": \"4.0843\"}, \"backgroundColor\": \"'black'\", \"backgroundOpacity\": \"0.4\", \"fontOpacity\": \"1\", \"fontSize\": \"12\", \"fontColor\": \"white\", \"inFront\": \"true\"});\n\tviewergrid_1741930959574311[0][1].addLabel(\"26\",{\"position\": {\"x\": \"-2.8728\", \"y\": \"3.0191\", \"z\": \"4.3178\"}, \"backgroundColor\": \"'black'\", \"backgroundOpacity\": \"0.4\", \"fontOpacity\": \"1\", \"fontSize\": \"12\", \"fontColor\": \"white\", \"inFront\": \"true\"});\n\tviewergrid_1741930959574311[0][1].addLabel(\"27\",{\"position\": {\"x\": \"-2.3025\", \"y\": \"4.2402\", \"z\": \"3.943\"}, \"backgroundColor\": \"'black'\", \"backgroundOpacity\": \"0.4\", \"fontOpacity\": \"1\", \"fontSize\": \"12\", \"fontColor\": \"white\", \"inFront\": \"true\"});\n\tviewergrid_1741930959574311[0][1].addLabel(\"28\",{\"position\": {\"x\": \"-1.0414\", \"y\": \"4.2659\", \"z\": \"3.3393\"}, \"backgroundColor\": \"'black'\", \"backgroundOpacity\": \"0.4\", \"fontOpacity\": \"1\", \"fontSize\": \"12\", \"fontColor\": \"white\", \"inFront\": \"true\"});\n\tviewergrid_1741930959574311[0][1].addLabel(\"29\",{\"position\": {\"x\": \"-0.3506\", \"y\": \"3.0716\", \"z\": \"3.1026\"}, \"backgroundColor\": \"'black'\", \"backgroundOpacity\": \"0.4\", \"fontOpacity\": \"1\", \"fontSize\": \"12\", \"fontColor\": \"white\", \"inFront\": \"true\"});\n\tviewergrid_1741930959574311[0][1].addLabel(\"30\",{\"position\": {\"x\": \"5.6765\", \"y\": \"0.0336\", \"z\": \"5.1359\"}, \"backgroundColor\": \"'black'\", \"backgroundOpacity\": \"0.4\", \"fontOpacity\": \"1\", \"fontSize\": \"12\", \"fontColor\": \"white\", \"inFront\": \"true\"});\n\tviewergrid_1741930959574311[0][1].addLabel(\"31\",{\"position\": {\"x\": \"4.8364\", \"y\": \"-1.8581\", \"z\": \"3.7685\"}, \"backgroundColor\": \"'black'\", \"backgroundOpacity\": \"0.4\", \"fontOpacity\": \"1\", \"fontSize\": \"12\", \"fontColor\": \"white\", \"inFront\": \"true\"});\n\tviewergrid_1741930959574311[0][1].addLabel(\"32\",{\"position\": {\"x\": \"2.4939\", \"y\": \"-1.8682\", \"z\": \"2.9807\"}, \"backgroundColor\": \"'black'\", \"backgroundOpacity\": \"0.4\", \"fontOpacity\": \"1\", \"fontSize\": \"12\", \"fontColor\": \"white\", \"inFront\": \"true\"});\n\tviewergrid_1741930959574311[0][1].addLabel(\"33\",{\"position\": {\"x\": \"1.805\", \"y\": \"1.8978\", \"z\": \"4.9403\"}, \"backgroundColor\": \"'black'\", \"backgroundOpacity\": \"0.4\", \"fontOpacity\": \"1\", \"fontSize\": \"12\", \"fontColor\": \"white\", \"inFront\": \"true\"});\n\tviewergrid_1741930959574311[0][1].addLabel(\"34\",{\"position\": {\"x\": \"4.1588\", \"y\": \"1.9065\", \"z\": \"5.7298\"}, \"backgroundColor\": \"'black'\", \"backgroundOpacity\": \"0.4\", \"fontOpacity\": \"1\", \"fontSize\": \"12\", \"fontColor\": \"white\", \"inFront\": \"true\"});\n\tviewergrid_1741930959574311[0][1].addLabel(\"35\",{\"position\": {\"x\": \"-1.8574\", \"y\": \"-2.2039\", \"z\": \"1.7916\"}, \"backgroundColor\": \"'black'\", \"backgroundOpacity\": \"0.4\", \"fontOpacity\": \"1\", \"fontSize\": \"12\", \"fontColor\": \"white\", \"inFront\": \"true\"});\n\tviewergrid_1741930959574311[0][1].addLabel(\"36\",{\"position\": {\"x\": \"-2.8557\", \"y\": \"-4.352\", \"z\": \"2.46\"}, \"backgroundColor\": \"'black'\", \"backgroundOpacity\": \"0.4\", \"fontOpacity\": \"1\", \"fontSize\": \"12\", \"fontColor\": \"white\", \"inFront\": \"true\"});\n\tviewergrid_1741930959574311[0][1].addLabel(\"37\",{\"position\": {\"x\": \"-2.4059\", \"y\": \"-5.2817\", \"z\": \"4.7142\"}, \"backgroundColor\": \"'black'\", \"backgroundOpacity\": \"0.4\", \"fontOpacity\": \"1\", \"fontSize\": \"12\", \"fontColor\": \"white\", \"inFront\": \"true\"});\n\tviewergrid_1741930959574311[0][1].addLabel(\"38\",{\"position\": {\"x\": \"-0.9471\", \"y\": \"-4.0451\", \"z\": \"6.2953\"}, \"backgroundColor\": \"'black'\", \"backgroundOpacity\": \"0.4\", \"fontOpacity\": \"1\", \"fontSize\": \"12\", \"fontColor\": \"white\", \"inFront\": \"true\"});\n\tviewergrid_1741930959574311[0][1].addLabel(\"39\",{\"position\": {\"x\": \"0.07\", \"y\": \"-1.8868\", \"z\": \"5.6196\"}, \"backgroundColor\": \"'black'\", \"backgroundOpacity\": \"0.4\", \"fontOpacity\": \"1\", \"fontSize\": \"12\", \"fontColor\": \"white\", \"inFront\": \"true\"});\n\tviewergrid_1741930959574311[0][1].addLabel(\"40\",{\"position\": {\"x\": \"-2.6325\", \"y\": \"0.8829\", \"z\": \"4.3643\"}, \"backgroundColor\": \"'black'\", \"backgroundOpacity\": \"0.4\", \"fontOpacity\": \"1\", \"fontSize\": \"12\", \"fontColor\": \"white\", \"inFront\": \"true\"});\n\tviewergrid_1741930959574311[0][1].addLabel(\"41\",{\"position\": {\"x\": \"-3.8507\", \"y\": \"2.9971\", \"z\": \"4.7809\"}, \"backgroundColor\": \"'black'\", \"backgroundOpacity\": \"0.4\", \"fontOpacity\": \"1\", \"fontSize\": \"12\", \"fontColor\": \"white\", \"inFront\": \"true\"});\n\tviewergrid_1741930959574311[0][1].addLabel(\"42\",{\"position\": {\"x\": \"-2.8407\", \"y\": \"5.1633\", \"z\": \"4.1184\"}, \"backgroundColor\": \"'black'\", \"backgroundOpacity\": \"0.4\", \"fontOpacity\": \"1\", \"fontSize\": \"12\", \"fontColor\": \"white\", \"inFront\": \"true\"});\n\tviewergrid_1741930959574311[0][1].addLabel(\"43\",{\"position\": {\"x\": \"-0.6026\", \"y\": \"5.212\", \"z\": \"3.0473\"}, \"backgroundColor\": \"'black'\", \"backgroundOpacity\": \"0.4\", \"fontOpacity\": \"1\", \"fontSize\": \"12\", \"fontColor\": \"white\", \"inFront\": \"true\"});\n\tviewergrid_1741930959574311[0][1].addLabel(\"44\",{\"position\": {\"x\": \"0.6214\", \"y\": \"3.0948\", \"z\": \"2.63\"}, \"backgroundColor\": \"'black'\", \"backgroundOpacity\": \"0.4\", \"fontOpacity\": \"1\", \"fontSize\": \"12\", \"fontColor\": \"white\", \"inFront\": \"true\"});\n\tviewergrid_1741930959574311[0][1].zoomTo();\nviewergrid_1741930959574311[0][3].render();\nviewergrid_1741930959574311[0][2].render();\nviewergrid_1741930959574311[0][1].render();\nviewergrid_1741930959574311[0][0].render();\n});\n</script>",
      "text/html": [
       "<div id=\"3dmolviewer_1741930959574311\"  style=\"position: relative; width: 800px; height: 200px;\">\n",
       "        <p id=\"3dmolwarning_1741930959574311\" style=\"background-color:#ffcccc;color:black\">3Dmol.js failed to load for some reason.  Please check your browser console for error messages.<br></p>\n",
       "        </div>\n",
       "<script>\n",
       "\n",
       "var loadScriptAsync = function(uri){\n",
       "  return new Promise((resolve, reject) => {\n",
       "    //this is to ignore the existence of requirejs amd\n",
       "    var savedexports, savedmodule;\n",
       "    if (typeof exports !== 'undefined') savedexports = exports;\n",
       "    else exports = {}\n",
       "    if (typeof module !== 'undefined') savedmodule = module;\n",
       "    else module = {}\n",
       "\n",
       "    var tag = document.createElement('script');\n",
       "    tag.src = uri;\n",
       "    tag.async = true;\n",
       "    tag.onload = () => {\n",
       "        exports = savedexports;\n",
       "        module = savedmodule;\n",
       "        resolve();\n",
       "    };\n",
       "  var firstScriptTag = document.getElementsByTagName('script')[0];\n",
       "  firstScriptTag.parentNode.insertBefore(tag, firstScriptTag);\n",
       "});\n",
       "};\n",
       "\n",
       "if(typeof $3Dmolpromise === 'undefined') {\n",
       "$3Dmolpromise = null;\n",
       "  $3Dmolpromise = loadScriptAsync('https://cdnjs.cloudflare.com/ajax/libs/3Dmol/2.4.0/3Dmol-min.js');\n",
       "}\n",
       "\n",
       "var viewer_1741930959574311 = null;\n",
       "var warn = document.getElementById(\"3dmolwarning_1741930959574311\");\n",
       "if(warn) {\n",
       "    warn.parentNode.removeChild(warn);\n",
       "}\n",
       "$3Dmolpromise.then(function() {\n",
       "var viewergrid_1741930959574311 = null;\n",
       "viewergrid_1741930959574311 = $3Dmol.createViewerGrid(document.getElementById(\"3dmolviewer_1741930959574311\"),{rows: 1, cols: 4, control_all: false},{backgroundColor:\"white\"});\n",
       "viewer_1741930959574311 = viewergrid_1741930959574311[0][0];\n",
       "viewergrid_1741930959574311[0][0].zoomTo();viewergrid_1741930959574311[0][1].zoomTo();viewergrid_1741930959574311[0][2].zoomTo();viewergrid_1741930959574311[0][3].zoomTo();\tviewergrid_1741930959574311[0][0].addModel(\"@<TRIPOS>MOLECULE\\ntmp.mol2\\n    45    46     2     0     0\\nSMALL\\nNoCharges\\n****\\nGenerated from Architector\\n\\n@<TRIPOS>ATOM\\n     1 O1        0.0000    3.7913   -1.3635   O.3       1 RES1   0.0000\\n     2 C1        0.0000    2.7236   -0.9795   C.1       1 RES1   0.0000\\n     3 Eu1       0.0000    0.0000    0.0000   Eu        2 RES2   0.0000\\n     4 O2       -0.0003   -1.1183   -2.8495   O.3       2 RES2   0.0000\\n     5 C2        0.0000   -0.6599   -1.7928   C.1       2 RES2   0.0000\\n     6 C3        0.0001   -1.7268    0.6212   C.1       2 RES2   0.0000\\n     7 O3        0.0002   -2.8165    1.0132   O.3       2 RES2   0.0000\\n     8 C4       -1.9103   -0.0135    0.0050   C.1       2 RES2   0.0000\\n     9 O4       -3.0598   -0.0829    0.0303   O.3       2 RES2   0.0000\\n    10 C5        1.9104   -0.0137    0.0053   C.1       2 RES2   0.0000\\n    11 O5        3.0598   -0.0832    0.0304   O.3       2 RES2   0.0000\\n    12 C6       -0.7326    4.6089    6.1790   C.ar      2 RES2   0.0000\\n    13 C7        0.3272    4.6190    5.2699   C.ar      2 RES2   0.0000\\n    14 C8        0.5052    3.5454    4.3959   C.ar      2 RES2   0.0000\\n    15 C9       -0.3731    2.4557    4.4296   C.ar      2 RES2   0.0000\\n    16 C10      -1.4338    2.4419    5.3426   C.ar      2 RES2   0.0000\\n    17 C11      -1.6126    3.5200    6.2164   C.ar      2 RES2   0.0000\\n    18 Sb1      -0.0524    0.8916    3.0069   Sb        2 RES2   0.0000\\n    19 C12       1.7859    0.1032    3.8559   C.ar      2 RES2   0.0000\\n    20 C13       2.5078   -0.9051    3.2025   C.ar      2 RES2   0.0000\\n    21 C14       3.6727   -1.4293    3.7736   C.ar      2 RES2   0.0000\\n    22 C15       4.1184   -0.9593    5.0110   C.ar      2 RES2   0.0000\\n    23 C16       3.3972    0.0327    5.6785   C.ar      2 RES2   0.0000\\n    24 C17       2.2363    0.5613    5.1049   C.ar      2 RES2   0.0000\\n    25 C18      -1.6707   -0.4119    3.5453   C.ar      2 RES2   0.0000\\n    26 C19      -1.3793   -1.5874    4.2506   C.ar      2 RES2   0.0000\\n    27 C20      -2.4054   -2.4657    4.6109   C.ar      2 RES2   0.0000\\n    28 C21      -3.7281   -2.1705    4.2700   C.ar      2 RES2   0.0000\\n    29 C22      -4.0237   -0.9959    3.5694   C.ar      2 RES2   0.0000\\n    30 C23      -2.9963   -0.1158    3.2079   C.ar      2 RES2   0.0000\\n    31 H1       -0.8749    5.4440    6.8506   H         2 RES2   0.0000\\n    32 H2        1.0074    5.4606    5.2344   H         2 RES2   0.0000\\n    33 H3        1.3223    3.5608    3.6848   H         2 RES2   0.0000\\n    34 H4       -2.1232    1.6107    5.3734   H         2 RES2   0.0000\\n    35 H5       -2.4359    3.5156    6.9183   H         2 RES2   0.0000\\n    36 H6        2.1701   -1.2962    2.2602   H         2 RES2   0.0000\\n    37 H7        4.2268   -2.2052    3.2604   H         2 RES2   0.0000\\n    38 H8        5.0162   -1.3689    5.4561   H         2 RES2   0.0000\\n    39 H9        3.7339    0.3883    6.6438   H         2 RES2   0.0000\\n    40 H10       1.6893    1.3168    5.6467   H         2 RES2   0.0000\\n    41 H11      -0.3574   -1.8239    4.5157   H         2 RES2   0.0000\\n    42 H12      -2.1750   -3.3746    5.1525   H         2 RES2   0.0000\\n    43 H13      -4.5225   -2.8518    4.5473   H         2 RES2   0.0000\\n    44 H14      -5.0483   -0.7695    3.3055   H         2 RES2   0.0000\\n    45 H15      -3.2283    0.7912    2.6668   H         2 RES2   0.0000\\n@<TRIPOS>BOND\\n     1     1     2    3\\n     2     3     5    9\\n     3     3     6    9\\n     4     3     8    9\\n     5     3    10    9\\n     6     3    18    1\\n     7     4     5    3\\n     8     6     7    3\\n     9     8     9    3\\n    10    10    11    3\\n    11    12    13   ar\\n    12    12    17   ar\\n    13    12    31    1\\n    14    13    14   ar\\n    15    13    32    1\\n    16    14    15   ar\\n    17    14    33    1\\n    18    15    16   ar\\n    19    15    18    1\\n    20    16    17   ar\\n    21    16    34    1\\n    22    17    35    1\\n    23    18    19    1\\n    24    18    25    1\\n    25    19    20   ar\\n    26    19    24   ar\\n    27    20    21   ar\\n    28    20    36    1\\n    29    21    22   ar\\n    30    21    37    1\\n    31    22    23   ar\\n    32    22    38    1\\n    33    23    24   ar\\n    34    23    39    1\\n    35    24    40    1\\n    36    25    26   ar\\n    37    25    30   ar\\n    38    26    27   ar\\n    39    26    41    1\\n    40    27    28   ar\\n    41    27    42    1\\n    42    28    29   ar\\n    43    28    43    1\\n    44    29    30   ar\\n    45    29    44    1\\n    46    30    45    1\\n@<TRIPOS>SUBSTRUCTURE\\n     1 RES1        2 GROUP             0 ****  ****    0  \\n     2 RES2       43 GROUP             0 ****  ****    0  \\n\",\"mol2\",{\"keepH\": true});\n",
       "\tviewergrid_1741930959574311[0][0].addStyle({\"sphere\": {\"colorscheme\": \"Jmol\", \"scale\": 0.3}});\n",
       "\tviewergrid_1741930959574311[0][0].setStyle({\"elem\": \"Eu\"},{\"sphere\": {\"colorscheme\": \"Jmol\", \"scale\": 0.75}});\n",
       "\tviewergrid_1741930959574311[0][0].addStyle({\"stick\": {\"colorscheme\": \"Jmol\", \"radius\": 0.25}});\n",
       "\tviewergrid_1741930959574311[0][0].addLabel(\"0\",{\"position\": {\"x\": \"0.0\", \"y\": \"3.7913\", \"z\": \"-1.3635\"}, \"backgroundColor\": \"'black'\", \"backgroundOpacity\": \"0.4\", \"fontOpacity\": \"1\", \"fontSize\": \"12\", \"fontColor\": \"white\", \"inFront\": \"true\"});\n",
       "\tviewergrid_1741930959574311[0][0].addLabel(\"1\",{\"position\": {\"x\": \"0.0\", \"y\": \"2.7236\", \"z\": \"-0.9795\"}, \"backgroundColor\": \"'black'\", \"backgroundOpacity\": \"0.4\", \"fontOpacity\": \"1\", \"fontSize\": \"12\", \"fontColor\": \"white\", \"inFront\": \"true\"});\n",
       "\tviewergrid_1741930959574311[0][0].addLabel(\"2\",{\"position\": {\"x\": \"0.0\", \"y\": \"0.0\", \"z\": \"0.0\"}, \"backgroundColor\": \"'black'\", \"backgroundOpacity\": \"0.4\", \"fontOpacity\": \"1\", \"fontSize\": \"12\", \"fontColor\": \"white\", \"inFront\": \"true\"});\n",
       "\tviewergrid_1741930959574311[0][0].addLabel(\"3\",{\"position\": {\"x\": \"-0.0003\", \"y\": \"-1.1183\", \"z\": \"-2.8495\"}, \"backgroundColor\": \"'black'\", \"backgroundOpacity\": \"0.4\", \"fontOpacity\": \"1\", \"fontSize\": \"12\", \"fontColor\": \"white\", \"inFront\": \"true\"});\n",
       "\tviewergrid_1741930959574311[0][0].addLabel(\"4\",{\"position\": {\"x\": \"0.0\", \"y\": \"-0.6599\", \"z\": \"-1.7928\"}, \"backgroundColor\": \"'black'\", \"backgroundOpacity\": \"0.4\", \"fontOpacity\": \"1\", \"fontSize\": \"12\", \"fontColor\": \"white\", \"inFront\": \"true\"});\n",
       "\tviewergrid_1741930959574311[0][0].addLabel(\"5\",{\"position\": {\"x\": \"0.0001\", \"y\": \"-1.7268\", \"z\": \"0.6212\"}, \"backgroundColor\": \"'black'\", \"backgroundOpacity\": \"0.4\", \"fontOpacity\": \"1\", \"fontSize\": \"12\", \"fontColor\": \"white\", \"inFront\": \"true\"});\n",
       "\tviewergrid_1741930959574311[0][0].addLabel(\"6\",{\"position\": {\"x\": \"0.0002\", \"y\": \"-2.8165\", \"z\": \"1.0132\"}, \"backgroundColor\": \"'black'\", \"backgroundOpacity\": \"0.4\", \"fontOpacity\": \"1\", \"fontSize\": \"12\", \"fontColor\": \"white\", \"inFront\": \"true\"});\n",
       "\tviewergrid_1741930959574311[0][0].addLabel(\"7\",{\"position\": {\"x\": \"-1.9103\", \"y\": \"-0.0135\", \"z\": \"0.005\"}, \"backgroundColor\": \"'black'\", \"backgroundOpacity\": \"0.4\", \"fontOpacity\": \"1\", \"fontSize\": \"12\", \"fontColor\": \"white\", \"inFront\": \"true\"});\n",
       "\tviewergrid_1741930959574311[0][0].addLabel(\"8\",{\"position\": {\"x\": \"-3.0598\", \"y\": \"-0.0829\", \"z\": \"0.0303\"}, \"backgroundColor\": \"'black'\", \"backgroundOpacity\": \"0.4\", \"fontOpacity\": \"1\", \"fontSize\": \"12\", \"fontColor\": \"white\", \"inFront\": \"true\"});\n",
       "\tviewergrid_1741930959574311[0][0].addLabel(\"9\",{\"position\": {\"x\": \"1.9104\", \"y\": \"-0.0137\", \"z\": \"0.0053\"}, \"backgroundColor\": \"'black'\", \"backgroundOpacity\": \"0.4\", \"fontOpacity\": \"1\", \"fontSize\": \"12\", \"fontColor\": \"white\", \"inFront\": \"true\"});\n",
       "\tviewergrid_1741930959574311[0][0].addLabel(\"10\",{\"position\": {\"x\": \"3.0598\", \"y\": \"-0.0832\", \"z\": \"0.0304\"}, \"backgroundColor\": \"'black'\", \"backgroundOpacity\": \"0.4\", \"fontOpacity\": \"1\", \"fontSize\": \"12\", \"fontColor\": \"white\", \"inFront\": \"true\"});\n",
       "\tviewergrid_1741930959574311[0][0].addLabel(\"11\",{\"position\": {\"x\": \"-0.7326\", \"y\": \"4.6089\", \"z\": \"6.179\"}, \"backgroundColor\": \"'black'\", \"backgroundOpacity\": \"0.4\", \"fontOpacity\": \"1\", \"fontSize\": \"12\", \"fontColor\": \"white\", \"inFront\": \"true\"});\n",
       "\tviewergrid_1741930959574311[0][0].addLabel(\"12\",{\"position\": {\"x\": \"0.3272\", \"y\": \"4.619\", \"z\": \"5.2699\"}, \"backgroundColor\": \"'black'\", \"backgroundOpacity\": \"0.4\", \"fontOpacity\": \"1\", \"fontSize\": \"12\", \"fontColor\": \"white\", \"inFront\": \"true\"});\n",
       "\tviewergrid_1741930959574311[0][0].addLabel(\"13\",{\"position\": {\"x\": \"0.5052\", \"y\": \"3.5454\", \"z\": \"4.3959\"}, \"backgroundColor\": \"'black'\", \"backgroundOpacity\": \"0.4\", \"fontOpacity\": \"1\", \"fontSize\": \"12\", \"fontColor\": \"white\", \"inFront\": \"true\"});\n",
       "\tviewergrid_1741930959574311[0][0].addLabel(\"14\",{\"position\": {\"x\": \"-0.3731\", \"y\": \"2.4557\", \"z\": \"4.4296\"}, \"backgroundColor\": \"'black'\", \"backgroundOpacity\": \"0.4\", \"fontOpacity\": \"1\", \"fontSize\": \"12\", \"fontColor\": \"white\", \"inFront\": \"true\"});\n",
       "\tviewergrid_1741930959574311[0][0].addLabel(\"15\",{\"position\": {\"x\": \"-1.4338\", \"y\": \"2.4419\", \"z\": \"5.3426\"}, \"backgroundColor\": \"'black'\", \"backgroundOpacity\": \"0.4\", \"fontOpacity\": \"1\", \"fontSize\": \"12\", \"fontColor\": \"white\", \"inFront\": \"true\"});\n",
       "\tviewergrid_1741930959574311[0][0].addLabel(\"16\",{\"position\": {\"x\": \"-1.6126\", \"y\": \"3.52\", \"z\": \"6.2164\"}, \"backgroundColor\": \"'black'\", \"backgroundOpacity\": \"0.4\", \"fontOpacity\": \"1\", \"fontSize\": \"12\", \"fontColor\": \"white\", \"inFront\": \"true\"});\n",
       "\tviewergrid_1741930959574311[0][0].addLabel(\"17\",{\"position\": {\"x\": \"-0.0524\", \"y\": \"0.8916\", \"z\": \"3.0069\"}, \"backgroundColor\": \"'black'\", \"backgroundOpacity\": \"0.4\", \"fontOpacity\": \"1\", \"fontSize\": \"12\", \"fontColor\": \"white\", \"inFront\": \"true\"});\n",
       "\tviewergrid_1741930959574311[0][0].addLabel(\"18\",{\"position\": {\"x\": \"1.7859\", \"y\": \"0.1032\", \"z\": \"3.8559\"}, \"backgroundColor\": \"'black'\", \"backgroundOpacity\": \"0.4\", \"fontOpacity\": \"1\", \"fontSize\": \"12\", \"fontColor\": \"white\", \"inFront\": \"true\"});\n",
       "\tviewergrid_1741930959574311[0][0].addLabel(\"19\",{\"position\": {\"x\": \"2.5078\", \"y\": \"-0.9051\", \"z\": \"3.2025\"}, \"backgroundColor\": \"'black'\", \"backgroundOpacity\": \"0.4\", \"fontOpacity\": \"1\", \"fontSize\": \"12\", \"fontColor\": \"white\", \"inFront\": \"true\"});\n",
       "\tviewergrid_1741930959574311[0][0].addLabel(\"20\",{\"position\": {\"x\": \"3.6727\", \"y\": \"-1.4293\", \"z\": \"3.7736\"}, \"backgroundColor\": \"'black'\", \"backgroundOpacity\": \"0.4\", \"fontOpacity\": \"1\", \"fontSize\": \"12\", \"fontColor\": \"white\", \"inFront\": \"true\"});\n",
       "\tviewergrid_1741930959574311[0][0].addLabel(\"21\",{\"position\": {\"x\": \"4.1184\", \"y\": \"-0.9593\", \"z\": \"5.011\"}, \"backgroundColor\": \"'black'\", \"backgroundOpacity\": \"0.4\", \"fontOpacity\": \"1\", \"fontSize\": \"12\", \"fontColor\": \"white\", \"inFront\": \"true\"});\n",
       "\tviewergrid_1741930959574311[0][0].addLabel(\"22\",{\"position\": {\"x\": \"3.3972\", \"y\": \"0.0327\", \"z\": \"5.6785\"}, \"backgroundColor\": \"'black'\", \"backgroundOpacity\": \"0.4\", \"fontOpacity\": \"1\", \"fontSize\": \"12\", \"fontColor\": \"white\", \"inFront\": \"true\"});\n",
       "\tviewergrid_1741930959574311[0][0].addLabel(\"23\",{\"position\": {\"x\": \"2.2363\", \"y\": \"0.5613\", \"z\": \"5.1049\"}, \"backgroundColor\": \"'black'\", \"backgroundOpacity\": \"0.4\", \"fontOpacity\": \"1\", \"fontSize\": \"12\", \"fontColor\": \"white\", \"inFront\": \"true\"});\n",
       "\tviewergrid_1741930959574311[0][0].addLabel(\"24\",{\"position\": {\"x\": \"-1.6707\", \"y\": \"-0.4119\", \"z\": \"3.5453\"}, \"backgroundColor\": \"'black'\", \"backgroundOpacity\": \"0.4\", \"fontOpacity\": \"1\", \"fontSize\": \"12\", \"fontColor\": \"white\", \"inFront\": \"true\"});\n",
       "\tviewergrid_1741930959574311[0][0].addLabel(\"25\",{\"position\": {\"x\": \"-1.3793\", \"y\": \"-1.5874\", \"z\": \"4.2506\"}, \"backgroundColor\": \"'black'\", \"backgroundOpacity\": \"0.4\", \"fontOpacity\": \"1\", \"fontSize\": \"12\", \"fontColor\": \"white\", \"inFront\": \"true\"});\n",
       "\tviewergrid_1741930959574311[0][0].addLabel(\"26\",{\"position\": {\"x\": \"-2.4054\", \"y\": \"-2.4657\", \"z\": \"4.6109\"}, \"backgroundColor\": \"'black'\", \"backgroundOpacity\": \"0.4\", \"fontOpacity\": \"1\", \"fontSize\": \"12\", \"fontColor\": \"white\", \"inFront\": \"true\"});\n",
       "\tviewergrid_1741930959574311[0][0].addLabel(\"27\",{\"position\": {\"x\": \"-3.7281\", \"y\": \"-2.1705\", \"z\": \"4.27\"}, \"backgroundColor\": \"'black'\", \"backgroundOpacity\": \"0.4\", \"fontOpacity\": \"1\", \"fontSize\": \"12\", \"fontColor\": \"white\", \"inFront\": \"true\"});\n",
       "\tviewergrid_1741930959574311[0][0].addLabel(\"28\",{\"position\": {\"x\": \"-4.0237\", \"y\": \"-0.9959\", \"z\": \"3.5694\"}, \"backgroundColor\": \"'black'\", \"backgroundOpacity\": \"0.4\", \"fontOpacity\": \"1\", \"fontSize\": \"12\", \"fontColor\": \"white\", \"inFront\": \"true\"});\n",
       "\tviewergrid_1741930959574311[0][0].addLabel(\"29\",{\"position\": {\"x\": \"-2.9963\", \"y\": \"-0.1158\", \"z\": \"3.2079\"}, \"backgroundColor\": \"'black'\", \"backgroundOpacity\": \"0.4\", \"fontOpacity\": \"1\", \"fontSize\": \"12\", \"fontColor\": \"white\", \"inFront\": \"true\"});\n",
       "\tviewergrid_1741930959574311[0][0].addLabel(\"30\",{\"position\": {\"x\": \"-0.8749\", \"y\": \"5.444\", \"z\": \"6.8506\"}, \"backgroundColor\": \"'black'\", \"backgroundOpacity\": \"0.4\", \"fontOpacity\": \"1\", \"fontSize\": \"12\", \"fontColor\": \"white\", \"inFront\": \"true\"});\n",
       "\tviewergrid_1741930959574311[0][0].addLabel(\"31\",{\"position\": {\"x\": \"1.0074\", \"y\": \"5.4606\", \"z\": \"5.2344\"}, \"backgroundColor\": \"'black'\", \"backgroundOpacity\": \"0.4\", \"fontOpacity\": \"1\", \"fontSize\": \"12\", \"fontColor\": \"white\", \"inFront\": \"true\"});\n",
       "\tviewergrid_1741930959574311[0][0].addLabel(\"32\",{\"position\": {\"x\": \"1.3223\", \"y\": \"3.5608\", \"z\": \"3.6848\"}, \"backgroundColor\": \"'black'\", \"backgroundOpacity\": \"0.4\", \"fontOpacity\": \"1\", \"fontSize\": \"12\", \"fontColor\": \"white\", \"inFront\": \"true\"});\n",
       "\tviewergrid_1741930959574311[0][0].addLabel(\"33\",{\"position\": {\"x\": \"-2.1232\", \"y\": \"1.6107\", \"z\": \"5.3734\"}, \"backgroundColor\": \"'black'\", \"backgroundOpacity\": \"0.4\", \"fontOpacity\": \"1\", \"fontSize\": \"12\", \"fontColor\": \"white\", \"inFront\": \"true\"});\n",
       "\tviewergrid_1741930959574311[0][0].addLabel(\"34\",{\"position\": {\"x\": \"-2.4359\", \"y\": \"3.5156\", \"z\": \"6.9183\"}, \"backgroundColor\": \"'black'\", \"backgroundOpacity\": \"0.4\", \"fontOpacity\": \"1\", \"fontSize\": \"12\", \"fontColor\": \"white\", \"inFront\": \"true\"});\n",
       "\tviewergrid_1741930959574311[0][0].addLabel(\"35\",{\"position\": {\"x\": \"2.1701\", \"y\": \"-1.2962\", \"z\": \"2.2602\"}, \"backgroundColor\": \"'black'\", \"backgroundOpacity\": \"0.4\", \"fontOpacity\": \"1\", \"fontSize\": \"12\", \"fontColor\": \"white\", \"inFront\": \"true\"});\n",
       "\tviewergrid_1741930959574311[0][0].addLabel(\"36\",{\"position\": {\"x\": \"4.2268\", \"y\": \"-2.2052\", \"z\": \"3.2604\"}, \"backgroundColor\": \"'black'\", \"backgroundOpacity\": \"0.4\", \"fontOpacity\": \"1\", \"fontSize\": \"12\", \"fontColor\": \"white\", \"inFront\": \"true\"});\n",
       "\tviewergrid_1741930959574311[0][0].addLabel(\"37\",{\"position\": {\"x\": \"5.0162\", \"y\": \"-1.3689\", \"z\": \"5.4561\"}, \"backgroundColor\": \"'black'\", \"backgroundOpacity\": \"0.4\", \"fontOpacity\": \"1\", \"fontSize\": \"12\", \"fontColor\": \"white\", \"inFront\": \"true\"});\n",
       "\tviewergrid_1741930959574311[0][0].addLabel(\"38\",{\"position\": {\"x\": \"3.7339\", \"y\": \"0.3883\", \"z\": \"6.6438\"}, \"backgroundColor\": \"'black'\", \"backgroundOpacity\": \"0.4\", \"fontOpacity\": \"1\", \"fontSize\": \"12\", \"fontColor\": \"white\", \"inFront\": \"true\"});\n",
       "\tviewergrid_1741930959574311[0][0].addLabel(\"39\",{\"position\": {\"x\": \"1.6893\", \"y\": \"1.3168\", \"z\": \"5.6467\"}, \"backgroundColor\": \"'black'\", \"backgroundOpacity\": \"0.4\", \"fontOpacity\": \"1\", \"fontSize\": \"12\", \"fontColor\": \"white\", \"inFront\": \"true\"});\n",
       "\tviewergrid_1741930959574311[0][0].addLabel(\"40\",{\"position\": {\"x\": \"-0.3574\", \"y\": \"-1.8239\", \"z\": \"4.5157\"}, \"backgroundColor\": \"'black'\", \"backgroundOpacity\": \"0.4\", \"fontOpacity\": \"1\", \"fontSize\": \"12\", \"fontColor\": \"white\", \"inFront\": \"true\"});\n",
       "\tviewergrid_1741930959574311[0][0].addLabel(\"41\",{\"position\": {\"x\": \"-2.175\", \"y\": \"-3.3746\", \"z\": \"5.1525\"}, \"backgroundColor\": \"'black'\", \"backgroundOpacity\": \"0.4\", \"fontOpacity\": \"1\", \"fontSize\": \"12\", \"fontColor\": \"white\", \"inFront\": \"true\"});\n",
       "\tviewergrid_1741930959574311[0][0].addLabel(\"42\",{\"position\": {\"x\": \"-4.5225\", \"y\": \"-2.8518\", \"z\": \"4.5473\"}, \"backgroundColor\": \"'black'\", \"backgroundOpacity\": \"0.4\", \"fontOpacity\": \"1\", \"fontSize\": \"12\", \"fontColor\": \"white\", \"inFront\": \"true\"});\n",
       "\tviewergrid_1741930959574311[0][0].addLabel(\"43\",{\"position\": {\"x\": \"-5.0483\", \"y\": \"-0.7695\", \"z\": \"3.3055\"}, \"backgroundColor\": \"'black'\", \"backgroundOpacity\": \"0.4\", \"fontOpacity\": \"1\", \"fontSize\": \"12\", \"fontColor\": \"white\", \"inFront\": \"true\"});\n",
       "\tviewergrid_1741930959574311[0][0].addLabel(\"44\",{\"position\": {\"x\": \"-3.2283\", \"y\": \"0.7912\", \"z\": \"2.6668\"}, \"backgroundColor\": \"'black'\", \"backgroundOpacity\": \"0.4\", \"fontOpacity\": \"1\", \"fontSize\": \"12\", \"fontColor\": \"white\", \"inFront\": \"true\"});\n",
       "\tviewergrid_1741930959574311[0][0].zoomTo();\n",
       "\tviewergrid_1741930959574311[0][1].addModel(\"@<TRIPOS>MOLECULE\\ntmp.mol2\\n    45    47     1     0     0\\nSMALL\\nNoCharges\\n****\\nGenerated from Architector\\n\\n@<TRIPOS>ATOM\\n     1 O1        0.0038    3.0608    0.0002   O.3       1 RES1   0.0000\\n     2 C1        0.0024    1.9110    0.0002   C.1       1 RES1   0.0000\\n     3 Eu1       0.0000    0.0000    0.0000   Eu        1 RES1   0.0000\\n     4 O2        0.0002    0.0002   -3.0608   O.3       1 RES1   0.0000\\n     5 C2        0.0001    0.0002   -1.9110   C.1       1 RES1   0.0000\\n     6 C3       -0.0025   -1.9111   -0.0002   C.1       1 RES1   0.0000\\n     7 O3       -0.0040   -3.0609   -0.0003   O.3       1 RES1   0.0000\\n     8 C4       -1.9110    0.0024   -0.0001   C.1       1 RES1   0.0000\\n     9 O4       -3.0608    0.0038   -0.0002   O.3       1 RES1   0.0000\\n    10 C5        1.9110   -0.0025    0.0001   C.1       1 RES1   0.0000\\n    11 O5        3.0607   -0.0039    0.0003   O.3       1 RES1   0.0000\\n    12 C6        4.6450    0.0208    4.8095   C.ar      1 RES1   0.0000\\n    13 C7        4.1737   -1.0463    4.0396   C.ar      1 RES1   0.0000\\n    14 C8        2.8489   -1.0540    3.6001   C.ar      1 RES1   0.0000\\n    15 C9        1.9923    0.0025    3.9307   C.ar      1 RES1   0.0000\\n    16 C10       2.4577    1.0685    4.7054   C.ar      1 RES1   0.0000\\n    17 C11       3.7874    1.0760    5.1445   C.ar      1 RES1   0.0000\\n    18 Sb1       0.0493   -0.0158    3.0709   Sb        1 RES1   0.0000\\n    19 C12      -0.7988   -1.9083    3.6470   C.ar      1 RES1   0.0000\\n    20 C13      -1.6349   -2.6053    2.7656   C.ar      1 RES1   0.0000\\n    21 C14      -2.2095   -3.8203    3.1472   C.ar      1 RES1   0.0000\\n    22 C15      -1.9579   -4.3418    4.4175   C.ar      1 RES1   0.0000\\n    23 C16      -1.1341   -3.6429    5.3107   C.ar      1 RES1   0.0000\\n    24 C17      -0.5596   -2.4263    4.9253   C.ar      1 RES1   0.0000\\n    25 C18      -0.9224    1.8502    3.4726   C.ar      1 RES1   0.0000\\n    26 C19      -2.1815    1.8266    4.0843   C.ar      1 RES1   0.0000\\n    27 C20      -2.8728    3.0191    4.3178   C.ar      1 RES1   0.0000\\n    28 C21      -2.3025    4.2402    3.9430   C.ar      1 RES1   0.0000\\n    29 C22      -1.0414    4.2659    3.3393   C.ar      1 RES1   0.0000\\n    30 C23      -0.3506    3.0716    3.1026   C.ar      1 RES1   0.0000\\n    31 H1        5.6765    0.0336    5.1359   H         1 RES1   0.0000\\n    32 H2        4.8364   -1.8581    3.7685   H         1 RES1   0.0000\\n    33 H3        2.4939   -1.8682    2.9807   H         1 RES1   0.0000\\n    34 H4        1.8050    1.8978    4.9403   H         1 RES1   0.0000\\n    35 H5        4.1588    1.9065    5.7298   H         1 RES1   0.0000\\n    36 H6       -1.8574   -2.2039    1.7916   H         1 RES1   0.0000\\n    37 H7       -2.8557   -4.3520    2.4600   H         1 RES1   0.0000\\n    38 H8       -2.4059   -5.2817    4.7142   H         1 RES1   0.0000\\n    39 H9       -0.9471   -4.0451    6.2953   H         1 RES1   0.0000\\n    40 H10       0.0700   -1.8868    5.6196   H         1 RES1   0.0000\\n    41 H11      -2.6325    0.8829    4.3643   H         1 RES1   0.0000\\n    42 H12      -3.8507    2.9971    4.7809   H         1 RES1   0.0000\\n    43 H13      -2.8407    5.1633    4.1184   H         1 RES1   0.0000\\n    44 H14      -0.6026    5.2120    3.0473   H         1 RES1   0.0000\\n    45 H15       0.6214    3.0948    2.6300   H         1 RES1   0.0000\\n@<TRIPOS>BOND\\n     1     1     2    3\\n     2     2     3    1\\n     3     3     5    9\\n     4     3     6    9\\n     5     3     8    9\\n     6     3    10    9\\n     7     3    18    1\\n     8     4     5    3\\n     9     6     7    3\\n    10     8     9    3\\n    11    10    11    3\\n    12    12    13   ar\\n    13    12    17   ar\\n    14    12    31    1\\n    15    13    14   ar\\n    16    13    32    1\\n    17    14    15   ar\\n    18    14    33    1\\n    19    15    16   ar\\n    20    15    18    1\\n    21    16    17   ar\\n    22    16    34    1\\n    23    17    35    1\\n    24    18    19    1\\n    25    18    25    1\\n    26    19    20   ar\\n    27    19    24   ar\\n    28    20    21   ar\\n    29    20    36    1\\n    30    21    22   ar\\n    31    21    37    1\\n    32    22    23   ar\\n    33    22    38    1\\n    34    23    24   ar\\n    35    23    39    1\\n    36    24    40    1\\n    37    25    26   ar\\n    38    25    30   ar\\n    39    26    27   ar\\n    40    26    41    1\\n    41    27    28   ar\\n    42    27    42    1\\n    43    28    29   ar\\n    44    28    43    1\\n    45    29    30   ar\\n    46    29    44    1\\n    47    30    45    1\\n@<TRIPOS>SUBSTRUCTURE\\n     1 RES1       45 GROUP             0 ****  ****    0  \\n\",\"mol2\",{\"keepH\": true});\n",
       "\tviewergrid_1741930959574311[0][1].addStyle({\"sphere\": {\"colorscheme\": \"Jmol\", \"scale\": 0.3}});\n",
       "\tviewergrid_1741930959574311[0][1].setStyle({\"elem\": \"Eu\"},{\"sphere\": {\"colorscheme\": \"Jmol\", \"scale\": 0.75}});\n",
       "\tviewergrid_1741930959574311[0][1].addStyle({\"stick\": {\"colorscheme\": \"Jmol\", \"radius\": 0.25}});\n",
       "\tviewergrid_1741930959574311[0][1].addLabel(\"0\",{\"position\": {\"x\": \"0.0038\", \"y\": \"3.0608\", \"z\": \"0.0002\"}, \"backgroundColor\": \"'black'\", \"backgroundOpacity\": \"0.4\", \"fontOpacity\": \"1\", \"fontSize\": \"12\", \"fontColor\": \"white\", \"inFront\": \"true\"});\n",
       "\tviewergrid_1741930959574311[0][1].addLabel(\"1\",{\"position\": {\"x\": \"0.0024\", \"y\": \"1.911\", \"z\": \"0.0002\"}, \"backgroundColor\": \"'black'\", \"backgroundOpacity\": \"0.4\", \"fontOpacity\": \"1\", \"fontSize\": \"12\", \"fontColor\": \"white\", \"inFront\": \"true\"});\n",
       "\tviewergrid_1741930959574311[0][1].addLabel(\"2\",{\"position\": {\"x\": \"0.0\", \"y\": \"0.0\", \"z\": \"0.0\"}, \"backgroundColor\": \"'black'\", \"backgroundOpacity\": \"0.4\", \"fontOpacity\": \"1\", \"fontSize\": \"12\", \"fontColor\": \"white\", \"inFront\": \"true\"});\n",
       "\tviewergrid_1741930959574311[0][1].addLabel(\"3\",{\"position\": {\"x\": \"0.0002\", \"y\": \"0.0002\", \"z\": \"-3.0608\"}, \"backgroundColor\": \"'black'\", \"backgroundOpacity\": \"0.4\", \"fontOpacity\": \"1\", \"fontSize\": \"12\", \"fontColor\": \"white\", \"inFront\": \"true\"});\n",
       "\tviewergrid_1741930959574311[0][1].addLabel(\"4\",{\"position\": {\"x\": \"0.0001\", \"y\": \"0.0002\", \"z\": \"-1.911\"}, \"backgroundColor\": \"'black'\", \"backgroundOpacity\": \"0.4\", \"fontOpacity\": \"1\", \"fontSize\": \"12\", \"fontColor\": \"white\", \"inFront\": \"true\"});\n",
       "\tviewergrid_1741930959574311[0][1].addLabel(\"5\",{\"position\": {\"x\": \"-0.0025\", \"y\": \"-1.9111\", \"z\": \"-0.0002\"}, \"backgroundColor\": \"'black'\", \"backgroundOpacity\": \"0.4\", \"fontOpacity\": \"1\", \"fontSize\": \"12\", \"fontColor\": \"white\", \"inFront\": \"true\"});\n",
       "\tviewergrid_1741930959574311[0][1].addLabel(\"6\",{\"position\": {\"x\": \"-0.004\", \"y\": \"-3.0609\", \"z\": \"-0.0003\"}, \"backgroundColor\": \"'black'\", \"backgroundOpacity\": \"0.4\", \"fontOpacity\": \"1\", \"fontSize\": \"12\", \"fontColor\": \"white\", \"inFront\": \"true\"});\n",
       "\tviewergrid_1741930959574311[0][1].addLabel(\"7\",{\"position\": {\"x\": \"-1.911\", \"y\": \"0.0024\", \"z\": \"-0.0001\"}, \"backgroundColor\": \"'black'\", \"backgroundOpacity\": \"0.4\", \"fontOpacity\": \"1\", \"fontSize\": \"12\", \"fontColor\": \"white\", \"inFront\": \"true\"});\n",
       "\tviewergrid_1741930959574311[0][1].addLabel(\"8\",{\"position\": {\"x\": \"-3.0608\", \"y\": \"0.0038\", \"z\": \"-0.0002\"}, \"backgroundColor\": \"'black'\", \"backgroundOpacity\": \"0.4\", \"fontOpacity\": \"1\", \"fontSize\": \"12\", \"fontColor\": \"white\", \"inFront\": \"true\"});\n",
       "\tviewergrid_1741930959574311[0][1].addLabel(\"9\",{\"position\": {\"x\": \"1.911\", \"y\": \"-0.0025\", \"z\": \"0.0001\"}, \"backgroundColor\": \"'black'\", \"backgroundOpacity\": \"0.4\", \"fontOpacity\": \"1\", \"fontSize\": \"12\", \"fontColor\": \"white\", \"inFront\": \"true\"});\n",
       "\tviewergrid_1741930959574311[0][1].addLabel(\"10\",{\"position\": {\"x\": \"3.0607\", \"y\": \"-0.0039\", \"z\": \"0.0003\"}, \"backgroundColor\": \"'black'\", \"backgroundOpacity\": \"0.4\", \"fontOpacity\": \"1\", \"fontSize\": \"12\", \"fontColor\": \"white\", \"inFront\": \"true\"});\n",
       "\tviewergrid_1741930959574311[0][1].addLabel(\"11\",{\"position\": {\"x\": \"4.645\", \"y\": \"0.0208\", \"z\": \"4.8095\"}, \"backgroundColor\": \"'black'\", \"backgroundOpacity\": \"0.4\", \"fontOpacity\": \"1\", \"fontSize\": \"12\", \"fontColor\": \"white\", \"inFront\": \"true\"});\n",
       "\tviewergrid_1741930959574311[0][1].addLabel(\"12\",{\"position\": {\"x\": \"4.1737\", \"y\": \"-1.0463\", \"z\": \"4.0396\"}, \"backgroundColor\": \"'black'\", \"backgroundOpacity\": \"0.4\", \"fontOpacity\": \"1\", \"fontSize\": \"12\", \"fontColor\": \"white\", \"inFront\": \"true\"});\n",
       "\tviewergrid_1741930959574311[0][1].addLabel(\"13\",{\"position\": {\"x\": \"2.8489\", \"y\": \"-1.054\", \"z\": \"3.6001\"}, \"backgroundColor\": \"'black'\", \"backgroundOpacity\": \"0.4\", \"fontOpacity\": \"1\", \"fontSize\": \"12\", \"fontColor\": \"white\", \"inFront\": \"true\"});\n",
       "\tviewergrid_1741930959574311[0][1].addLabel(\"14\",{\"position\": {\"x\": \"1.9923\", \"y\": \"0.0025\", \"z\": \"3.9307\"}, \"backgroundColor\": \"'black'\", \"backgroundOpacity\": \"0.4\", \"fontOpacity\": \"1\", \"fontSize\": \"12\", \"fontColor\": \"white\", \"inFront\": \"true\"});\n",
       "\tviewergrid_1741930959574311[0][1].addLabel(\"15\",{\"position\": {\"x\": \"2.4577\", \"y\": \"1.0685\", \"z\": \"4.7054\"}, \"backgroundColor\": \"'black'\", \"backgroundOpacity\": \"0.4\", \"fontOpacity\": \"1\", \"fontSize\": \"12\", \"fontColor\": \"white\", \"inFront\": \"true\"});\n",
       "\tviewergrid_1741930959574311[0][1].addLabel(\"16\",{\"position\": {\"x\": \"3.7874\", \"y\": \"1.076\", \"z\": \"5.1445\"}, \"backgroundColor\": \"'black'\", \"backgroundOpacity\": \"0.4\", \"fontOpacity\": \"1\", \"fontSize\": \"12\", \"fontColor\": \"white\", \"inFront\": \"true\"});\n",
       "\tviewergrid_1741930959574311[0][1].addLabel(\"17\",{\"position\": {\"x\": \"0.0493\", \"y\": \"-0.0158\", \"z\": \"3.0709\"}, \"backgroundColor\": \"'black'\", \"backgroundOpacity\": \"0.4\", \"fontOpacity\": \"1\", \"fontSize\": \"12\", \"fontColor\": \"white\", \"inFront\": \"true\"});\n",
       "\tviewergrid_1741930959574311[0][1].addLabel(\"18\",{\"position\": {\"x\": \"-0.7988\", \"y\": \"-1.9083\", \"z\": \"3.647\"}, \"backgroundColor\": \"'black'\", \"backgroundOpacity\": \"0.4\", \"fontOpacity\": \"1\", \"fontSize\": \"12\", \"fontColor\": \"white\", \"inFront\": \"true\"});\n",
       "\tviewergrid_1741930959574311[0][1].addLabel(\"19\",{\"position\": {\"x\": \"-1.6349\", \"y\": \"-2.6053\", \"z\": \"2.7656\"}, \"backgroundColor\": \"'black'\", \"backgroundOpacity\": \"0.4\", \"fontOpacity\": \"1\", \"fontSize\": \"12\", \"fontColor\": \"white\", \"inFront\": \"true\"});\n",
       "\tviewergrid_1741930959574311[0][1].addLabel(\"20\",{\"position\": {\"x\": \"-2.2095\", \"y\": \"-3.8203\", \"z\": \"3.1472\"}, \"backgroundColor\": \"'black'\", \"backgroundOpacity\": \"0.4\", \"fontOpacity\": \"1\", \"fontSize\": \"12\", \"fontColor\": \"white\", \"inFront\": \"true\"});\n",
       "\tviewergrid_1741930959574311[0][1].addLabel(\"21\",{\"position\": {\"x\": \"-1.9579\", \"y\": \"-4.3418\", \"z\": \"4.4175\"}, \"backgroundColor\": \"'black'\", \"backgroundOpacity\": \"0.4\", \"fontOpacity\": \"1\", \"fontSize\": \"12\", \"fontColor\": \"white\", \"inFront\": \"true\"});\n",
       "\tviewergrid_1741930959574311[0][1].addLabel(\"22\",{\"position\": {\"x\": \"-1.1341\", \"y\": \"-3.6429\", \"z\": \"5.3107\"}, \"backgroundColor\": \"'black'\", \"backgroundOpacity\": \"0.4\", \"fontOpacity\": \"1\", \"fontSize\": \"12\", \"fontColor\": \"white\", \"inFront\": \"true\"});\n",
       "\tviewergrid_1741930959574311[0][1].addLabel(\"23\",{\"position\": {\"x\": \"-0.5596\", \"y\": \"-2.4263\", \"z\": \"4.9253\"}, \"backgroundColor\": \"'black'\", \"backgroundOpacity\": \"0.4\", \"fontOpacity\": \"1\", \"fontSize\": \"12\", \"fontColor\": \"white\", \"inFront\": \"true\"});\n",
       "\tviewergrid_1741930959574311[0][1].addLabel(\"24\",{\"position\": {\"x\": \"-0.9224\", \"y\": \"1.8502\", \"z\": \"3.4726\"}, \"backgroundColor\": \"'black'\", \"backgroundOpacity\": \"0.4\", \"fontOpacity\": \"1\", \"fontSize\": \"12\", \"fontColor\": \"white\", \"inFront\": \"true\"});\n",
       "\tviewergrid_1741930959574311[0][1].addLabel(\"25\",{\"position\": {\"x\": \"-2.1815\", \"y\": \"1.8266\", \"z\": \"4.0843\"}, \"backgroundColor\": \"'black'\", \"backgroundOpacity\": \"0.4\", \"fontOpacity\": \"1\", \"fontSize\": \"12\", \"fontColor\": \"white\", \"inFront\": \"true\"});\n",
       "\tviewergrid_1741930959574311[0][1].addLabel(\"26\",{\"position\": {\"x\": \"-2.8728\", \"y\": \"3.0191\", \"z\": \"4.3178\"}, \"backgroundColor\": \"'black'\", \"backgroundOpacity\": \"0.4\", \"fontOpacity\": \"1\", \"fontSize\": \"12\", \"fontColor\": \"white\", \"inFront\": \"true\"});\n",
       "\tviewergrid_1741930959574311[0][1].addLabel(\"27\",{\"position\": {\"x\": \"-2.3025\", \"y\": \"4.2402\", \"z\": \"3.943\"}, \"backgroundColor\": \"'black'\", \"backgroundOpacity\": \"0.4\", \"fontOpacity\": \"1\", \"fontSize\": \"12\", \"fontColor\": \"white\", \"inFront\": \"true\"});\n",
       "\tviewergrid_1741930959574311[0][1].addLabel(\"28\",{\"position\": {\"x\": \"-1.0414\", \"y\": \"4.2659\", \"z\": \"3.3393\"}, \"backgroundColor\": \"'black'\", \"backgroundOpacity\": \"0.4\", \"fontOpacity\": \"1\", \"fontSize\": \"12\", \"fontColor\": \"white\", \"inFront\": \"true\"});\n",
       "\tviewergrid_1741930959574311[0][1].addLabel(\"29\",{\"position\": {\"x\": \"-0.3506\", \"y\": \"3.0716\", \"z\": \"3.1026\"}, \"backgroundColor\": \"'black'\", \"backgroundOpacity\": \"0.4\", \"fontOpacity\": \"1\", \"fontSize\": \"12\", \"fontColor\": \"white\", \"inFront\": \"true\"});\n",
       "\tviewergrid_1741930959574311[0][1].addLabel(\"30\",{\"position\": {\"x\": \"5.6765\", \"y\": \"0.0336\", \"z\": \"5.1359\"}, \"backgroundColor\": \"'black'\", \"backgroundOpacity\": \"0.4\", \"fontOpacity\": \"1\", \"fontSize\": \"12\", \"fontColor\": \"white\", \"inFront\": \"true\"});\n",
       "\tviewergrid_1741930959574311[0][1].addLabel(\"31\",{\"position\": {\"x\": \"4.8364\", \"y\": \"-1.8581\", \"z\": \"3.7685\"}, \"backgroundColor\": \"'black'\", \"backgroundOpacity\": \"0.4\", \"fontOpacity\": \"1\", \"fontSize\": \"12\", \"fontColor\": \"white\", \"inFront\": \"true\"});\n",
       "\tviewergrid_1741930959574311[0][1].addLabel(\"32\",{\"position\": {\"x\": \"2.4939\", \"y\": \"-1.8682\", \"z\": \"2.9807\"}, \"backgroundColor\": \"'black'\", \"backgroundOpacity\": \"0.4\", \"fontOpacity\": \"1\", \"fontSize\": \"12\", \"fontColor\": \"white\", \"inFront\": \"true\"});\n",
       "\tviewergrid_1741930959574311[0][1].addLabel(\"33\",{\"position\": {\"x\": \"1.805\", \"y\": \"1.8978\", \"z\": \"4.9403\"}, \"backgroundColor\": \"'black'\", \"backgroundOpacity\": \"0.4\", \"fontOpacity\": \"1\", \"fontSize\": \"12\", \"fontColor\": \"white\", \"inFront\": \"true\"});\n",
       "\tviewergrid_1741930959574311[0][1].addLabel(\"34\",{\"position\": {\"x\": \"4.1588\", \"y\": \"1.9065\", \"z\": \"5.7298\"}, \"backgroundColor\": \"'black'\", \"backgroundOpacity\": \"0.4\", \"fontOpacity\": \"1\", \"fontSize\": \"12\", \"fontColor\": \"white\", \"inFront\": \"true\"});\n",
       "\tviewergrid_1741930959574311[0][1].addLabel(\"35\",{\"position\": {\"x\": \"-1.8574\", \"y\": \"-2.2039\", \"z\": \"1.7916\"}, \"backgroundColor\": \"'black'\", \"backgroundOpacity\": \"0.4\", \"fontOpacity\": \"1\", \"fontSize\": \"12\", \"fontColor\": \"white\", \"inFront\": \"true\"});\n",
       "\tviewergrid_1741930959574311[0][1].addLabel(\"36\",{\"position\": {\"x\": \"-2.8557\", \"y\": \"-4.352\", \"z\": \"2.46\"}, \"backgroundColor\": \"'black'\", \"backgroundOpacity\": \"0.4\", \"fontOpacity\": \"1\", \"fontSize\": \"12\", \"fontColor\": \"white\", \"inFront\": \"true\"});\n",
       "\tviewergrid_1741930959574311[0][1].addLabel(\"37\",{\"position\": {\"x\": \"-2.4059\", \"y\": \"-5.2817\", \"z\": \"4.7142\"}, \"backgroundColor\": \"'black'\", \"backgroundOpacity\": \"0.4\", \"fontOpacity\": \"1\", \"fontSize\": \"12\", \"fontColor\": \"white\", \"inFront\": \"true\"});\n",
       "\tviewergrid_1741930959574311[0][1].addLabel(\"38\",{\"position\": {\"x\": \"-0.9471\", \"y\": \"-4.0451\", \"z\": \"6.2953\"}, \"backgroundColor\": \"'black'\", \"backgroundOpacity\": \"0.4\", \"fontOpacity\": \"1\", \"fontSize\": \"12\", \"fontColor\": \"white\", \"inFront\": \"true\"});\n",
       "\tviewergrid_1741930959574311[0][1].addLabel(\"39\",{\"position\": {\"x\": \"0.07\", \"y\": \"-1.8868\", \"z\": \"5.6196\"}, \"backgroundColor\": \"'black'\", \"backgroundOpacity\": \"0.4\", \"fontOpacity\": \"1\", \"fontSize\": \"12\", \"fontColor\": \"white\", \"inFront\": \"true\"});\n",
       "\tviewergrid_1741930959574311[0][1].addLabel(\"40\",{\"position\": {\"x\": \"-2.6325\", \"y\": \"0.8829\", \"z\": \"4.3643\"}, \"backgroundColor\": \"'black'\", \"backgroundOpacity\": \"0.4\", \"fontOpacity\": \"1\", \"fontSize\": \"12\", \"fontColor\": \"white\", \"inFront\": \"true\"});\n",
       "\tviewergrid_1741930959574311[0][1].addLabel(\"41\",{\"position\": {\"x\": \"-3.8507\", \"y\": \"2.9971\", \"z\": \"4.7809\"}, \"backgroundColor\": \"'black'\", \"backgroundOpacity\": \"0.4\", \"fontOpacity\": \"1\", \"fontSize\": \"12\", \"fontColor\": \"white\", \"inFront\": \"true\"});\n",
       "\tviewergrid_1741930959574311[0][1].addLabel(\"42\",{\"position\": {\"x\": \"-2.8407\", \"y\": \"5.1633\", \"z\": \"4.1184\"}, \"backgroundColor\": \"'black'\", \"backgroundOpacity\": \"0.4\", \"fontOpacity\": \"1\", \"fontSize\": \"12\", \"fontColor\": \"white\", \"inFront\": \"true\"});\n",
       "\tviewergrid_1741930959574311[0][1].addLabel(\"43\",{\"position\": {\"x\": \"-0.6026\", \"y\": \"5.212\", \"z\": \"3.0473\"}, \"backgroundColor\": \"'black'\", \"backgroundOpacity\": \"0.4\", \"fontOpacity\": \"1\", \"fontSize\": \"12\", \"fontColor\": \"white\", \"inFront\": \"true\"});\n",
       "\tviewergrid_1741930959574311[0][1].addLabel(\"44\",{\"position\": {\"x\": \"0.6214\", \"y\": \"3.0948\", \"z\": \"2.63\"}, \"backgroundColor\": \"'black'\", \"backgroundOpacity\": \"0.4\", \"fontOpacity\": \"1\", \"fontSize\": \"12\", \"fontColor\": \"white\", \"inFront\": \"true\"});\n",
       "\tviewergrid_1741930959574311[0][1].zoomTo();\n",
       "viewergrid_1741930959574311[0][3].render();\n",
       "viewergrid_1741930959574311[0][2].render();\n",
       "viewergrid_1741930959574311[0][1].render();\n",
       "viewergrid_1741930959574311[0][0].render();\n",
       "});\n",
       "</script>"
      ]
     },
     "metadata": {},
     "output_type": "display_data"
    }
   ],
   "source": [
    "n = 0\n",
    "swapdf = enumerate_all_rxns(rxn_df.iloc[n])\n",
    "k = 106\n",
    "for key,val in swapdf.iloc[k].to_dict().items():\n",
    "    if 'sdf' not in key:\n",
    "        print(key,':',val)\n",
    "view_structures(swapdf.iloc[k].to_dict()['init_sdf'],labelinds=True)\n",
    "thing = perform_swap(swapdf.iloc[k].to_dict(), writeout=False)\n",
    "mols = convert_io_molecule(thing)\n",
    "view_structures(mols,labelinds=True)"
   ]
  },
  {
   "cell_type": "code",
   "execution_count": null,
   "metadata": {},
   "outputs": [],
   "source": []
  }
 ],
 "metadata": {
  "kernelspec": {
   "display_name": "base",
   "language": "python",
   "name": "python3"
  },
  "language_info": {
   "codemirror_mode": {
    "name": "ipython",
    "version": 3
   },
   "file_extension": ".py",
   "mimetype": "text/x-python",
   "name": "python",
   "nbconvert_exporter": "python",
   "pygments_lexer": "ipython3",
   "version": "3.10.14"
  }
 },
 "nbformat": 4,
 "nbformat_minor": 2
}
