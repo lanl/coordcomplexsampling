{
 "cells": [
  {
   "cell_type": "markdown",
   "metadata": {},
   "source": [
    "## Targets from README.md\n",
    "8. Down-select from possible reactions so that ~250K reactions generated as uniformly as possible across different templates. Flag the \"test\" set (e.g. no ligand swaps possible rxns). Include all rxns from templates with from those less than 250K/125. Take (250-all enumerated)/n_remaining samples from remaining rows if possible."
   ]
  },
  {
   "cell_type": "code",
   "execution_count": 3,
   "metadata": {},
   "outputs": [],
   "source": [
    "import pandas as pd\n",
    "import numpy as np"
   ]
  },
  {
   "cell_type": "code",
   "execution_count": 4,
   "metadata": {},
   "outputs": [],
   "source": [
    "n = 250000\n",
    "random_state = 42"
   ]
  },
  {
   "cell_type": "code",
   "execution_count": 5,
   "metadata": {},
   "outputs": [],
   "source": [
    "df = pd.read_pickle(\n",
    "    'enumerated_rxns.pkl'\n",
    ")"
   ]
  },
  {
   "cell_type": "code",
   "execution_count": 6,
   "metadata": {},
   "outputs": [
    {
     "data": {
      "text/plain": [
       "rxn_uid                               MOR1_Eu2_Charge2_UHF7_swaplig_0_newlig_c1ccncc13\n",
       "rxn_name                                                                          MOR1\n",
       "reactants                                                                      ED01+CO\n",
       "products                                                                          PR01\n",
       "init_sdf                             charge=0\\n     RDKit          3D\\n\\n  0  0  0 ...\n",
       "final_sdf                            charge=0\\n     RDKit          3D\\n\\n  0  0  0 ...\n",
       "metal_inds                                                                         [2]\n",
       "metal_syms                                                                        [Eu]\n",
       "metal_oxs                                                                          [2]\n",
       "total_charge                                                                         2\n",
       "total_uhf                                                                            7\n",
       "swap_remove_inds                                                                [5, 6]\n",
       "swap_functional_groups                                                      [c1ccncc1]\n",
       "swap_functionalization_inds                                                      [[2]]\n",
       "swap_functional_group_mol_inds                                                   [[3]]\n",
       "swap_bond_orders                                                                 [[1]]\n",
       "swap_remove_hydrogens_when_adding                                            [[False]]\n",
       "swap_xtb_opt                                                                     False\n",
       "rxn_df_index                                                                         0\n",
       "possible_n_swaps                                                                  8162\n",
       "possible_m_swaps                                                                    53\n",
       "possible_lig_swaps                                                                 154\n",
       "total_lig_charges                                                                    0\n",
       "Name: 0, dtype: object"
      ]
     },
     "execution_count": 6,
     "metadata": {},
     "output_type": "execute_result"
    }
   ],
   "source": [
    "df.iloc[0]"
   ]
  },
  {
   "cell_type": "code",
   "execution_count": 7,
   "metadata": {},
   "outputs": [
    {
     "name": "stdout",
     "output_type": "stream",
     "text": [
      "Remaining samples: 208872 Remaining unique reaction templates: 66 Samples needed per template:  3164\n",
      "Number of unique reactions that have fewer possible swaps than samples remaining:  0\n",
      "3164 2926 Actual number is lower than expected - including all from rxn 30\n",
      "3164 2774 Actual number is lower than expected - including all from rxn 31\n",
      "3164 2109 Actual number is lower than expected - including all from rxn 64\n",
      "3164 3116 Actual number is lower than expected - including all from rxn 114\n"
     ]
    }
   ],
   "source": [
    "total_swaps = 250000\n",
    "out_dfs = []\n",
    "test_df = df[df.possible_lig_swaps == 0]\n",
    "out_dfs.append(test_df)\n",
    "# 1.17 selected to get to the point where all sampled dataframes have more than the all_dfs included, but no more.\n",
    "factor = 1.17\n",
    "all_dfs = df[(df.possible_lig_swaps != 0) & (\n",
    "    (df.possible_n_swaps) < (total_swaps / (df.rxn_df_index.unique().shape[0] - test_df.rxn_df_index.unique().shape[0]))*factor)]\n",
    "out_dfs.append(all_dfs)\n",
    "remaining_n = total_swaps - test_df.shape[0] - all_dfs.shape[0]\n",
    "to_sample_inds = np.concatenate([test_df.rxn_df_index.unique(), all_dfs.rxn_df_index.unique()])\n",
    "to_sample_df = df[~df.rxn_df_index.isin(to_sample_inds)]\n",
    "sample_per_n = int(np.floor(remaining_n / to_sample_df.rxn_df_index.unique().shape[0]))\n",
    "print('Remaining samples:',remaining_n,'Remaining unique reaction templates:',to_sample_df.rxn_df_index.unique().shape[0], 'Samples needed per template: ', sample_per_n)\n",
    "print('Number of unique reactions that have fewer possible swaps than samples remaining: ',to_sample_df[to_sample_df.possible_n_swaps < sample_per_n].shape[0])\n",
    "for rxn_ind in to_sample_df.rxn_df_index.unique():\n",
    "    tdf = to_sample_df[to_sample_df.rxn_df_index == rxn_ind]\n",
    "    try:\n",
    "        sdf = tdf.sample(sample_per_n, random_state=random_state)\n",
    "    except:\n",
    "        sdf = tdf\n",
    "        print(sample_per_n, tdf.shape[0], 'Actual number is lower than expected - including all from rxn', rxn_ind)\n",
    "    out_dfs.append(sdf)\n",
    "concat_out_df = pd.concat(out_dfs)\n",
    "concat_out_df.reset_index(drop=True,inplace=True)"
   ]
  },
  {
   "cell_type": "code",
   "execution_count": 8,
   "metadata": {},
   "outputs": [],
   "source": [
    "concat_out_df.to_pickle('../4_production/to_gen_structures_parallel.pkl')"
   ]
  },
  {
   "cell_type": "code",
   "execution_count": null,
   "metadata": {},
   "outputs": [],
   "source": []
  }
 ],
 "metadata": {
  "kernelspec": {
   "display_name": "base",
   "language": "python",
   "name": "python3"
  },
  "language_info": {
   "codemirror_mode": {
    "name": "ipython",
    "version": 3
   },
   "file_extension": ".py",
   "mimetype": "text/x-python",
   "name": "python",
   "nbconvert_exporter": "python",
   "pygments_lexer": "ipython3",
   "version": "3.10.14"
  }
 },
 "nbformat": 4,
 "nbformat_minor": 2
}
