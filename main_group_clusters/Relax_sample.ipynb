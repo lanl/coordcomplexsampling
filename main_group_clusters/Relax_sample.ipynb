{
 "cells": [
  {
   "cell_type": "code",
   "execution_count": 2,
   "id": "f85876a9-e350-4c36-83b9-a4c619ff359e",
   "metadata": {},
   "outputs": [],
   "source": [
    "from architector import view_structures,convert_io_molecule, CalcExecutor\n",
    "from executorlib import SingleNodeExecutor\n",
    "import pandas as pd"
   ]
  },
  {
   "cell_type": "code",
   "execution_count": 3,
   "id": "50786cde-869c-42f9-b399-d82b636d3d54",
   "metadata": {},
   "outputs": [],
   "source": [
    "def relax_sample_xtb(inlst):\n",
    "    import os\n",
    "    os.environ['UMA_MODEL_PATH'] = ''\n",
    "    os.environ['OMOL_MODEL_PATH'] = ''\n",
    "    \n",
    "    os.environ[\"OMP_NUM_THREADS\"] = \"1\"\n",
    "    os.environ[\"OPENBLAS_NUM_THREADS\"] = \"1\"\n",
    "    os.environ[\"MKL_NUM_THREADS\"] = \"1\"\n",
    "    os.environ[\"VECLIB_MAXIMUM_THREADS\"] = \"1\"\n",
    "    os.environ[\"NUMEXPR_NUM_THREADS\"] = \"1\"\n",
    "    \n",
    "    from architector import CalcExecutor, convert_io_molecule\n",
    "    struct = inlst[0]\n",
    "    name = inlst[1]\n",
    "    mol = convert_io_molecule(struct)\n",
    "    try:\n",
    "        out = CalcExecutor(struct,relax=True,save_trajectories=True)\n",
    "    except:\n",
    "        out = None\n",
    "    returns = []\n",
    "    if out is not None:\n",
    "        if out.trajectory is not None:\n",
    "            if len(out.trajectory) > 0:\n",
    "                sn = int(len(out.trajectory)/4)\n",
    "                if sn < 1:\n",
    "                    sn = 1\n",
    "                samples = out.trajectory[::sn]\n",
    "                for i,thing in enumerate(samples):\n",
    "                    mol.ase_atoms = thing\n",
    "                    returns.append(mol.write_mol2(name+'{}'.format(i),\n",
    "                                                  writestring=True))\n",
    "            else:\n",
    "                returns.append('None - traj len 0')\n",
    "        else:\n",
    "            returns.append('None - None traj')\n",
    "    else:\n",
    "        returns.append('None - CalcExe failed')\n",
    "    return returns"
   ]
  },
  {
   "cell_type": "code",
   "execution_count": 4,
   "id": "da51172f-7e0c-4b31-b778-f22f23736880",
   "metadata": {},
   "outputs": [
    {
     "data": {
      "text/plain": [
       "False"
      ]
     },
     "execution_count": 4,
     "metadata": {},
     "output_type": "execute_result"
    }
   ],
   "source": [
    "out = CalcExecutor('CCC',relax=True)\n",
    "out.trajectory is not None"
   ]
  },
  {
   "cell_type": "code",
   "execution_count": 5,
   "id": "0abd3119-9cfe-4523-b42b-b5ef4b3576ac",
   "metadata": {},
   "outputs": [],
   "source": [
    "indf = pd.read_csv('all_preliminary_clusters.csv')"
   ]
  },
  {
   "cell_type": "code",
   "execution_count": 6,
   "id": "ba6499bd-c8f9-4cb1-8d89-05b34bd54ee8",
   "metadata": {},
   "outputs": [
    {
     "name": "stdout",
     "output_type": "stream",
     "text": [
      "submitting\n"
     ]
    },
    {
     "name": "stderr",
     "output_type": "stream",
     "text": [
      "100%|██████████| 32580/32580 [31:34<00:00, 17.19it/s] \n"
     ]
    }
   ],
   "source": [
    "from concurrent.futures import as_completed\n",
    "from tqdm import tqdm\n",
    "done_list = []\n",
    "with SingleNodeExecutor(max_workers=100, block_allocation=True) as exe:\n",
    "    print('submitting')\n",
    "    futs = []\n",
    "    for i,row in indf.iterrows():\n",
    "        inlst = [row['struct'],row['uid']]\n",
    "        fut = exe.submit(relax_sample_xtb, inlst)\n",
    "        futs.append(fut)\n",
    "    with tqdm(total=len(futs)) as pbar:\n",
    "        for done in as_completed(futs):\n",
    "            done_list.append(done.result())\n",
    "            pbar.update(1)"
   ]
  },
  {
   "cell_type": "code",
   "execution_count": 7,
   "id": "0510dd53-7fea-46d6-b4fc-dedf226f9f4e",
   "metadata": {},
   "outputs": [
    {
     "data": {
      "text/plain": [
       "32580"
      ]
     },
     "execution_count": 7,
     "metadata": {},
     "output_type": "execute_result"
    }
   ],
   "source": [
    "len(done_list)"
   ]
  },
  {
   "cell_type": "code",
   "execution_count": 8,
   "id": "48cde3b0-9323-4d0a-a886-9eab0c87187c",
   "metadata": {},
   "outputs": [],
   "source": [
    "flat_list = [item for sublist in done_list for item in sublist]"
   ]
  },
  {
   "cell_type": "code",
   "execution_count": 9,
   "id": "54ce0937-8a14-4042-8490-0e6b3ff1f8c7",
   "metadata": {},
   "outputs": [],
   "source": [
    "non_not = [x for x in flat_list if 'None - ' not in x]"
   ]
  },
  {
   "cell_type": "code",
   "execution_count": 10,
   "id": "868aca94-86d4-412a-874a-ff4c1b17b7ca",
   "metadata": {},
   "outputs": [
    {
     "data": {
      "text/plain": [
       "135227"
      ]
     },
     "execution_count": 10,
     "metadata": {},
     "output_type": "execute_result"
    }
   ],
   "source": [
    "len(non_not)"
   ]
  },
  {
   "cell_type": "code",
   "execution_count": 11,
   "id": "708a5095-ab51-4912-9341-4a2fbc32effb",
   "metadata": {},
   "outputs": [
    {
     "data": {
      "text/plain": [
       "138639"
      ]
     },
     "execution_count": 11,
     "metadata": {},
     "output_type": "execute_result"
    }
   ],
   "source": [
    "len(flat_list)"
   ]
  },
  {
   "cell_type": "code",
   "execution_count": 12,
   "id": "4db0f65d-7f36-463a-93f2-b967e307d348",
   "metadata": {},
   "outputs": [
    {
     "name": "stderr",
     "output_type": "stream",
     "text": [
      "100%|██████████| 135227/135227 [01:17<00:00, 1752.77it/s]\n"
     ]
    }
   ],
   "source": [
    "outrows = []\n",
    "for thing in tqdm(non_not,total=len(non_not)):\n",
    "    mol = convert_io_molecule(thing)\n",
    "    td = dict()\n",
    "    td['name'] = thing.splitlines()[1].split()[0]\n",
    "    td['mol2'] = thing\n",
    "    td['charge'] = mol.charge\n",
    "    td['mult'] = mol.uhf + 1\n",
    "    td['xyz'] = mol.write_xyz(td['name'],writestring=True)\n",
    "    outrows.append(td)"
   ]
  },
  {
   "cell_type": "code",
   "execution_count": 13,
   "id": "fa076890-9da6-491b-8ef7-5d4045f0320e",
   "metadata": {},
   "outputs": [],
   "source": [
    "odf = pd.DataFrame(outrows)"
   ]
  },
  {
   "cell_type": "code",
   "execution_count": 14,
   "id": "fa1fafc8-0bf7-4297-84d7-41565528724e",
   "metadata": {},
   "outputs": [
    {
     "data": {
      "text/plain": [
       "name                                   hexagonal_planarSi60\n",
       "mol2      @<TRIPOS>MOLECULE\\nhexagonal_planarSi60 Charge...\n",
       "charge                                                  0.0\n",
       "mult                                                      1\n",
       "xyz       6\\n\\nSi -0.7077 1.6645 1.1576\\nSi 0.7077 -1.66...\n",
       "Name: 0, dtype: object"
      ]
     },
     "execution_count": 14,
     "metadata": {},
     "output_type": "execute_result"
    }
   ],
   "source": [
    "odf.iloc[0]"
   ]
  },
  {
   "cell_type": "code",
   "execution_count": 15,
   "id": "c02da065-2113-478d-b715-dd2a88717d73",
   "metadata": {},
   "outputs": [],
   "source": [
    "odf.to_csv('all_structs_sampled.csv',index=False)"
   ]
  },
  {
   "cell_type": "code",
   "execution_count": 17,
   "id": "c23499ec-7928-4ba6-b4f4-8eeaf72c1a6e",
   "metadata": {},
   "outputs": [
    {
     "name": "stdout",
     "output_type": "stream",
     "text": [
      "215M\tall_structs_sampled.csv\n"
     ]
    }
   ],
   "source": [
    "!du -sh all_structs_sampled.csv"
   ]
  },
  {
   "cell_type": "code",
   "execution_count": 21,
   "id": "e00df795-e4fe-46a4-88ef-392fb21b1f82",
   "metadata": {},
   "outputs": [
    {
     "data": {
      "application/3dmoljs_load.v0": "<div id=\"3dmolviewer_1753918268360368\"  style=\"position: relative; width: 800px; height: 600px;\">\n        <p id=\"3dmolwarning_1753918268360368\" style=\"background-color:#ffcccc;color:black\">3Dmol.js failed to load for some reason.  Please check your browser console for error messages.<br></p>\n        </div>\n<script>\n\nvar loadScriptAsync = function(uri){\n  return new Promise((resolve, reject) => {\n    //this is to ignore the existence of requirejs amd\n    var savedexports, savedmodule;\n    if (typeof exports !== 'undefined') savedexports = exports;\n    else exports = {}\n    if (typeof module !== 'undefined') savedmodule = module;\n    else module = {}\n\n    var tag = document.createElement('script');\n    tag.src = uri;\n    tag.async = true;\n    tag.onload = () => {\n        exports = savedexports;\n        module = savedmodule;\n        resolve();\n    };\n  var firstScriptTag = document.getElementsByTagName('script')[0];\n  firstScriptTag.parentNode.insertBefore(tag, firstScriptTag);\n});\n};\n\nif(typeof $3Dmolpromise === 'undefined') {\n$3Dmolpromise = null;\n  $3Dmolpromise = loadScriptAsync('https://cdnjs.cloudflare.com/ajax/libs/3Dmol/2.4.2/3Dmol-min.js');\n}\n\nvar viewer_1753918268360368 = null;\nvar warn = document.getElementById(\"3dmolwarning_1753918268360368\");\nif(warn) {\n    warn.parentNode.removeChild(warn);\n}\n$3Dmolpromise.then(function() {\nvar viewergrid_1753918268360368 = null;\nviewergrid_1753918268360368 = $3Dmol.createViewerGrid(document.getElementById(\"3dmolviewer_1753918268360368\"),{rows: 3, cols: 4, control_all: false},{backgroundColor:\"white\"});\nviewer_1753918268360368 = viewergrid_1753918268360368[0][0];\nviewergrid_1753918268360368[0][0].zoomTo();viewergrid_1753918268360368[0][1].zoomTo();viewergrid_1753918268360368[0][2].zoomTo();viewergrid_1753918268360368[0][3].zoomTo();viewergrid_1753918268360368[1][0].zoomTo();viewergrid_1753918268360368[1][1].zoomTo();viewergrid_1753918268360368[1][2].zoomTo();viewergrid_1753918268360368[1][3].zoomTo();viewergrid_1753918268360368[2][0].zoomTo();viewergrid_1753918268360368[2][1].zoomTo();viewergrid_1753918268360368[2][2].zoomTo();viewergrid_1753918268360368[2][3].zoomTo();\tviewergrid_1753918268360368[0][0].setBackgroundColor(\"white\");\n\tviewergrid_1753918268360368[0][1].setBackgroundColor(\"white\");\n\tviewergrid_1753918268360368[0][2].setBackgroundColor(\"white\");\n\tviewergrid_1753918268360368[0][3].setBackgroundColor(\"white\");\n\tviewergrid_1753918268360368[1][0].setBackgroundColor(\"white\");\n\tviewergrid_1753918268360368[1][1].setBackgroundColor(\"white\");\n\tviewergrid_1753918268360368[1][2].setBackgroundColor(\"white\");\n\tviewergrid_1753918268360368[1][3].setBackgroundColor(\"white\");\n\tviewergrid_1753918268360368[2][0].setBackgroundColor(\"white\");\n\tviewergrid_1753918268360368[2][1].setBackgroundColor(\"white\");\n\tviewergrid_1753918268360368[2][2].setBackgroundColor(\"white\");\n\tviewergrid_1753918268360368[2][3].setBackgroundColor(\"white\");\n\tviewergrid_1753918268360368[0][0].addModel(\"@<TRIPOS>MOLECULE\\ntmp.mol2\\n     8    10     1     0     0\\nSMALL\\nNoCharges\\n****\\nGenerated from Architector\\n\\n@<TRIPOS>ATOM\\n     1 P1        1.6656   -1.2413    0.2440   P.3       1 RES1   0.0000\\n     2 P2        0.5955    0.3722    1.9702   P.3       1 RES1   0.0000\\n     3 P3       -1.4562    0.5164   -1.4099   P.3       1 RES1   0.0000\\n     4 Si1       1.7479    0.3014   -1.1086   Si        1 RES1   0.0000\\n     5 P4       -1.3673    0.6939    1.4226   P.3       1 RES1   0.0000\\n     6 Se1      -0.3469   -1.1734   -1.6964   Se        1 RES1   0.0000\\n     7 P5        0.1696    2.0825   -0.0953   P.3       1 RES1   0.0000\\n     8 P6       -0.9847   -1.7161    0.6783   P.3       1 RES1   0.0000\\n@<TRIPOS>BOND\\n     1     1     2    1\\n     2     1     4    1\\n     3     2     5    1\\n     4     3     6    1\\n     5     3     7    1\\n     6     4     6    1\\n     7     4     7    1\\n     8     5     7    1\\n     9     5     8    1\\n    10     6     8    1\\n@<TRIPOS>SUBSTRUCTURE\\n     1 RES1        8 GROUP             0 ****  ****    0  \\n\",\"mol2\",{\"keepH\": true});\n\tviewergrid_1753918268360368[0][0].addStyle({\"sphere\": {\"colorscheme\": \"Jmol\", \"scale\": 0.3}});\n\tviewergrid_1753918268360368[0][0].addStyle({\"stick\": {\"colorscheme\": \"Jmol\", \"radius\": 0.25}});\n\tviewergrid_1753918268360368[0][0].zoomTo();\n\tviewergrid_1753918268360368[0][1].addModel(\"@<TRIPOS>MOLECULE\\ntmp.mol2\\n     8    13     1     0     0\\nSMALL\\nNoCharges\\n****\\nGenerated from Architector\\n\\n@<TRIPOS>ATOM\\n     1 P1        1.4588   -1.2562    0.8087   P.3       1 RES1   0.0000\\n     2 P2        0.7997    0.5195    1.8711   P.3       1 RES1   0.0000\\n     3 P3       -1.4399    0.8388   -1.3344   P.3       1 RES1   0.0000\\n     4 Si1       1.5783    0.3170   -1.1985   Si        1 RES1   0.0000\\n     5 P4       -1.3041    0.4189    1.1207   P.3       1 RES1   0.0000\\n     6 Se1      -0.5536   -1.1783   -1.7281   Se        1 RES1   0.0000\\n     7 P5        0.1268    1.8371   -0.0131   P.3       1 RES1   0.0000\\n     8 P6       -0.6425   -1.6612    0.4784   P.3       1 RES1   0.0000\\n@<TRIPOS>BOND\\n     1     1     2    1\\n     2     1     4    1\\n     3     1     8    1\\n     4     2     5    1\\n     5     2     7    1\\n     6     3     5    1\\n     7     3     6    1\\n     8     3     7    1\\n     9     4     6    1\\n    10     4     7    1\\n    11     5     7    1\\n    12     5     8    1\\n    13     6     8    1\\n@<TRIPOS>SUBSTRUCTURE\\n     1 RES1        8 GROUP             0 ****  ****    0  \\n\",\"mol2\",{\"keepH\": true});\n\tviewergrid_1753918268360368[0][1].addStyle({\"sphere\": {\"colorscheme\": \"Jmol\", \"scale\": 0.3}});\n\tviewergrid_1753918268360368[0][1].addStyle({\"stick\": {\"colorscheme\": \"Jmol\", \"radius\": 0.25}});\n\tviewergrid_1753918268360368[0][1].zoomTo();\n\tviewergrid_1753918268360368[0][2].addModel(\"@<TRIPOS>MOLECULE\\ntmp.mol2\\n     8    12     1     0     0\\nSMALL\\nNoCharges\\n****\\nGenerated from Architector\\n\\n@<TRIPOS>ATOM\\n     1 P1        1.5178   -1.1593    0.8260   P.3       1 RES1   0.0000\\n     2 P2        0.7311    0.6599    1.8665   P.3       1 RES1   0.0000\\n     3 P3       -1.4376    0.9237   -1.1270   P.3       1 RES1   0.0000\\n     4 Si1       1.5813    0.1689   -1.1250   Si        1 RES1   0.0000\\n     5 P4       -1.3547    0.3518    1.0241   P.3       1 RES1   0.0000\\n     6 Se1      -0.6619   -1.2378   -1.8552   Se        1 RES1   0.0000\\n     7 P5        0.2307    1.8722   -0.0102   P.3       1 RES1   0.0000\\n     8 P6       -0.5831   -1.7438    0.4059   P.3       1 RES1   0.0000\\n@<TRIPOS>BOND\\n     1     1     2    1\\n     2     1     4    1\\n     3     1     8    1\\n     4     2     5    1\\n     5     2     7    1\\n     6     3     5    1\\n     7     3     6    1\\n     8     3     7    1\\n     9     4     7    1\\n    10     5     7    1\\n    11     5     8    1\\n    12     6     8    1\\n@<TRIPOS>SUBSTRUCTURE\\n     1 RES1        8 GROUP             0 ****  ****    0  \\n\",\"mol2\",{\"keepH\": true});\n\tviewergrid_1753918268360368[0][2].addStyle({\"sphere\": {\"colorscheme\": \"Jmol\", \"scale\": 0.3}});\n\tviewergrid_1753918268360368[0][2].addStyle({\"stick\": {\"colorscheme\": \"Jmol\", \"radius\": 0.25}});\n\tviewergrid_1753918268360368[0][2].zoomTo();\n\tviewergrid_1753918268360368[0][3].addModel(\"@<TRIPOS>MOLECULE\\ntmp.mol2\\n     8    11     1     0     0\\nSMALL\\nNoCharges\\n****\\nGenerated from Architector\\n\\n@<TRIPOS>ATOM\\n     1 P1        1.5124   -1.0497    0.9052   P.3       1 RES1   0.0000\\n     2 P2        0.5128    0.7948    1.7425   P.3       1 RES1   0.0000\\n     3 P3       -1.3074    0.9446   -0.9116   P.3       1 RES1   0.0000\\n     4 Si1       1.6712    0.1228   -1.1594   Si        1 RES1   0.0000\\n     5 P4       -1.5495    0.0354    1.1470   P.3       1 RES1   0.0000\\n     6 Se1      -0.8364   -1.1820   -1.8836   Se        1 RES1   0.0000\\n     7 P5        0.5419    1.9649   -0.1619   P.3       1 RES1   0.0000\\n     8 P6       -0.5216   -1.7951    0.3266   P.3       1 RES1   0.0000\\n@<TRIPOS>BOND\\n     1     1     2    1\\n     2     1     4    1\\n     3     1     8    1\\n     4     2     5    1\\n     5     2     7    1\\n     6     3     5    1\\n     7     3     6    1\\n     8     3     7    1\\n     9     4     7    1\\n    10     5     8    1\\n    11     6     8    1\\n@<TRIPOS>SUBSTRUCTURE\\n     1 RES1        8 GROUP             0 ****  ****    0  \\n\",\"mol2\",{\"keepH\": true});\n\tviewergrid_1753918268360368[0][3].addStyle({\"sphere\": {\"colorscheme\": \"Jmol\", \"scale\": 0.3}});\n\tviewergrid_1753918268360368[0][3].addStyle({\"stick\": {\"colorscheme\": \"Jmol\", \"radius\": 0.25}});\n\tviewergrid_1753918268360368[0][3].zoomTo();\n\tviewergrid_1753918268360368[1][0].addModel(\"@<TRIPOS>MOLECULE\\ntmp.mol2\\n     8    11     1     0     0\\nSMALL\\nNoCharges\\n****\\nGenerated from Architector\\n\\n@<TRIPOS>ATOM\\n     1 P1        1.4996   -1.0324    0.9419   P.3       1 RES1   0.0000\\n     2 P2        0.4809    0.8206    1.7228   P.3       1 RES1   0.0000\\n     3 P3       -1.3287    0.9832   -0.8961   P.3       1 RES1   0.0000\\n     4 Si1       1.6887    0.0992   -1.1305   Si        1 RES1   0.0000\\n     5 P4       -1.5247   -0.0280    1.1111   P.3       1 RES1   0.0000\\n     6 Se1      -0.8860   -1.1096   -1.8469   Se        1 RES1   0.0000\\n     7 P5        0.5757    1.9648   -0.2107   P.3       1 RES1   0.0000\\n     8 P6       -0.4820   -1.8622    0.3133   P.3       1 RES1   0.0000\\n@<TRIPOS>BOND\\n     1     1     2    1\\n     2     1     4    1\\n     3     1     8    1\\n     4     2     5    1\\n     5     2     7    1\\n     6     3     5    1\\n     7     3     6    1\\n     8     3     7    1\\n     9     4     7    1\\n    10     5     8    1\\n    11     6     8    1\\n@<TRIPOS>SUBSTRUCTURE\\n     1 RES1        8 GROUP             0 ****  ****    0  \\n\",\"mol2\",{\"keepH\": true});\n\tviewergrid_1753918268360368[1][0].addStyle({\"sphere\": {\"colorscheme\": \"Jmol\", \"scale\": 0.3}});\n\tviewergrid_1753918268360368[1][0].addStyle({\"stick\": {\"colorscheme\": \"Jmol\", \"radius\": 0.25}});\n\tviewergrid_1753918268360368[1][0].zoomTo();\n\tviewergrid_1753918268360368[1][1].addModel(\"@<TRIPOS>MOLECULE\\ntmp.mol2\\n    11     5     6     0     0\\nSMALL\\nNoCharges\\n****\\nGenerated from Architector\\n\\n@<TRIPOS>ATOM\\n     1 P1       -1.9727    1.7189    0.5275   P.3       1 RES1   0.0000\\n     2 P2       -0.2037    2.2082    1.4857   P.3       1 RES1   0.0000\\n     3 P3        0.0000   -2.6692    0.0000   P.3       2 RES2   0.0000\\n     4 P4       -1.5971   -0.0920   -2.1367   P.3       3 RES3   0.0000\\n     5 P5        0.9737   -0.8549   -2.3336   P.3       4 RES4   0.0000\\n     6 P6        2.3447   -1.2645   -0.1669   P.3       4 RES4   0.0000\\n     7 P7        1.9727    1.7189   -0.5274   P.3       5 RES5   0.0000\\n     8 P8        0.2037    2.2082   -1.4856   P.3       5 RES5   0.0000\\n     9 P9        1.5970   -0.0920    2.1367   P.3       6 RES6   0.0000\\n    10 As1      -0.9736   -0.8549    2.3336   As        6 RES6   0.0000\\n    11 P10      -2.3447   -1.2645    0.1670   P.3       6 RES6   0.0000\\n@<TRIPOS>BOND\\n     1     1     2    1\\n     2     5     6    1\\n     3     7     8    1\\n     4     9    10    1\\n     5    10    11    1\\n@<TRIPOS>SUBSTRUCTURE\\n     1 RES1        2 GROUP             0 ****  ****    0  \\n     2 RES2        1 GROUP             0 ****  ****    0  \\n     3 RES3        1 GROUP             0 ****  ****    0  \\n     4 RES4        2 GROUP             0 ****  ****    0  \\n     5 RES5        2 GROUP             0 ****  ****    0  \\n     6 RES6        3 GROUP             0 ****  ****    0  \\n\",\"mol2\",{\"keepH\": true});\n\tviewergrid_1753918268360368[1][1].addStyle({\"sphere\": {\"colorscheme\": \"Jmol\", \"scale\": 0.3}});\n\tviewergrid_1753918268360368[1][1].addStyle({\"stick\": {\"colorscheme\": \"Jmol\", \"radius\": 0.25}});\n\tviewergrid_1753918268360368[1][1].zoomTo();\n\tviewergrid_1753918268360368[1][2].addModel(\"@<TRIPOS>MOLECULE\\ntmp.mol2\\n    11    14     2     0     0\\nSMALL\\nNoCharges\\n****\\nGenerated from Architector\\n\\n@<TRIPOS>ATOM\\n     1 P1       -2.1389    1.9846    0.7205   P.3       1 RES1   0.0000\\n     2 P2       -0.5505    2.3392    1.7850   P.3       1 RES1   0.0000\\n     3 P3        0.0141   -2.7396    0.0458   P.3       2 RES2   0.0000\\n     4 P4       -1.0239    0.2499   -1.5349   P.3       2 RES2   0.0000\\n     5 P5        0.5481   -1.3154   -1.7733   P.3       2 RES2   0.0000\\n     6 P6        1.8348   -1.3750   -0.0523   P.3       2 RES2   0.0000\\n     7 P7        1.9979    1.8155   -0.4807   P.3       2 RES2   0.0000\\n     8 P8        0.4588    2.0793   -1.7355   P.3       2 RES2   0.0000\\n     9 P9        1.2359    0.2561    1.3010   P.3       2 RES2   0.0000\\n    10 As1      -0.5341   -1.2661    1.7956   As        2 RES2   0.0000\\n    11 P10      -1.8421   -1.2665   -0.0708   P.3       2 RES2   0.0000\\n@<TRIPOS>BOND\\n     1     1     2    1\\n     2     3     5    1\\n     3     3     6    1\\n     4     3    10    1\\n     5     3    11    1\\n     6     4     5    1\\n     7     4     8    1\\n     8     4    11    1\\n     9     5     6    1\\n    10     6     9    1\\n    11     7     8    1\\n    12     7     9    1\\n    13     9    10    1\\n    14    10    11    1\\n@<TRIPOS>SUBSTRUCTURE\\n     1 RES1        2 GROUP             0 ****  ****    0  \\n     2 RES2        9 GROUP             0 ****  ****    0  \\n\",\"mol2\",{\"keepH\": true});\n\tviewergrid_1753918268360368[1][2].addStyle({\"sphere\": {\"colorscheme\": \"Jmol\", \"scale\": 0.3}});\n\tviewergrid_1753918268360368[1][2].addStyle({\"stick\": {\"colorscheme\": \"Jmol\", \"radius\": 0.25}});\n\tviewergrid_1753918268360368[1][2].zoomTo();\n\tviewergrid_1753918268360368[1][3].addModel(\"@<TRIPOS>MOLECULE\\ntmp.mol2\\n    11    14     2     0     0\\nSMALL\\nNoCharges\\n****\\nGenerated from Architector\\n\\n@<TRIPOS>ATOM\\n     1 P1       -2.3460    2.2424    0.8400   P.3       1 RES1   0.0000\\n     2 P2       -1.0764    2.4374    2.2754   P.3       1 RES1   0.0000\\n     3 P3       -0.1751   -2.6680   -0.0115   P.3       2 RES2   0.0000\\n     4 P4       -0.8912    0.0213   -1.8811   P.3       2 RES2   0.0000\\n     5 P5        0.5424   -1.6549   -1.9256   P.3       2 RES2   0.0000\\n     6 P6        1.8841   -1.6673   -0.2074   P.3       2 RES2   0.0000\\n     7 P7        1.7058    1.9658   -0.1264   P.3       2 RES2   0.0000\\n     8 P8        0.5247    1.7725   -1.7697   P.3       2 RES2   0.0000\\n     9 P9        1.7855    0.1403    1.1531   P.3       2 RES2   0.0000\\n    10 As1      -0.2512   -0.8675    1.7009   As        2 RES2   0.0000\\n    11 P10      -1.7025   -0.9598   -0.0473   P.3       2 RES2   0.0000\\n@<TRIPOS>BOND\\n     1     1     2    1\\n     2     3     5    1\\n     3     3     6    1\\n     4     3    10    1\\n     5     3    11    1\\n     6     4     5    1\\n     7     4     8    1\\n     8     4    11    1\\n     9     5     6    1\\n    10     6     9    1\\n    11     7     8    1\\n    12     7     9    1\\n    13     9    10    1\\n    14    10    11    1\\n@<TRIPOS>SUBSTRUCTURE\\n     1 RES1        2 GROUP             0 ****  ****    0  \\n     2 RES2        9 GROUP             0 ****  ****    0  \\n\",\"mol2\",{\"keepH\": true});\n\tviewergrid_1753918268360368[1][3].addStyle({\"sphere\": {\"colorscheme\": \"Jmol\", \"scale\": 0.3}});\n\tviewergrid_1753918268360368[1][3].addStyle({\"stick\": {\"colorscheme\": \"Jmol\", \"radius\": 0.25}});\n\tviewergrid_1753918268360368[1][3].zoomTo();\n\tviewergrid_1753918268360368[2][0].addModel(\"@<TRIPOS>MOLECULE\\ntmp.mol2\\n    11    14     1     0     0\\nSMALL\\nNoCharges\\n****\\nGenerated from Architector\\n\\n@<TRIPOS>ATOM\\n     1 P1       -2.4638    2.4548    1.0625   P.3       1 RES1   0.0000\\n     2 P2       -1.1088    1.9207    2.3471   P.3       1 RES1   0.0000\\n     3 P3       -0.3423   -2.5926   -0.0749   P.3       1 RES1   0.0000\\n     4 P4       -0.6306   -0.0794   -2.0475   P.3       1 RES1   0.0000\\n     5 P5        0.7614   -1.8637   -1.8489   P.3       1 RES1   0.0000\\n     6 P6        1.7976   -1.8996    0.0528   P.3       1 RES1   0.0000\\n     7 P7        1.7052    1.9267   -0.2898   P.3       1 RES1   0.0000\\n     8 P8        0.2243    1.9034   -1.7114   P.3       1 RES1   0.0000\\n     9 P9        1.9036    0.1314    0.9520   P.3       1 RES1   0.0000\\n    10 As1      -0.2658   -0.3875    1.6978   As        1 RES1   0.0000\\n    11 P10      -1.5806   -0.7520   -0.1393   P.3       1 RES1   0.0000\\n@<TRIPOS>BOND\\n     1     1     2    1\\n     2     2    10    1\\n     3     3     5    1\\n     4     3     6    1\\n     5     3    11    1\\n     6     4     5    1\\n     7     4     8    1\\n     8     4    11    1\\n     9     5     6    1\\n    10     6     9    1\\n    11     7     8    1\\n    12     7     9    1\\n    13     9    10    1\\n    14    10    11    1\\n@<TRIPOS>SUBSTRUCTURE\\n     1 RES1       11 GROUP             0 ****  ****    0  \\n\",\"mol2\",{\"keepH\": true});\n\tviewergrid_1753918268360368[2][0].addStyle({\"sphere\": {\"colorscheme\": \"Jmol\", \"scale\": 0.3}});\n\tviewergrid_1753918268360368[2][0].addStyle({\"stick\": {\"colorscheme\": \"Jmol\", \"radius\": 0.25}});\n\tviewergrid_1753918268360368[2][0].zoomTo();\n\tviewergrid_1753918268360368[2][1].addModel(\"@<TRIPOS>MOLECULE\\ntmp.mol2\\n    11    14     1     0     0\\nSMALL\\nNoCharges\\n****\\nGenerated from Architector\\n\\n@<TRIPOS>ATOM\\n     1 P1       -2.4768    2.6019    1.2087   P.3       1 RES1   0.0000\\n     2 P2       -1.0931    1.8998    2.3794   P.3       1 RES1   0.0000\\n     3 P3       -0.3354   -2.6508   -0.2071   P.3       1 RES1   0.0000\\n     4 P4       -0.6475   -0.1401   -2.0357   P.3       1 RES1   0.0000\\n     5 P5        0.8602   -1.8010   -1.8634   P.3       1 RES1   0.0000\\n     6 P6        1.7660   -1.8654    0.1181   P.3       1 RES1   0.0000\\n     7 P7        1.7060    1.9259   -0.3678   P.3       1 RES1   0.0000\\n     8 P8        0.2888    1.8299   -1.8414   P.3       1 RES1   0.0000\\n     9 P9        1.8277    0.1859    0.9967   P.3       1 RES1   0.0000\\n    10 As1      -0.2965   -0.4062    1.7352   As        1 RES1   0.0000\\n    11 P10      -1.5993   -0.8177   -0.1224   P.3       1 RES1   0.0000\\n@<TRIPOS>BOND\\n     1     1     2    1\\n     2     2    10    1\\n     3     3     5    1\\n     4     3     6    1\\n     5     3    11    1\\n     6     4     5    1\\n     7     4     8    1\\n     8     4    11    1\\n     9     5     6    1\\n    10     6     9    1\\n    11     7     8    1\\n    12     7     9    1\\n    13     9    10    1\\n    14    10    11    1\\n@<TRIPOS>SUBSTRUCTURE\\n     1 RES1       11 GROUP             0 ****  ****    0  \\n\",\"mol2\",{\"keepH\": true});\n\tviewergrid_1753918268360368[2][1].addStyle({\"sphere\": {\"colorscheme\": \"Jmol\", \"scale\": 0.3}});\n\tviewergrid_1753918268360368[2][1].addStyle({\"stick\": {\"colorscheme\": \"Jmol\", \"radius\": 0.25}});\n\tviewergrid_1753918268360368[2][1].zoomTo();\n\tviewergrid_1753918268360368[2][2].addModel(\"@<TRIPOS>MOLECULE\\ntmp.mol2\\n     8     9     1     0     0\\nSMALL\\nNoCharges\\n****\\nGenerated from Architector\\n\\n@<TRIPOS>ATOM\\n     1 P1        1.6842   -1.2551    0.2468   P.3       1 RES1   0.0000\\n     2 Si1       0.6021    0.3763    1.9921   Si        1 RES1   0.0000\\n     3 P2       -1.4724    0.5221   -1.4256   P.3       1 RES1   0.0000\\n     4 P3        1.7673    0.3048   -1.1209   P.3       1 RES1   0.0000\\n     5 Si2      -1.3825    0.7017    1.4384   Si        1 RES1   0.0000\\n     6 Si3      -0.3507   -1.1864   -1.7153   Si        1 RES1   0.0000\\n     7 P4        0.1715    2.1057   -0.0963   P.3       1 RES1   0.0000\\n     8 Se1      -0.9957   -1.7352    0.6859   Se        1 RES1   0.0000\\n@<TRIPOS>BOND\\n     1     1     2    1\\n     2     1     4    1\\n     3     2     5    1\\n     4     3     6    1\\n     5     4     6    1\\n     6     4     7    1\\n     7     5     7    1\\n     8     5     8    1\\n     9     6     8    1\\n@<TRIPOS>SUBSTRUCTURE\\n     1 RES1        8 GROUP             0 ****  ****    0  \\n\",\"mol2\",{\"keepH\": true});\n\tviewergrid_1753918268360368[2][2].addStyle({\"sphere\": {\"colorscheme\": \"Jmol\", \"scale\": 0.3}});\n\tviewergrid_1753918268360368[2][2].addStyle({\"stick\": {\"colorscheme\": \"Jmol\", \"radius\": 0.25}});\n\tviewergrid_1753918268360368[2][2].zoomTo();\n\tviewergrid_1753918268360368[2][3].addModel(\"@<TRIPOS>MOLECULE\\ntmp.mol2\\n     8    12     1     0     0\\nSMALL\\nNoCharges\\n****\\nGenerated from Architector\\n\\n@<TRIPOS>ATOM\\n     1 P1        1.5522   -1.1749    0.3527   P.3       1 RES1   0.0000\\n     2 Si1       0.8462    0.2583    1.9749   Si        1 RES1   0.0000\\n     3 P2       -1.4365    0.8555   -1.2330   P.3       1 RES1   0.0000\\n     4 P3        1.5645    0.3654   -1.1088   P.3       1 RES1   0.0000\\n     5 Si2      -1.6224    0.7415    1.2129   Si        1 RES1   0.0000\\n     6 Si3      -0.2095   -1.2591   -1.7359   Si        1 RES1   0.0000\\n     7 P4        0.1618    1.7578   -0.2134   P.3       1 RES1   0.0000\\n     8 Se1      -0.8325   -1.7106    0.7559   Se        1 RES1   0.0000\\n@<TRIPOS>BOND\\n     1     1     2    1\\n     2     1     4    1\\n     3     1     8    1\\n     4     2     5    1\\n     5     3     5    1\\n     6     3     6    1\\n     7     3     7    1\\n     8     4     6    1\\n     9     4     7    1\\n    10     5     7    1\\n    11     5     8    1\\n    12     6     8    1\\n@<TRIPOS>SUBSTRUCTURE\\n     1 RES1        8 GROUP             0 ****  ****    0  \\n\",\"mol2\",{\"keepH\": true});\n\tviewergrid_1753918268360368[2][3].addStyle({\"sphere\": {\"colorscheme\": \"Jmol\", \"scale\": 0.3}});\n\tviewergrid_1753918268360368[2][3].addStyle({\"stick\": {\"colorscheme\": \"Jmol\", \"radius\": 0.25}});\n\tviewergrid_1753918268360368[2][3].zoomTo();\nviewergrid_1753918268360368[2][3].render();\nviewergrid_1753918268360368[2][2].render();\nviewergrid_1753918268360368[2][1].render();\nviewergrid_1753918268360368[2][0].render();\nviewergrid_1753918268360368[1][3].render();\nviewergrid_1753918268360368[1][2].render();\nviewergrid_1753918268360368[1][1].render();\nviewergrid_1753918268360368[1][0].render();\nviewergrid_1753918268360368[0][3].render();\nviewergrid_1753918268360368[0][2].render();\nviewergrid_1753918268360368[0][1].render();\nviewergrid_1753918268360368[0][0].render();\n});\n</script>",
      "text/html": [
       "<div id=\"3dmolviewer_1753918268360368\"  style=\"position: relative; width: 800px; height: 600px;\">\n",
       "        <p id=\"3dmolwarning_1753918268360368\" style=\"background-color:#ffcccc;color:black\">3Dmol.js failed to load for some reason.  Please check your browser console for error messages.<br></p>\n",
       "        </div>\n",
       "<script>\n",
       "\n",
       "var loadScriptAsync = function(uri){\n",
       "  return new Promise((resolve, reject) => {\n",
       "    //this is to ignore the existence of requirejs amd\n",
       "    var savedexports, savedmodule;\n",
       "    if (typeof exports !== 'undefined') savedexports = exports;\n",
       "    else exports = {}\n",
       "    if (typeof module !== 'undefined') savedmodule = module;\n",
       "    else module = {}\n",
       "\n",
       "    var tag = document.createElement('script');\n",
       "    tag.src = uri;\n",
       "    tag.async = true;\n",
       "    tag.onload = () => {\n",
       "        exports = savedexports;\n",
       "        module = savedmodule;\n",
       "        resolve();\n",
       "    };\n",
       "  var firstScriptTag = document.getElementsByTagName('script')[0];\n",
       "  firstScriptTag.parentNode.insertBefore(tag, firstScriptTag);\n",
       "});\n",
       "};\n",
       "\n",
       "if(typeof $3Dmolpromise === 'undefined') {\n",
       "$3Dmolpromise = null;\n",
       "  $3Dmolpromise = loadScriptAsync('https://cdnjs.cloudflare.com/ajax/libs/3Dmol/2.4.2/3Dmol-min.js');\n",
       "}\n",
       "\n",
       "var viewer_1753918268360368 = null;\n",
       "var warn = document.getElementById(\"3dmolwarning_1753918268360368\");\n",
       "if(warn) {\n",
       "    warn.parentNode.removeChild(warn);\n",
       "}\n",
       "$3Dmolpromise.then(function() {\n",
       "var viewergrid_1753918268360368 = null;\n",
       "viewergrid_1753918268360368 = $3Dmol.createViewerGrid(document.getElementById(\"3dmolviewer_1753918268360368\"),{rows: 3, cols: 4, control_all: false},{backgroundColor:\"white\"});\n",
       "viewer_1753918268360368 = viewergrid_1753918268360368[0][0];\n",
       "viewergrid_1753918268360368[0][0].zoomTo();viewergrid_1753918268360368[0][1].zoomTo();viewergrid_1753918268360368[0][2].zoomTo();viewergrid_1753918268360368[0][3].zoomTo();viewergrid_1753918268360368[1][0].zoomTo();viewergrid_1753918268360368[1][1].zoomTo();viewergrid_1753918268360368[1][2].zoomTo();viewergrid_1753918268360368[1][3].zoomTo();viewergrid_1753918268360368[2][0].zoomTo();viewergrid_1753918268360368[2][1].zoomTo();viewergrid_1753918268360368[2][2].zoomTo();viewergrid_1753918268360368[2][3].zoomTo();\tviewergrid_1753918268360368[0][0].setBackgroundColor(\"white\");\n",
       "\tviewergrid_1753918268360368[0][1].setBackgroundColor(\"white\");\n",
       "\tviewergrid_1753918268360368[0][2].setBackgroundColor(\"white\");\n",
       "\tviewergrid_1753918268360368[0][3].setBackgroundColor(\"white\");\n",
       "\tviewergrid_1753918268360368[1][0].setBackgroundColor(\"white\");\n",
       "\tviewergrid_1753918268360368[1][1].setBackgroundColor(\"white\");\n",
       "\tviewergrid_1753918268360368[1][2].setBackgroundColor(\"white\");\n",
       "\tviewergrid_1753918268360368[1][3].setBackgroundColor(\"white\");\n",
       "\tviewergrid_1753918268360368[2][0].setBackgroundColor(\"white\");\n",
       "\tviewergrid_1753918268360368[2][1].setBackgroundColor(\"white\");\n",
       "\tviewergrid_1753918268360368[2][2].setBackgroundColor(\"white\");\n",
       "\tviewergrid_1753918268360368[2][3].setBackgroundColor(\"white\");\n",
       "\tviewergrid_1753918268360368[0][0].addModel(\"@<TRIPOS>MOLECULE\\ntmp.mol2\\n     8    10     1     0     0\\nSMALL\\nNoCharges\\n****\\nGenerated from Architector\\n\\n@<TRIPOS>ATOM\\n     1 P1        1.6656   -1.2413    0.2440   P.3       1 RES1   0.0000\\n     2 P2        0.5955    0.3722    1.9702   P.3       1 RES1   0.0000\\n     3 P3       -1.4562    0.5164   -1.4099   P.3       1 RES1   0.0000\\n     4 Si1       1.7479    0.3014   -1.1086   Si        1 RES1   0.0000\\n     5 P4       -1.3673    0.6939    1.4226   P.3       1 RES1   0.0000\\n     6 Se1      -0.3469   -1.1734   -1.6964   Se        1 RES1   0.0000\\n     7 P5        0.1696    2.0825   -0.0953   P.3       1 RES1   0.0000\\n     8 P6       -0.9847   -1.7161    0.6783   P.3       1 RES1   0.0000\\n@<TRIPOS>BOND\\n     1     1     2    1\\n     2     1     4    1\\n     3     2     5    1\\n     4     3     6    1\\n     5     3     7    1\\n     6     4     6    1\\n     7     4     7    1\\n     8     5     7    1\\n     9     5     8    1\\n    10     6     8    1\\n@<TRIPOS>SUBSTRUCTURE\\n     1 RES1        8 GROUP             0 ****  ****    0  \\n\",\"mol2\",{\"keepH\": true});\n",
       "\tviewergrid_1753918268360368[0][0].addStyle({\"sphere\": {\"colorscheme\": \"Jmol\", \"scale\": 0.3}});\n",
       "\tviewergrid_1753918268360368[0][0].addStyle({\"stick\": {\"colorscheme\": \"Jmol\", \"radius\": 0.25}});\n",
       "\tviewergrid_1753918268360368[0][0].zoomTo();\n",
       "\tviewergrid_1753918268360368[0][1].addModel(\"@<TRIPOS>MOLECULE\\ntmp.mol2\\n     8    13     1     0     0\\nSMALL\\nNoCharges\\n****\\nGenerated from Architector\\n\\n@<TRIPOS>ATOM\\n     1 P1        1.4588   -1.2562    0.8087   P.3       1 RES1   0.0000\\n     2 P2        0.7997    0.5195    1.8711   P.3       1 RES1   0.0000\\n     3 P3       -1.4399    0.8388   -1.3344   P.3       1 RES1   0.0000\\n     4 Si1       1.5783    0.3170   -1.1985   Si        1 RES1   0.0000\\n     5 P4       -1.3041    0.4189    1.1207   P.3       1 RES1   0.0000\\n     6 Se1      -0.5536   -1.1783   -1.7281   Se        1 RES1   0.0000\\n     7 P5        0.1268    1.8371   -0.0131   P.3       1 RES1   0.0000\\n     8 P6       -0.6425   -1.6612    0.4784   P.3       1 RES1   0.0000\\n@<TRIPOS>BOND\\n     1     1     2    1\\n     2     1     4    1\\n     3     1     8    1\\n     4     2     5    1\\n     5     2     7    1\\n     6     3     5    1\\n     7     3     6    1\\n     8     3     7    1\\n     9     4     6    1\\n    10     4     7    1\\n    11     5     7    1\\n    12     5     8    1\\n    13     6     8    1\\n@<TRIPOS>SUBSTRUCTURE\\n     1 RES1        8 GROUP             0 ****  ****    0  \\n\",\"mol2\",{\"keepH\": true});\n",
       "\tviewergrid_1753918268360368[0][1].addStyle({\"sphere\": {\"colorscheme\": \"Jmol\", \"scale\": 0.3}});\n",
       "\tviewergrid_1753918268360368[0][1].addStyle({\"stick\": {\"colorscheme\": \"Jmol\", \"radius\": 0.25}});\n",
       "\tviewergrid_1753918268360368[0][1].zoomTo();\n",
       "\tviewergrid_1753918268360368[0][2].addModel(\"@<TRIPOS>MOLECULE\\ntmp.mol2\\n     8    12     1     0     0\\nSMALL\\nNoCharges\\n****\\nGenerated from Architector\\n\\n@<TRIPOS>ATOM\\n     1 P1        1.5178   -1.1593    0.8260   P.3       1 RES1   0.0000\\n     2 P2        0.7311    0.6599    1.8665   P.3       1 RES1   0.0000\\n     3 P3       -1.4376    0.9237   -1.1270   P.3       1 RES1   0.0000\\n     4 Si1       1.5813    0.1689   -1.1250   Si        1 RES1   0.0000\\n     5 P4       -1.3547    0.3518    1.0241   P.3       1 RES1   0.0000\\n     6 Se1      -0.6619   -1.2378   -1.8552   Se        1 RES1   0.0000\\n     7 P5        0.2307    1.8722   -0.0102   P.3       1 RES1   0.0000\\n     8 P6       -0.5831   -1.7438    0.4059   P.3       1 RES1   0.0000\\n@<TRIPOS>BOND\\n     1     1     2    1\\n     2     1     4    1\\n     3     1     8    1\\n     4     2     5    1\\n     5     2     7    1\\n     6     3     5    1\\n     7     3     6    1\\n     8     3     7    1\\n     9     4     7    1\\n    10     5     7    1\\n    11     5     8    1\\n    12     6     8    1\\n@<TRIPOS>SUBSTRUCTURE\\n     1 RES1        8 GROUP             0 ****  ****    0  \\n\",\"mol2\",{\"keepH\": true});\n",
       "\tviewergrid_1753918268360368[0][2].addStyle({\"sphere\": {\"colorscheme\": \"Jmol\", \"scale\": 0.3}});\n",
       "\tviewergrid_1753918268360368[0][2].addStyle({\"stick\": {\"colorscheme\": \"Jmol\", \"radius\": 0.25}});\n",
       "\tviewergrid_1753918268360368[0][2].zoomTo();\n",
       "\tviewergrid_1753918268360368[0][3].addModel(\"@<TRIPOS>MOLECULE\\ntmp.mol2\\n     8    11     1     0     0\\nSMALL\\nNoCharges\\n****\\nGenerated from Architector\\n\\n@<TRIPOS>ATOM\\n     1 P1        1.5124   -1.0497    0.9052   P.3       1 RES1   0.0000\\n     2 P2        0.5128    0.7948    1.7425   P.3       1 RES1   0.0000\\n     3 P3       -1.3074    0.9446   -0.9116   P.3       1 RES1   0.0000\\n     4 Si1       1.6712    0.1228   -1.1594   Si        1 RES1   0.0000\\n     5 P4       -1.5495    0.0354    1.1470   P.3       1 RES1   0.0000\\n     6 Se1      -0.8364   -1.1820   -1.8836   Se        1 RES1   0.0000\\n     7 P5        0.5419    1.9649   -0.1619   P.3       1 RES1   0.0000\\n     8 P6       -0.5216   -1.7951    0.3266   P.3       1 RES1   0.0000\\n@<TRIPOS>BOND\\n     1     1     2    1\\n     2     1     4    1\\n     3     1     8    1\\n     4     2     5    1\\n     5     2     7    1\\n     6     3     5    1\\n     7     3     6    1\\n     8     3     7    1\\n     9     4     7    1\\n    10     5     8    1\\n    11     6     8    1\\n@<TRIPOS>SUBSTRUCTURE\\n     1 RES1        8 GROUP             0 ****  ****    0  \\n\",\"mol2\",{\"keepH\": true});\n",
       "\tviewergrid_1753918268360368[0][3].addStyle({\"sphere\": {\"colorscheme\": \"Jmol\", \"scale\": 0.3}});\n",
       "\tviewergrid_1753918268360368[0][3].addStyle({\"stick\": {\"colorscheme\": \"Jmol\", \"radius\": 0.25}});\n",
       "\tviewergrid_1753918268360368[0][3].zoomTo();\n",
       "\tviewergrid_1753918268360368[1][0].addModel(\"@<TRIPOS>MOLECULE\\ntmp.mol2\\n     8    11     1     0     0\\nSMALL\\nNoCharges\\n****\\nGenerated from Architector\\n\\n@<TRIPOS>ATOM\\n     1 P1        1.4996   -1.0324    0.9419   P.3       1 RES1   0.0000\\n     2 P2        0.4809    0.8206    1.7228   P.3       1 RES1   0.0000\\n     3 P3       -1.3287    0.9832   -0.8961   P.3       1 RES1   0.0000\\n     4 Si1       1.6887    0.0992   -1.1305   Si        1 RES1   0.0000\\n     5 P4       -1.5247   -0.0280    1.1111   P.3       1 RES1   0.0000\\n     6 Se1      -0.8860   -1.1096   -1.8469   Se        1 RES1   0.0000\\n     7 P5        0.5757    1.9648   -0.2107   P.3       1 RES1   0.0000\\n     8 P6       -0.4820   -1.8622    0.3133   P.3       1 RES1   0.0000\\n@<TRIPOS>BOND\\n     1     1     2    1\\n     2     1     4    1\\n     3     1     8    1\\n     4     2     5    1\\n     5     2     7    1\\n     6     3     5    1\\n     7     3     6    1\\n     8     3     7    1\\n     9     4     7    1\\n    10     5     8    1\\n    11     6     8    1\\n@<TRIPOS>SUBSTRUCTURE\\n     1 RES1        8 GROUP             0 ****  ****    0  \\n\",\"mol2\",{\"keepH\": true});\n",
       "\tviewergrid_1753918268360368[1][0].addStyle({\"sphere\": {\"colorscheme\": \"Jmol\", \"scale\": 0.3}});\n",
       "\tviewergrid_1753918268360368[1][0].addStyle({\"stick\": {\"colorscheme\": \"Jmol\", \"radius\": 0.25}});\n",
       "\tviewergrid_1753918268360368[1][0].zoomTo();\n",
       "\tviewergrid_1753918268360368[1][1].addModel(\"@<TRIPOS>MOLECULE\\ntmp.mol2\\n    11     5     6     0     0\\nSMALL\\nNoCharges\\n****\\nGenerated from Architector\\n\\n@<TRIPOS>ATOM\\n     1 P1       -1.9727    1.7189    0.5275   P.3       1 RES1   0.0000\\n     2 P2       -0.2037    2.2082    1.4857   P.3       1 RES1   0.0000\\n     3 P3        0.0000   -2.6692    0.0000   P.3       2 RES2   0.0000\\n     4 P4       -1.5971   -0.0920   -2.1367   P.3       3 RES3   0.0000\\n     5 P5        0.9737   -0.8549   -2.3336   P.3       4 RES4   0.0000\\n     6 P6        2.3447   -1.2645   -0.1669   P.3       4 RES4   0.0000\\n     7 P7        1.9727    1.7189   -0.5274   P.3       5 RES5   0.0000\\n     8 P8        0.2037    2.2082   -1.4856   P.3       5 RES5   0.0000\\n     9 P9        1.5970   -0.0920    2.1367   P.3       6 RES6   0.0000\\n    10 As1      -0.9736   -0.8549    2.3336   As        6 RES6   0.0000\\n    11 P10      -2.3447   -1.2645    0.1670   P.3       6 RES6   0.0000\\n@<TRIPOS>BOND\\n     1     1     2    1\\n     2     5     6    1\\n     3     7     8    1\\n     4     9    10    1\\n     5    10    11    1\\n@<TRIPOS>SUBSTRUCTURE\\n     1 RES1        2 GROUP             0 ****  ****    0  \\n     2 RES2        1 GROUP             0 ****  ****    0  \\n     3 RES3        1 GROUP             0 ****  ****    0  \\n     4 RES4        2 GROUP             0 ****  ****    0  \\n     5 RES5        2 GROUP             0 ****  ****    0  \\n     6 RES6        3 GROUP             0 ****  ****    0  \\n\",\"mol2\",{\"keepH\": true});\n",
       "\tviewergrid_1753918268360368[1][1].addStyle({\"sphere\": {\"colorscheme\": \"Jmol\", \"scale\": 0.3}});\n",
       "\tviewergrid_1753918268360368[1][1].addStyle({\"stick\": {\"colorscheme\": \"Jmol\", \"radius\": 0.25}});\n",
       "\tviewergrid_1753918268360368[1][1].zoomTo();\n",
       "\tviewergrid_1753918268360368[1][2].addModel(\"@<TRIPOS>MOLECULE\\ntmp.mol2\\n    11    14     2     0     0\\nSMALL\\nNoCharges\\n****\\nGenerated from Architector\\n\\n@<TRIPOS>ATOM\\n     1 P1       -2.1389    1.9846    0.7205   P.3       1 RES1   0.0000\\n     2 P2       -0.5505    2.3392    1.7850   P.3       1 RES1   0.0000\\n     3 P3        0.0141   -2.7396    0.0458   P.3       2 RES2   0.0000\\n     4 P4       -1.0239    0.2499   -1.5349   P.3       2 RES2   0.0000\\n     5 P5        0.5481   -1.3154   -1.7733   P.3       2 RES2   0.0000\\n     6 P6        1.8348   -1.3750   -0.0523   P.3       2 RES2   0.0000\\n     7 P7        1.9979    1.8155   -0.4807   P.3       2 RES2   0.0000\\n     8 P8        0.4588    2.0793   -1.7355   P.3       2 RES2   0.0000\\n     9 P9        1.2359    0.2561    1.3010   P.3       2 RES2   0.0000\\n    10 As1      -0.5341   -1.2661    1.7956   As        2 RES2   0.0000\\n    11 P10      -1.8421   -1.2665   -0.0708   P.3       2 RES2   0.0000\\n@<TRIPOS>BOND\\n     1     1     2    1\\n     2     3     5    1\\n     3     3     6    1\\n     4     3    10    1\\n     5     3    11    1\\n     6     4     5    1\\n     7     4     8    1\\n     8     4    11    1\\n     9     5     6    1\\n    10     6     9    1\\n    11     7     8    1\\n    12     7     9    1\\n    13     9    10    1\\n    14    10    11    1\\n@<TRIPOS>SUBSTRUCTURE\\n     1 RES1        2 GROUP             0 ****  ****    0  \\n     2 RES2        9 GROUP             0 ****  ****    0  \\n\",\"mol2\",{\"keepH\": true});\n",
       "\tviewergrid_1753918268360368[1][2].addStyle({\"sphere\": {\"colorscheme\": \"Jmol\", \"scale\": 0.3}});\n",
       "\tviewergrid_1753918268360368[1][2].addStyle({\"stick\": {\"colorscheme\": \"Jmol\", \"radius\": 0.25}});\n",
       "\tviewergrid_1753918268360368[1][2].zoomTo();\n",
       "\tviewergrid_1753918268360368[1][3].addModel(\"@<TRIPOS>MOLECULE\\ntmp.mol2\\n    11    14     2     0     0\\nSMALL\\nNoCharges\\n****\\nGenerated from Architector\\n\\n@<TRIPOS>ATOM\\n     1 P1       -2.3460    2.2424    0.8400   P.3       1 RES1   0.0000\\n     2 P2       -1.0764    2.4374    2.2754   P.3       1 RES1   0.0000\\n     3 P3       -0.1751   -2.6680   -0.0115   P.3       2 RES2   0.0000\\n     4 P4       -0.8912    0.0213   -1.8811   P.3       2 RES2   0.0000\\n     5 P5        0.5424   -1.6549   -1.9256   P.3       2 RES2   0.0000\\n     6 P6        1.8841   -1.6673   -0.2074   P.3       2 RES2   0.0000\\n     7 P7        1.7058    1.9658   -0.1264   P.3       2 RES2   0.0000\\n     8 P8        0.5247    1.7725   -1.7697   P.3       2 RES2   0.0000\\n     9 P9        1.7855    0.1403    1.1531   P.3       2 RES2   0.0000\\n    10 As1      -0.2512   -0.8675    1.7009   As        2 RES2   0.0000\\n    11 P10      -1.7025   -0.9598   -0.0473   P.3       2 RES2   0.0000\\n@<TRIPOS>BOND\\n     1     1     2    1\\n     2     3     5    1\\n     3     3     6    1\\n     4     3    10    1\\n     5     3    11    1\\n     6     4     5    1\\n     7     4     8    1\\n     8     4    11    1\\n     9     5     6    1\\n    10     6     9    1\\n    11     7     8    1\\n    12     7     9    1\\n    13     9    10    1\\n    14    10    11    1\\n@<TRIPOS>SUBSTRUCTURE\\n     1 RES1        2 GROUP             0 ****  ****    0  \\n     2 RES2        9 GROUP             0 ****  ****    0  \\n\",\"mol2\",{\"keepH\": true});\n",
       "\tviewergrid_1753918268360368[1][3].addStyle({\"sphere\": {\"colorscheme\": \"Jmol\", \"scale\": 0.3}});\n",
       "\tviewergrid_1753918268360368[1][3].addStyle({\"stick\": {\"colorscheme\": \"Jmol\", \"radius\": 0.25}});\n",
       "\tviewergrid_1753918268360368[1][3].zoomTo();\n",
       "\tviewergrid_1753918268360368[2][0].addModel(\"@<TRIPOS>MOLECULE\\ntmp.mol2\\n    11    14     1     0     0\\nSMALL\\nNoCharges\\n****\\nGenerated from Architector\\n\\n@<TRIPOS>ATOM\\n     1 P1       -2.4638    2.4548    1.0625   P.3       1 RES1   0.0000\\n     2 P2       -1.1088    1.9207    2.3471   P.3       1 RES1   0.0000\\n     3 P3       -0.3423   -2.5926   -0.0749   P.3       1 RES1   0.0000\\n     4 P4       -0.6306   -0.0794   -2.0475   P.3       1 RES1   0.0000\\n     5 P5        0.7614   -1.8637   -1.8489   P.3       1 RES1   0.0000\\n     6 P6        1.7976   -1.8996    0.0528   P.3       1 RES1   0.0000\\n     7 P7        1.7052    1.9267   -0.2898   P.3       1 RES1   0.0000\\n     8 P8        0.2243    1.9034   -1.7114   P.3       1 RES1   0.0000\\n     9 P9        1.9036    0.1314    0.9520   P.3       1 RES1   0.0000\\n    10 As1      -0.2658   -0.3875    1.6978   As        1 RES1   0.0000\\n    11 P10      -1.5806   -0.7520   -0.1393   P.3       1 RES1   0.0000\\n@<TRIPOS>BOND\\n     1     1     2    1\\n     2     2    10    1\\n     3     3     5    1\\n     4     3     6    1\\n     5     3    11    1\\n     6     4     5    1\\n     7     4     8    1\\n     8     4    11    1\\n     9     5     6    1\\n    10     6     9    1\\n    11     7     8    1\\n    12     7     9    1\\n    13     9    10    1\\n    14    10    11    1\\n@<TRIPOS>SUBSTRUCTURE\\n     1 RES1       11 GROUP             0 ****  ****    0  \\n\",\"mol2\",{\"keepH\": true});\n",
       "\tviewergrid_1753918268360368[2][0].addStyle({\"sphere\": {\"colorscheme\": \"Jmol\", \"scale\": 0.3}});\n",
       "\tviewergrid_1753918268360368[2][0].addStyle({\"stick\": {\"colorscheme\": \"Jmol\", \"radius\": 0.25}});\n",
       "\tviewergrid_1753918268360368[2][0].zoomTo();\n",
       "\tviewergrid_1753918268360368[2][1].addModel(\"@<TRIPOS>MOLECULE\\ntmp.mol2\\n    11    14     1     0     0\\nSMALL\\nNoCharges\\n****\\nGenerated from Architector\\n\\n@<TRIPOS>ATOM\\n     1 P1       -2.4768    2.6019    1.2087   P.3       1 RES1   0.0000\\n     2 P2       -1.0931    1.8998    2.3794   P.3       1 RES1   0.0000\\n     3 P3       -0.3354   -2.6508   -0.2071   P.3       1 RES1   0.0000\\n     4 P4       -0.6475   -0.1401   -2.0357   P.3       1 RES1   0.0000\\n     5 P5        0.8602   -1.8010   -1.8634   P.3       1 RES1   0.0000\\n     6 P6        1.7660   -1.8654    0.1181   P.3       1 RES1   0.0000\\n     7 P7        1.7060    1.9259   -0.3678   P.3       1 RES1   0.0000\\n     8 P8        0.2888    1.8299   -1.8414   P.3       1 RES1   0.0000\\n     9 P9        1.8277    0.1859    0.9967   P.3       1 RES1   0.0000\\n    10 As1      -0.2965   -0.4062    1.7352   As        1 RES1   0.0000\\n    11 P10      -1.5993   -0.8177   -0.1224   P.3       1 RES1   0.0000\\n@<TRIPOS>BOND\\n     1     1     2    1\\n     2     2    10    1\\n     3     3     5    1\\n     4     3     6    1\\n     5     3    11    1\\n     6     4     5    1\\n     7     4     8    1\\n     8     4    11    1\\n     9     5     6    1\\n    10     6     9    1\\n    11     7     8    1\\n    12     7     9    1\\n    13     9    10    1\\n    14    10    11    1\\n@<TRIPOS>SUBSTRUCTURE\\n     1 RES1       11 GROUP             0 ****  ****    0  \\n\",\"mol2\",{\"keepH\": true});\n",
       "\tviewergrid_1753918268360368[2][1].addStyle({\"sphere\": {\"colorscheme\": \"Jmol\", \"scale\": 0.3}});\n",
       "\tviewergrid_1753918268360368[2][1].addStyle({\"stick\": {\"colorscheme\": \"Jmol\", \"radius\": 0.25}});\n",
       "\tviewergrid_1753918268360368[2][1].zoomTo();\n",
       "\tviewergrid_1753918268360368[2][2].addModel(\"@<TRIPOS>MOLECULE\\ntmp.mol2\\n     8     9     1     0     0\\nSMALL\\nNoCharges\\n****\\nGenerated from Architector\\n\\n@<TRIPOS>ATOM\\n     1 P1        1.6842   -1.2551    0.2468   P.3       1 RES1   0.0000\\n     2 Si1       0.6021    0.3763    1.9921   Si        1 RES1   0.0000\\n     3 P2       -1.4724    0.5221   -1.4256   P.3       1 RES1   0.0000\\n     4 P3        1.7673    0.3048   -1.1209   P.3       1 RES1   0.0000\\n     5 Si2      -1.3825    0.7017    1.4384   Si        1 RES1   0.0000\\n     6 Si3      -0.3507   -1.1864   -1.7153   Si        1 RES1   0.0000\\n     7 P4        0.1715    2.1057   -0.0963   P.3       1 RES1   0.0000\\n     8 Se1      -0.9957   -1.7352    0.6859   Se        1 RES1   0.0000\\n@<TRIPOS>BOND\\n     1     1     2    1\\n     2     1     4    1\\n     3     2     5    1\\n     4     3     6    1\\n     5     4     6    1\\n     6     4     7    1\\n     7     5     7    1\\n     8     5     8    1\\n     9     6     8    1\\n@<TRIPOS>SUBSTRUCTURE\\n     1 RES1        8 GROUP             0 ****  ****    0  \\n\",\"mol2\",{\"keepH\": true});\n",
       "\tviewergrid_1753918268360368[2][2].addStyle({\"sphere\": {\"colorscheme\": \"Jmol\", \"scale\": 0.3}});\n",
       "\tviewergrid_1753918268360368[2][2].addStyle({\"stick\": {\"colorscheme\": \"Jmol\", \"radius\": 0.25}});\n",
       "\tviewergrid_1753918268360368[2][2].zoomTo();\n",
       "\tviewergrid_1753918268360368[2][3].addModel(\"@<TRIPOS>MOLECULE\\ntmp.mol2\\n     8    12     1     0     0\\nSMALL\\nNoCharges\\n****\\nGenerated from Architector\\n\\n@<TRIPOS>ATOM\\n     1 P1        1.5522   -1.1749    0.3527   P.3       1 RES1   0.0000\\n     2 Si1       0.8462    0.2583    1.9749   Si        1 RES1   0.0000\\n     3 P2       -1.4365    0.8555   -1.2330   P.3       1 RES1   0.0000\\n     4 P3        1.5645    0.3654   -1.1088   P.3       1 RES1   0.0000\\n     5 Si2      -1.6224    0.7415    1.2129   Si        1 RES1   0.0000\\n     6 Si3      -0.2095   -1.2591   -1.7359   Si        1 RES1   0.0000\\n     7 P4        0.1618    1.7578   -0.2134   P.3       1 RES1   0.0000\\n     8 Se1      -0.8325   -1.7106    0.7559   Se        1 RES1   0.0000\\n@<TRIPOS>BOND\\n     1     1     2    1\\n     2     1     4    1\\n     3     1     8    1\\n     4     2     5    1\\n     5     3     5    1\\n     6     3     6    1\\n     7     3     7    1\\n     8     4     6    1\\n     9     4     7    1\\n    10     5     7    1\\n    11     5     8    1\\n    12     6     8    1\\n@<TRIPOS>SUBSTRUCTURE\\n     1 RES1        8 GROUP             0 ****  ****    0  \\n\",\"mol2\",{\"keepH\": true});\n",
       "\tviewergrid_1753918268360368[2][3].addStyle({\"sphere\": {\"colorscheme\": \"Jmol\", \"scale\": 0.3}});\n",
       "\tviewergrid_1753918268360368[2][3].addStyle({\"stick\": {\"colorscheme\": \"Jmol\", \"radius\": 0.25}});\n",
       "\tviewergrid_1753918268360368[2][3].zoomTo();\n",
       "viewergrid_1753918268360368[2][3].render();\n",
       "viewergrid_1753918268360368[2][2].render();\n",
       "viewergrid_1753918268360368[2][1].render();\n",
       "viewergrid_1753918268360368[2][0].render();\n",
       "viewergrid_1753918268360368[1][3].render();\n",
       "viewergrid_1753918268360368[1][2].render();\n",
       "viewergrid_1753918268360368[1][1].render();\n",
       "viewergrid_1753918268360368[1][0].render();\n",
       "viewergrid_1753918268360368[0][3].render();\n",
       "viewergrid_1753918268360368[0][2].render();\n",
       "viewergrid_1753918268360368[0][1].render();\n",
       "viewergrid_1753918268360368[0][0].render();\n",
       "});\n",
       "</script>"
      ]
     },
     "metadata": {},
     "output_type": "display_data"
    }
   ],
   "source": [
    "view_structures(odf.iloc[20000:20012].xyz)"
   ]
  },
  {
   "cell_type": "code",
   "execution_count": 19,
   "id": "6d2e4324-b241-4ad1-903c-1767b5d69f1d",
   "metadata": {},
   "outputs": [
    {
     "data": {
      "text/plain": [
       "(135227, 5)"
      ]
     },
     "execution_count": 19,
     "metadata": {},
     "output_type": "execute_result"
    }
   ],
   "source": [
    "odf.shape"
   ]
  },
  {
   "cell_type": "code",
   "execution_count": 24,
   "id": "91e01ce2-4dec-4c60-90dd-fe050e7e6cfd",
   "metadata": {},
   "outputs": [],
   "source": [
    "subset = odf[['name','charge','mult','xyz']]"
   ]
  },
  {
   "cell_type": "code",
   "execution_count": 26,
   "id": "914bd949-92d6-47ff-9e56-2f86105d8160",
   "metadata": {},
   "outputs": [],
   "source": [
    "subset['charge'] = [int(x) for x in subset.charge.values]"
   ]
  },
  {
   "cell_type": "code",
   "execution_count": 27,
   "id": "36110501-187c-4158-8eb2-3d6ead78c36b",
   "metadata": {},
   "outputs": [],
   "source": [
    "subset.to_csv('only_name_charge_mult_xyz.csv',index=False)"
   ]
  },
  {
   "cell_type": "code",
   "execution_count": 28,
   "id": "a92de935-9b9e-4d32-ae73-820e768d628d",
   "metadata": {},
   "outputs": [
    {
     "name": "stdout",
     "output_type": "stream",
     "text": [
      "37M\tonly_name_charge_mult_xyz.csv\n"
     ]
    }
   ],
   "source": [
    "!du -sh only_name_charge_mult_xyz.csv"
   ]
  },
  {
   "cell_type": "code",
   "execution_count": null,
   "id": "150c1d5b-7b4d-4d22-a390-6093503d36d5",
   "metadata": {},
   "outputs": [],
   "source": []
  }
 ],
 "metadata": {
  "kernelspec": {
   "display_name": "m4292_sam",
   "language": "python",
   "name": "conda-env"
  },
  "language_info": {
   "codemirror_mode": {
    "name": "ipython",
    "version": 3
   },
   "file_extension": ".py",
   "mimetype": "text/x-python",
   "name": "python",
   "nbconvert_exporter": "python",
   "pygments_lexer": "ipython3",
   "version": "3.12.10"
  }
 },
 "nbformat": 4,
 "nbformat_minor": 5
}
